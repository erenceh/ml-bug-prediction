{
 "cells": [
  {
   "cell_type": "markdown",
   "id": "29e45e4e",
   "metadata": {},
   "source": [
    "# Automated Bug Priority Predictor\n",
    "\n",
    "## Overview\n",
    "This project aims to develop a machine learning model that predicts the **priority level of software bug reports** based on their text descriptions and metadata.\n",
    "By automating the triage process, software teams can save time and focus on resolving critical issues faster.\n",
    "\n",
    "## Stack\n",
    "- **Frontend:** Streamlit\n",
    "- **Backend:** FastAPI\n",
    "- **Database:** SQLite wit SQLAlchemy ORM\n",
    "- **ML Environment:** Python (Jupyter Notebook, scikit-learn, pandas, nltk)\n",
    "- **Datasets:** GitHub Issues Dataset and GitBugs/ms_vscode_bugs (Kaggle)\n",
    "  - GitHub Issues: https://www.kaggle.com/datasets/davidshinn/github-issues?resource=download\n",
    "  - GitBugs: https://www.kaggle.com/datasets/av9ash/gitbugs/data\n",
    "\n",
    "\n",
    "---\n",
    "\n",
    "# 02 Baseline Modeling\n",
    "\n",
    "## Objective\n",
    "In this notebook, we build and evaluate a baseline text classification model for predicting bug priority levels (`Critical`, `High`, `Medium`, `Low`) from issue text.\n",
    "\n",
    "## Notebook Goals\n",
    "1. Load the preprocessed data and TF-IDF features.\n",
    "2. Train a baseline text classification model.\n",
    "    - Naive Bayes\n",
    "    - Logistic Regression\n",
    "    - Random Forest Classifier\n",
    "3. Evaluate performance.\n",
    "    - Confusion matrix\n",
    "    - Precision\n",
    "    - Recall\n",
    "    - F1-score\n",
    "    - Classification report\n",
    "4. Identify areas for improvement for future models.\n",
    "5. Perform hyperparameter tuning with GridSearchCV or RandomizedSearchCV"
   ]
  },
  {
   "cell_type": "code",
   "execution_count": 30,
   "id": "d71f1c35",
   "metadata": {},
   "outputs": [],
   "source": [
    "# Standard data libraries\n",
    "import pandas as pd\n",
    "import numpy as np\n",
    "\n",
    "# Visualization\n",
    "import matplotlib.pyplot as plt\n",
    "import seaborn as sns\n",
    "\n",
    "# Machine Learning\n",
    "from sklearn.naive_bayes import MultinomialNB\n",
    "from sklearn.linear_model import LogisticRegression\n",
    "from sklearn.ensemble import RandomForestClassifier\n",
    "\n",
    "# Optional ML DistilBERT\n",
    "\n",
    "# Evaluation Metrics\n",
    "from sklearn.metrics import confusion_matrix, ConfusionMatrixDisplay, precision_score, accuracy_score, recall_score, f1_score, classification_report\n",
    "\n",
    "from sklearn.model_selection import train_test_split, GridSearchCV, RandomizedSearchCV\n",
    "\n",
    "# Utilities\n",
    "import joblib"
   ]
  },
  {
   "cell_type": "markdown",
   "id": "adfeab55",
   "metadata": {},
   "source": [
    "## Load Preprocessed Data and TF-IDF Features"
   ]
  },
  {
   "cell_type": "code",
   "execution_count": 31,
   "id": "53566098",
   "metadata": {},
   "outputs": [],
   "source": [
    "processed_df = joblib.load(\"../../data/processed/processed_github_issues_df.joblib\")\n",
    "X = joblib.load(\"../../data/processed/tfidf/X_tfidf.joblib\")\n",
    "y = joblib.load(\"../../data/processed/tfidf/y_labels.joblib\")"
   ]
  },
  {
   "cell_type": "code",
   "execution_count": 32,
   "id": "360c2b66",
   "metadata": {},
   "outputs": [
    {
     "name": "stdout",
     "output_type": "stream",
     "text": [
      "Shape of TF-IDF feature matrix (X):  (21241, 10000)\n",
      "Shape of label vector (y):  (21241,)\n"
     ]
    }
   ],
   "source": [
    "print(\"Shape of TF-IDF feature matrix (X): \", X.shape)\n",
    "print(\"Shape of label vector (y): \", y.shape)"
   ]
  },
  {
   "cell_type": "code",
   "execution_count": 33,
   "id": "5ef9a5d3",
   "metadata": {},
   "outputs": [
    {
     "data": {
      "text/html": [
       "<div>\n",
       "<style scoped>\n",
       "    .dataframe tbody tr th:only-of-type {\n",
       "        vertical-align: middle;\n",
       "    }\n",
       "\n",
       "    .dataframe tbody tr th {\n",
       "        vertical-align: top;\n",
       "    }\n",
       "\n",
       "    .dataframe thead th {\n",
       "        text-align: right;\n",
       "    }\n",
       "</style>\n",
       "<table border=\"1\" class=\"dataframe\">\n",
       "  <thead>\n",
       "    <tr style=\"text-align: right;\">\n",
       "      <th></th>\n",
       "      <th>clean_text</th>\n",
       "      <th>word_count</th>\n",
       "      <th>priority</th>\n",
       "    </tr>\n",
       "  </thead>\n",
       "  <tbody>\n",
       "    <tr>\n",
       "      <th>1</th>\n",
       "      <td>long string input commandline fail long string...</td>\n",
       "      <td>24</td>\n",
       "      <td>High</td>\n",
       "    </tr>\n",
       "    <tr>\n",
       "      <th>2</th>\n",
       "      <td>raster simulation rendering lw4 raster display...</td>\n",
       "      <td>116</td>\n",
       "      <td>Low</td>\n",
       "    </tr>\n",
       "    <tr>\n",
       "      <th>4</th>\n",
       "      <td>first reading adc without adc start adc temper...</td>\n",
       "      <td>122</td>\n",
       "      <td>Medium</td>\n",
       "    </tr>\n",
       "    <tr>\n",
       "      <th>7</th>\n",
       "      <td>retrieve booking specific customer id use case...</td>\n",
       "      <td>70</td>\n",
       "      <td>High</td>\n",
       "    </tr>\n",
       "    <tr>\n",
       "      <th>10</th>\n",
       "      <td>recognise bucket name using djangos3storage011...</td>\n",
       "      <td>145</td>\n",
       "      <td>High</td>\n",
       "    </tr>\n",
       "  </tbody>\n",
       "</table>\n",
       "</div>"
      ],
      "text/plain": [
       "                                           clean_text  word_count priority\n",
       "1   long string input commandline fail long string...          24     High\n",
       "2   raster simulation rendering lw4 raster display...         116      Low\n",
       "4   first reading adc without adc start adc temper...         122   Medium\n",
       "7   retrieve booking specific customer id use case...          70     High\n",
       "10  recognise bucket name using djangos3storage011...         145     High"
      ]
     },
     "execution_count": 33,
     "metadata": {},
     "output_type": "execute_result"
    }
   ],
   "source": [
    "processed_df.head()"
   ]
  },
  {
   "cell_type": "code",
   "execution_count": 34,
   "id": "e9da69d1",
   "metadata": {},
   "outputs": [
    {
     "data": {
      "text/plain": [
       "1       High\n",
       "2        Low\n",
       "4     Medium\n",
       "7       High\n",
       "10      High\n",
       "Name: priority, dtype: object"
      ]
     },
     "execution_count": 34,
     "metadata": {},
     "output_type": "execute_result"
    }
   ],
   "source": [
    "y.head()"
   ]
  },
  {
   "cell_type": "code",
   "execution_count": 35,
   "id": "0f409ca4",
   "metadata": {},
   "outputs": [],
   "source": [
    "# Split data into train and test sets\n",
    "X_train, X_test, y_train, y_test = train_test_split(X,\n",
    "                                                    y,\n",
    "                                                    test_size=0.2,\n",
    "                                                    random_state=42,\n",
    "                                                    stratify=y)"
   ]
  },
  {
   "cell_type": "code",
   "execution_count": 36,
   "id": "26c28513",
   "metadata": {},
   "outputs": [
    {
     "name": "stdout",
     "output_type": "stream",
     "text": [
      "X_train shape: (16992, 10000)\n",
      "X_test shape: (4249, 10000)\n",
      "y_train shape: (16992,)\n",
      "y_test shape: (4249,)\n"
     ]
    }
   ],
   "source": [
    "print(\"X_train shape:\", X_train.shape)\n",
    "print(\"X_test shape:\", X_test.shape)\n",
    "print(\"y_train shape:\", y_train.shape)\n",
    "print(\"y_test shape:\", y_test.shape)"
   ]
  },
  {
   "cell_type": "code",
   "execution_count": 37,
   "id": "2fbc5a44",
   "metadata": {},
   "outputs": [
    {
     "data": {
      "text/plain": [
       "(priority\n",
       " High        7716\n",
       " Low         4444\n",
       " Critical    2521\n",
       " Medium      2311\n",
       " Name: count, dtype: int64,\n",
       " priority\n",
       " High        1929\n",
       " Low         1111\n",
       " Critical     631\n",
       " Medium       578\n",
       " Name: count, dtype: int64)"
      ]
     },
     "execution_count": 37,
     "metadata": {},
     "output_type": "execute_result"
    }
   ],
   "source": [
    "y_train.value_counts(), y_test.value_counts()"
   ]
  },
  {
   "cell_type": "code",
   "execution_count": 38,
   "id": "cd6e7338",
   "metadata": {},
   "outputs": [],
   "source": [
    "# Check how many samples per class in training and test sets\n",
    "train_counts = y_train.value_counts()\n",
    "test_counts = y_test.value_counts()\n",
    "\n",
    "# Get total samples in each split\n",
    "train_total = len(y_train)\n",
    "test_total = len(y_test)\n",
    "\n",
    "# Convert counts to relative frequencies\n",
    "train_percentages = round((train_counts / train_total) * 100, 1)\n",
    "test_percentages = round((test_counts / test_total) * 100, 1)"
   ]
  },
  {
   "cell_type": "code",
   "execution_count": 39,
   "id": "6821bc9d",
   "metadata": {},
   "outputs": [
    {
     "data": {
      "text/html": [
       "<div>\n",
       "<style scoped>\n",
       "    .dataframe tbody tr th:only-of-type {\n",
       "        vertical-align: middle;\n",
       "    }\n",
       "\n",
       "    .dataframe tbody tr th {\n",
       "        vertical-align: top;\n",
       "    }\n",
       "\n",
       "    .dataframe thead th {\n",
       "        text-align: right;\n",
       "    }\n",
       "</style>\n",
       "<table border=\"1\" class=\"dataframe\">\n",
       "  <thead>\n",
       "    <tr style=\"text-align: right;\">\n",
       "      <th></th>\n",
       "      <th>Train %</th>\n",
       "      <th>Test %</th>\n",
       "    </tr>\n",
       "    <tr>\n",
       "      <th>priority</th>\n",
       "      <th></th>\n",
       "      <th></th>\n",
       "    </tr>\n",
       "  </thead>\n",
       "  <tbody>\n",
       "    <tr>\n",
       "      <th>High</th>\n",
       "      <td>45.4</td>\n",
       "      <td>45.4</td>\n",
       "    </tr>\n",
       "    <tr>\n",
       "      <th>Low</th>\n",
       "      <td>26.2</td>\n",
       "      <td>26.1</td>\n",
       "    </tr>\n",
       "    <tr>\n",
       "      <th>Critical</th>\n",
       "      <td>14.8</td>\n",
       "      <td>14.9</td>\n",
       "    </tr>\n",
       "    <tr>\n",
       "      <th>Medium</th>\n",
       "      <td>13.6</td>\n",
       "      <td>13.6</td>\n",
       "    </tr>\n",
       "  </tbody>\n",
       "</table>\n",
       "</div>"
      ],
      "text/plain": [
       "          Train %  Test %\n",
       "priority                 \n",
       "High         45.4    45.4\n",
       "Low          26.2    26.1\n",
       "Critical     14.8    14.9\n",
       "Medium       13.6    13.6"
      ]
     },
     "execution_count": 39,
     "metadata": {},
     "output_type": "execute_result"
    }
   ],
   "source": [
    "# Compare distribution\n",
    "comparison_table = pd.DataFrame({\n",
    "  \"Train %\": train_percentages,\n",
    "  \"Test %\": test_percentages\n",
    "})\n",
    "comparison_table"
   ]
  },
  {
   "cell_type": "markdown",
   "id": "9aa65b45",
   "metadata": {},
   "source": [
    "## Train Baseline Models\n",
    "\n",
    "- Naive Bayes\n",
    "- Logistic Regression\n",
    "- Random Forest Classifier"
   ]
  },
  {
   "cell_type": "code",
   "execution_count": 40,
   "id": "93124997",
   "metadata": {},
   "outputs": [],
   "source": [
    "# Put models in a dictionary\n",
    "models = {\n",
    "  \"Naive Bayes\": MultinomialNB(),\n",
    "  \"Logistic Regression\": LogisticRegression(),\n",
    "  \"Random Forest Classifier\": RandomForestClassifier()\n",
    "}\n",
    "\n",
    "# Create a function to fit and score models\n",
    "def fit_and_score(models, X_train, X_test, y_train, y_test):\n",
    "  \"\"\"\n",
    "  Fit machine learning models on training data and evaluate their accuracy on test data.\n",
    "\n",
    "  Args:\n",
    "      models (dict): A dictionary of model name strings to instantiated model objects.\n",
    "      X_train (array-like or sparse matrix): Training feature matrix.\n",
    "      X_test (array-like or sparse matrix): Test feature matrix.\n",
    "      y_train (array-like): Training labels.\n",
    "      y_test (array-like): Test labels.\n",
    "\n",
    "  Returns:\n",
    "      dict: A dictionary mapping model names to their accuracy scores on the test set.\n",
    "  \"\"\"\n",
    "  np.random.seed(42)\n",
    "  model_scores = {}\n",
    "  \n",
    "  for name, model in models.items():\n",
    "    model.fit(X_train, y_train)\n",
    "    model_scores[name] = model.score(X_test, y_test)\n",
    "  \n",
    "  return model_scores"
   ]
  },
  {
   "cell_type": "code",
   "execution_count": 41,
   "id": "55374888",
   "metadata": {},
   "outputs": [
    {
     "data": {
      "text/plain": [
       "{'Naive Bayes': 0.6323840903742057,\n",
       " 'Logistic Regression': 0.8199576370910803,\n",
       " 'Random Forest Classifier': 0.875500117674747}"
      ]
     },
     "execution_count": 41,
     "metadata": {},
     "output_type": "execute_result"
    }
   ],
   "source": [
    "model_scores = fit_and_score(models=models,\n",
    "                              X_train=X_train,\n",
    "                              X_test=X_test,\n",
    "                              y_train=y_train,\n",
    "                              y_test=y_test)\n",
    "\n",
    "model_scores"
   ]
  },
  {
   "cell_type": "code",
   "execution_count": 42,
   "id": "63d2c13f",
   "metadata": {},
   "outputs": [
    {
     "data": {
      "text/plain": [
       "<Axes: >"
      ]
     },
     "execution_count": 42,
     "metadata": {},
     "output_type": "execute_result"
    },
    {
     "data": {
      "image/png": "[encoded data removed]",
      "text/plain": [
       "<Figure size 640x480 with 1 Axes>"
      ]
     },
     "metadata": {},
     "output_type": "display_data"
    }
   ],
   "source": [
    "model_compare = pd.DataFrame(model_scores, index=[\"accuracy\"])\n",
    "model_compare.T.plot.bar()"
   ]
  },
  {
   "cell_type": "markdown",
   "id": "18949dac",
   "metadata": {},
   "source": [
    "## Evaluate performance\n",
    "\n",
    "- Confusion matrix\n",
    "- Precision\n",
    "- Recall\n",
    "- F1-score\n",
    "- Classification report\n",
    "\n",
    "(Optional)\n",
    "- Accuracy\n",
    "- Cross-validation\n",
    "- Feature importance"
   ]
  },
  {
   "cell_type": "code",
   "execution_count": 43,
   "id": "3e35346f",
   "metadata": {},
   "outputs": [
    {
     "data": {
      "image/png": "[encoded data removed]",
      "text/plain": [
       "<Figure size 600x600 with 1 Axes>"
      ]
     },
     "metadata": {},
     "output_type": "display_data"
    },
    {
     "name": "stdout",
     "output_type": "stream",
     "text": [
      "Classification report for Naive Bayes\n",
      "              precision    recall  f1-score   support\n",
      "\n",
      "    Critical       0.94      0.29      0.45       631\n",
      "        High       0.60      0.95      0.74      1929\n",
      "         Low       0.65      0.56      0.60      1111\n",
      "      Medium       0.85      0.09      0.16       578\n",
      "\n",
      "    accuracy                           0.63      4249\n",
      "   macro avg       0.76      0.47      0.49      4249\n",
      "weighted avg       0.70      0.63      0.58      4249\n",
      "\n"
     ]
    },
    {
     "data": {
      "image/png": "[encoded data removed]",
      "text/plain": [
       "<Figure size 600x600 with 1 Axes>"
      ]
     },
     "metadata": {},
     "output_type": "display_data"
    },
    {
     "name": "stdout",
     "output_type": "stream",
     "text": [
      "Classification report for Logistic Regression\n",
      "              precision    recall  f1-score   support\n",
      "\n",
      "    Critical       0.99      0.60      0.74       631\n",
      "        High       0.84      0.92      0.88      1929\n",
      "         Low       0.74      0.88      0.80      1111\n",
      "      Medium       0.86      0.59      0.70       578\n",
      "\n",
      "    accuracy                           0.82      4249\n",
      "   macro avg       0.85      0.75      0.78      4249\n",
      "weighted avg       0.84      0.82      0.81      4249\n",
      "\n"
     ]
    },
    {
     "data": {
      "image/png": "[encoded data removed]",
      "text/plain": [
       "<Figure size 600x600 with 1 Axes>"
      ]
     },
     "metadata": {},
     "output_type": "display_data"
    },
    {
     "name": "stdout",
     "output_type": "stream",
     "text": [
      "Classification report for Random Forest Classifier\n",
      "              precision    recall  f1-score   support\n",
      "\n",
      "    Critical       1.00      0.68      0.81       631\n",
      "        High       0.87      0.96      0.91      1929\n",
      "         Low       0.83      0.92      0.87      1111\n",
      "      Medium       0.93      0.73      0.82       578\n",
      "\n",
      "    accuracy                           0.88      4249\n",
      "   macro avg       0.91      0.82      0.85      4249\n",
      "weighted avg       0.88      0.88      0.87      4249\n",
      "\n"
     ]
    }
   ],
   "source": [
    "# For each model in baseline models\n",
    "eval_results = []\n",
    "\n",
    "for name, model in models.items():\n",
    "  y_pred = model.predict(X_test)\n",
    "  \n",
    "  cm = confusion_matrix(y_test, y_pred, labels=[\"Critical\", \"High\", \"Medium\", \"Low\"])\n",
    "  cm_normalized = cm.astype('float') / cm.sum(axis=1)[:, np.newaxis]\n",
    "  \n",
    "  fig, ax = plt.subplots(figsize=(6,6))\n",
    "  ax = sns.heatmap(cm_normalized, \n",
    "                   annot=True, \n",
    "                   fmt=\".2f\", \n",
    "                   cbar=False, \n",
    "                   xticklabels=[\"Critical\", \"High\", \"Medium\", \"Low\"], \n",
    "                   yticklabels=[\"Critical\", \"High\", \"Medium\", \"Low\"])\n",
    "  \n",
    "  plt.title(f\"Confusion Matrix for {name}\")\n",
    "  plt.ylabel(\"True label\")\n",
    "  plt.xlabel(\"Predicted label\")\n",
    "  plt.show()\n",
    "\n",
    "  precision = precision_score(y_test, y_pred, average='weighted')\n",
    "  accuracy = accuracy_score(y_test, y_pred)\n",
    "  recall = recall_score(y_test, y_pred, average='weighted')\n",
    "  macro_f1 = f1_score(y_test, y_pred, average='macro')\n",
    "  weighted_f1 = f1_score(y_test, y_pred, average='weighted')\n",
    "  \n",
    "  eval_results.append({\n",
    "    \"model\": name,\n",
    "    \"precision\": precision,\n",
    "    \"accuracy\": accuracy,\n",
    "    \"recall\": recall,\n",
    "    \"macro f1\": macro_f1,\n",
    "    \"weighted f1\": weighted_f1,\n",
    "    \"confusion_matrix\": cm_normalized\n",
    "  })\n",
    "  \n",
    "  print(f\"Classification report for {name}\")\n",
    "  print(classification_report(y_test, y_pred))\n",
    "  \n",
    "eval_df = pd.DataFrame(eval_results).sort_values(by=\"weighted f1\", ascending=False)"
   ]
  },
  {
   "cell_type": "code",
   "execution_count": 44,
   "id": "5c24a34b",
   "metadata": {},
   "outputs": [
    {
     "data": {
      "text/html": [
       "<div>\n",
       "<style scoped>\n",
       "    .dataframe tbody tr th:only-of-type {\n",
       "        vertical-align: middle;\n",
       "    }\n",
       "\n",
       "    .dataframe tbody tr th {\n",
       "        vertical-align: top;\n",
       "    }\n",
       "\n",
       "    .dataframe thead th {\n",
       "        text-align: right;\n",
       "    }\n",
       "</style>\n",
       "<table border=\"1\" class=\"dataframe\">\n",
       "  <thead>\n",
       "    <tr style=\"text-align: right;\">\n",
       "      <th></th>\n",
       "      <th>model</th>\n",
       "      <th>precision</th>\n",
       "      <th>accuracy</th>\n",
       "      <th>recall</th>\n",
       "      <th>macro f1</th>\n",
       "      <th>weighted f1</th>\n",
       "      <th>confusion_matrix</th>\n",
       "    </tr>\n",
       "  </thead>\n",
       "  <tbody>\n",
       "    <tr>\n",
       "      <th>2</th>\n",
       "      <td>Random Forest Classifier</td>\n",
       "      <td>0.884954</td>\n",
       "      <td>0.875500</td>\n",
       "      <td>0.875500</td>\n",
       "      <td>0.852235</td>\n",
       "      <td>0.872361</td>\n",
       "      <td>[[0.6798732171156894, 0.2202852614896989, 0.02...</td>\n",
       "    </tr>\n",
       "    <tr>\n",
       "      <th>1</th>\n",
       "      <td>Logistic Regression</td>\n",
       "      <td>0.835072</td>\n",
       "      <td>0.819958</td>\n",
       "      <td>0.819958</td>\n",
       "      <td>0.781469</td>\n",
       "      <td>0.814262</td>\n",
       "      <td>[[0.5974643423137876, 0.2266244057052298, 0.03...</td>\n",
       "    </tr>\n",
       "    <tr>\n",
       "      <th>0</th>\n",
       "      <td>Naive Bayes</td>\n",
       "      <td>0.699048</td>\n",
       "      <td>0.632384</td>\n",
       "      <td>0.632384</td>\n",
       "      <td>0.485812</td>\n",
       "      <td>0.579716</td>\n",
       "      <td>[[0.29160063391442154, 0.5451664025356577, 0.0...</td>\n",
       "    </tr>\n",
       "  </tbody>\n",
       "</table>\n",
       "</div>"
      ],
      "text/plain": [
       "                      model  precision  accuracy    recall  macro f1  \\\n",
       "2  Random Forest Classifier   0.884954  0.875500  0.875500  0.852235   \n",
       "1       Logistic Regression   0.835072  0.819958  0.819958  0.781469   \n",
       "0               Naive Bayes   0.699048  0.632384  0.632384  0.485812   \n",
       "\n",
       "   weighted f1                                   confusion_matrix  \n",
       "2     0.872361  [[0.6798732171156894, 0.2202852614896989, 0.02...  \n",
       "1     0.814262  [[0.5974643423137876, 0.2266244057052298, 0.03...  \n",
       "0     0.579716  [[0.29160063391442154, 0.5451664025356577, 0.0...  "
      ]
     },
     "metadata": {},
     "output_type": "display_data"
    }
   ],
   "source": [
    "display(eval_df)"
   ]
  },
  {
   "cell_type": "code",
   "execution_count": 46,
   "id": "24367c27",
   "metadata": {},
   "outputs": [
    {
     "data": {
      "text/html": [
       "<div>\n",
       "<style scoped>\n",
       "    .dataframe tbody tr th:only-of-type {\n",
       "        vertical-align: middle;\n",
       "    }\n",
       "\n",
       "    .dataframe tbody tr th {\n",
       "        vertical-align: top;\n",
       "    }\n",
       "\n",
       "    .dataframe thead th {\n",
       "        text-align: right;\n",
       "    }\n",
       "</style>\n",
       "<table border=\"1\" class=\"dataframe\">\n",
       "  <thead>\n",
       "    <tr style=\"text-align: right;\">\n",
       "      <th></th>\n",
       "      <th>0</th>\n",
       "    </tr>\n",
       "  </thead>\n",
       "  <tbody>\n",
       "    <tr>\n",
       "      <th>Naive Bayes</th>\n",
       "      <td>0.632384</td>\n",
       "    </tr>\n",
       "    <tr>\n",
       "      <th>Logistic Regression</th>\n",
       "      <td>0.819958</td>\n",
       "    </tr>\n",
       "    <tr>\n",
       "      <th>Random Forest Classifier</th>\n",
       "      <td>0.875500</td>\n",
       "    </tr>\n",
       "  </tbody>\n",
       "</table>\n",
       "</div>"
      ],
      "text/plain": [
       "                                 0\n",
       "Naive Bayes               0.632384\n",
       "Logistic Regression       0.819958\n",
       "Random Forest Classifier  0.875500"
      ]
     },
     "execution_count": 46,
     "metadata": {},
     "output_type": "execute_result"
    }
   ],
   "source": [
    "pd.DataFrame([model_scores]).T"
   ]
  },
  {
   "cell_type": "markdown",
   "id": "41e71dac",
   "metadata": {},
   "source": [
    "## Analysis of Baseline Model Performance\n",
    "\n",
    "#### Model Comparison\n",
    "\n",
    "I trained three baseline models: **Naive Bayes**, **Logistic Regression**, and **Random Forest Classifier**. Their overall performance metrics are summarized below:\n",
    "| Model |\tPrecision |\tAccuracy\t| Recall\t| Macro F1\t| Weighted F1\t|\n",
    "| - | - | - | - | - | - |\n",
    "|\tRandom Forest Classifier\t| 0.88\t| 0.88 |\t0.88\t| 0.85\t| 0.87 |\n",
    "|\tLogistic Regression\t| 0.84\t| 0.82\t| 0.82\t| 0.78 |\t0.81 |\n",
    "|\tNaive Bayes\t| 0.70\t| 0.63\t| 0.63\t| 0.49\t| 0.58 |\n",
    "\n",
    "**Insights:**\n",
    "- **Random Forest** is the strongest baseline model overall.\n",
    "- **Logistic Regression** performs reasonabliy well and is simpler to tune.\n",
    "- **Naive Bayes** struggles, particularly with distinguishing between overlapping priority classes.\n",
    "\n",
    "---\n",
    "\n",
    "#### Confusion Matrix Analysis\n",
    "\n",
    "Normalized confusion matrices highlight where models make mistakes:\n",
    "- **Random Forest:** minor confusion between `Critical -> High` (22%) and `Medium -> Low` (17%).\n",
    "- **Logistic Regression:** slightly higher confusion between `Critical -> High` (23%) and `Medium -> Low` (26%).\n",
    "- **Naive Bayes:** high misclassification, especially `Critical -> High` (55%) and `Medium -> High` (65%).\n",
    "\n",
    "**Observations:**\n",
    "- Misclassifications often occur **between adjacent priority levels**, which is expected given the overlapping keyword patterns in the weak supervised label dataset.\n",
    "- Random Forest handles feature interactions and overlapping keywords better than Naive Bayes.\n",
    "\n",
    "---\n",
    "\n",
    "#### Metric Insights\n",
    "\n",
    "- **Accuracy** gives a general sense of overall performance but can  be misleading with imbalanced classes.\n",
    "- **F1-score (macro and weighted)** is more informative for our imbalanced priority classes.\n",
    "- **Precision and Recall:**\n",
    "    - `Critical` and `High` predictions are slightly lower for Naive Bayes and Logistic Regression, indicating the model sometimes misses important bugs.\n",
    "- Random Forest consistently achieves the highest weighted F1-score (0.872), balancing performance across all classes.\n",
    "\n",
    "---\n",
    "\n",
    "#### Conclusion\n",
    "\n",
    "1. **Naive Bayes** is insufficient for this dataset due to overlapping text patterns and pseudo-label noise.\n",
    "2. **Random Forest** is the best baseline model and should be the first candidate for hyperparameter tuning.\n",
    "3. **Adjacent-class confusion** (`Critical <-> High`, `Medium <-> Low`) is the primary challenge, likely due to:\n",
    "    - Keyword-based pseudo-labeling noise\n",
    "    - Similar language used for bugs of slightly different priorities"
   ]
  },
  {
   "cell_type": "markdown",
   "id": "b5029d42",
   "metadata": {},
   "source": [
    "## Hyperparameter Tuning"
   ]
  },
  {
   "cell_type": "code",
   "execution_count": null,
   "id": "a5cd1bd3",
   "metadata": {},
   "outputs": [],
   "source": []
  }
 ],
 "metadata": {
  "kernelspec": {
   "display_name": "bug-triage-env",
   "language": "python",
   "name": "python3"
  },
  "language_info": {
   "codemirror_mode": {
    "name": "ipython",
    "version": 3
   },
   "file_extension": ".py",
   "mimetype": "text/x-python",
   "name": "python",
   "nbconvert_exporter": "python",
   "pygments_lexer": "ipython3",
   "version": "3.11.13"
  }
 },
 "nbformat": 4,
 "nbformat_minor": 5
}

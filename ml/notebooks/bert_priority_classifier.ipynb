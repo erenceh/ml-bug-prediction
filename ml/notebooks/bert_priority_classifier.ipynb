{
 "cells": [
  {
   "cell_type": "code",
   "execution_count": 1,
   "id": "6264ef97",
   "metadata": {},
   "outputs": [],
   "source": [
    "import pandas as pd\n",
    "import numpy as np\n",
    "import matplotlib.pyplot as plt\n",
    "import seaborn as sns\n",
    "import joblib\n",
    "from sklearn.model_selection import train_test_split\n",
    "from sklearn.preprocessing import LabelEncoder\n",
    "from sklearn.utils import resample\n",
    "from sklearn.utils.class_weight import compute_class_weight\n",
    "\n",
    "import torch\n",
    "from torch.nn import CrossEntropyLoss\n",
    "\n",
    "from transformers import (\n",
    "  AutoTokenizer, \n",
    "  AutoModelForSequenceClassification, \n",
    "  Trainer, \n",
    "  TrainingArguments,\n",
    "  DataCollatorWithPadding\n",
    ")\n",
    "\n",
    "from datasets import Dataset, DatasetDict\n",
    "from sklearn.metrics import (\n",
    "  accuracy_score,\n",
    "  f1_score,\n",
    "  precision_score,\n",
    "  recall_score,\n",
    "  confusion_matrix,\n",
    "  classification_report\n",
    "  )\n",
    "import os\n",
    "import json"
   ]
  },
  {
   "cell_type": "code",
   "execution_count": 2,
   "id": "3c667284",
   "metadata": {},
   "outputs": [],
   "source": [
    "device = torch.device(\"cuda\" if torch.cuda.is_available() else \"cpu\")"
   ]
  },
  {
   "cell_type": "code",
   "execution_count": 3,
   "id": "eba0e540",
   "metadata": {},
   "outputs": [
    {
     "data": {
      "text/html": [
       "<div>\n",
       "<style scoped>\n",
       "    .dataframe tbody tr th:only-of-type {\n",
       "        vertical-align: middle;\n",
       "    }\n",
       "\n",
       "    .dataframe tbody tr th {\n",
       "        vertical-align: top;\n",
       "    }\n",
       "\n",
       "    .dataframe thead th {\n",
       "        text-align: right;\n",
       "    }\n",
       "</style>\n",
       "<table border=\"1\" class=\"dataframe\">\n",
       "  <thead>\n",
       "    <tr style=\"text-align: right;\">\n",
       "      <th></th>\n",
       "      <th>Issue_id</th>\n",
       "      <th>Component</th>\n",
       "      <th>Title</th>\n",
       "      <th>Description</th>\n",
       "      <th>Status</th>\n",
       "      <th>Resolution</th>\n",
       "      <th>Priority</th>\n",
       "    </tr>\n",
       "  </thead>\n",
       "  <tbody>\n",
       "    <tr>\n",
       "      <th>0</th>\n",
       "      <td>1700</td>\n",
       "      <td>Layout</td>\n",
       "      <td>font size rounded font</td>\n",
       "      <td>piece code gfx round font size way netscape co...</td>\n",
       "      <td>VERIFIED</td>\n",
       "      <td>FIXED</td>\n",
       "      <td>0</td>\n",
       "    </tr>\n",
       "    <tr>\n",
       "      <th>1</th>\n",
       "      <td>7991</td>\n",
       "      <td>Plug-ins</td>\n",
       "      <td>land oop plugins mozilla central preffed</td>\n",
       "      <td>need land oop plugins mozilla central preffed ...</td>\n",
       "      <td>RESOLVED</td>\n",
       "      <td>FIXED</td>\n",
       "      <td>0</td>\n",
       "    </tr>\n",
       "    <tr>\n",
       "      <th>2</th>\n",
       "      <td>1150</td>\n",
       "      <td>XPCOM</td>\n",
       "      <td>com proxy code crash trying autoproxy paramete...</td>\n",
       "      <td>bug imported bugsplat netscape internal bugsys...</td>\n",
       "      <td>VERIFIED</td>\n",
       "      <td>FIXED</td>\n",
       "      <td>0</td>\n",
       "    </tr>\n",
       "    <tr>\n",
       "      <th>3</th>\n",
       "      <td>6143</td>\n",
       "      <td>XUL</td>\n",
       "      <td>crash setting display none grid row nsgrid get...</td>\n",
       "      <td>user agent mozilla gecko firefox build identif...</td>\n",
       "      <td>VERIFIED</td>\n",
       "      <td>FIXED</td>\n",
       "      <td>0</td>\n",
       "    </tr>\n",
       "    <tr>\n",
       "      <th>4</th>\n",
       "      <td>5952</td>\n",
       "      <td>Networking: Cache</td>\n",
       "      <td>limit memory cache reasonable value</td>\n",
       "      <td>ram using memory cache change bug take long ti...</td>\n",
       "      <td>VERIFIED</td>\n",
       "      <td>FIXED</td>\n",
       "      <td>0</td>\n",
       "    </tr>\n",
       "    <tr>\n",
       "      <th>...</th>\n",
       "      <td>...</td>\n",
       "      <td>...</td>\n",
       "      <td>...</td>\n",
       "      <td>...</td>\n",
       "      <td>...</td>\n",
       "      <td>...</td>\n",
       "      <td>...</td>\n",
       "    </tr>\n",
       "    <tr>\n",
       "      <th>52989</th>\n",
       "      <td>53192</td>\n",
       "      <td>Team</td>\n",
       "      <td>replicate functionality ggp</td>\n",
       "      <td>regular use often necessary able copy project ...</td>\n",
       "      <td>RESOLVED</td>\n",
       "      <td>WONTFIX</td>\n",
       "      <td>4</td>\n",
       "    </tr>\n",
       "    <tr>\n",
       "      <th>52990</th>\n",
       "      <td>53717</td>\n",
       "      <td>CSS Parsing and Computation</td>\n",
       "      <td>charset improve charset parsing cssloaderimpl ...</td>\n",
       "      <td>separated bug quoted bug additional comment da...</td>\n",
       "      <td>RESOLVED</td>\n",
       "      <td>FIXED</td>\n",
       "      <td>4</td>\n",
       "    </tr>\n",
       "    <tr>\n",
       "      <th>52991</th>\n",
       "      <td>53242</td>\n",
       "      <td>Migration</td>\n",
       "      <td>icab profile migrator</td>\n",
       "      <td></td>\n",
       "      <td>RESOLVED</td>\n",
       "      <td>WONTFIX</td>\n",
       "      <td>4</td>\n",
       "    </tr>\n",
       "    <tr>\n",
       "      <th>52992</th>\n",
       "      <td>53682</td>\n",
       "      <td>DOM: Core &amp; HTML</td>\n",
       "      <td>tablesectionelement doesnt default value</td>\n",
       "      <td>overview description tablesectionelement defau...</td>\n",
       "      <td>VERIFIED</td>\n",
       "      <td>FIXED</td>\n",
       "      <td>4</td>\n",
       "    </tr>\n",
       "    <tr>\n",
       "      <th>52993</th>\n",
       "      <td>53348</td>\n",
       "      <td>Panorama</td>\n",
       "      <td>closing group shouldnt require two click</td>\n",
       "      <td>find getting annoyed need close group close un...</td>\n",
       "      <td>RESOLVED</td>\n",
       "      <td>WONTFIX</td>\n",
       "      <td>4</td>\n",
       "    </tr>\n",
       "  </tbody>\n",
       "</table>\n",
       "<p>52767 rows × 7 columns</p>\n",
       "</div>"
      ],
      "text/plain": [
       "       Issue_id                    Component  \\\n",
       "0          1700                       Layout   \n",
       "1          7991                     Plug-ins   \n",
       "2          1150                        XPCOM   \n",
       "3          6143                          XUL   \n",
       "4          5952            Networking: Cache   \n",
       "...         ...                          ...   \n",
       "52989     53192                         Team   \n",
       "52990     53717  CSS Parsing and Computation   \n",
       "52991     53242                    Migration   \n",
       "52992     53682             DOM: Core & HTML   \n",
       "52993     53348                     Panorama   \n",
       "\n",
       "                                                   Title  \\\n",
       "0                                 font size rounded font   \n",
       "1               land oop plugins mozilla central preffed   \n",
       "2      com proxy code crash trying autoproxy paramete...   \n",
       "3      crash setting display none grid row nsgrid get...   \n",
       "4                    limit memory cache reasonable value   \n",
       "...                                                  ...   \n",
       "52989                        replicate functionality ggp   \n",
       "52990  charset improve charset parsing cssloaderimpl ...   \n",
       "52991                              icab profile migrator   \n",
       "52992           tablesectionelement doesnt default value   \n",
       "52993           closing group shouldnt require two click   \n",
       "\n",
       "                                             Description    Status Resolution  \\\n",
       "0      piece code gfx round font size way netscape co...  VERIFIED      FIXED   \n",
       "1      need land oop plugins mozilla central preffed ...  RESOLVED      FIXED   \n",
       "2      bug imported bugsplat netscape internal bugsys...  VERIFIED      FIXED   \n",
       "3      user agent mozilla gecko firefox build identif...  VERIFIED      FIXED   \n",
       "4      ram using memory cache change bug take long ti...  VERIFIED      FIXED   \n",
       "...                                                  ...       ...        ...   \n",
       "52989  regular use often necessary able copy project ...  RESOLVED    WONTFIX   \n",
       "52990  separated bug quoted bug additional comment da...  RESOLVED      FIXED   \n",
       "52991                                                     RESOLVED    WONTFIX   \n",
       "52992  overview description tablesectionelement defau...  VERIFIED      FIXED   \n",
       "52993  find getting annoyed need close group close un...  RESOLVED    WONTFIX   \n",
       "\n",
       "       Priority  \n",
       "0             0  \n",
       "1             0  \n",
       "2             0  \n",
       "3             0  \n",
       "4             0  \n",
       "...         ...  \n",
       "52989         4  \n",
       "52990         4  \n",
       "52991         4  \n",
       "52992         4  \n",
       "52993         4  \n",
       "\n",
       "[52767 rows x 7 columns]"
      ]
     },
     "execution_count": 3,
     "metadata": {},
     "output_type": "execute_result"
    }
   ],
   "source": [
    "processed_df = joblib.load(\"../../data/processed/processed_ISEC_train_df.joblib\")\n",
    "processed_df"
   ]
  },
  {
   "cell_type": "code",
   "execution_count": 4,
   "id": "145e9efd",
   "metadata": {},
   "outputs": [],
   "source": [
    "# processed_df[\"Text\"] = (\n",
    "#   \"Title: \" + processed_df[\"Title\"].fillna(\"\") + \". \" +\n",
    "#   \"Description: \" + processed_df[\"Description\"].fillna(\"\") + \". \" +\n",
    "#   \"Component: \" + processed_df[\"Component\"].fillna(\"unknown\") + \". \" +\n",
    "#   \"Status: \" + processed_df[\"Status\"].fillna(\"unknown\") + \". \" +\n",
    "#   \"Resolution: \" + processed_df[\"Resolution\"].fillna(\"unknown\")\n",
    "# )"
   ]
  },
  {
   "cell_type": "code",
   "execution_count": 5,
   "id": "5c98fbf0",
   "metadata": {},
   "outputs": [],
   "source": [
    "processed_df[\"Text\"] = (\n",
    "  \"[TITLE] Title: \" + processed_df[\"Title\"].fillna(\"\") + \" | \" +\n",
    "  \"[DESC] Description: \" + processed_df[\"Description\"].fillna(\"\") + \" | \" +\n",
    "  \"[META] Component: \" + processed_df[\"Component\"].fillna(\"unknown\") + \" | \" +\n",
    "  \"[META] Status: \" + processed_df[\"Status\"].fillna(\"unknown\") + \" | \" +\n",
    "  \"[META] Resolution: \" + processed_df[\"Resolution\"].fillna(\"unknown\")\n",
    ")"
   ]
  },
  {
   "cell_type": "code",
   "execution_count": 6,
   "id": "45ab106e",
   "metadata": {},
   "outputs": [],
   "source": [
    "processed_df = processed_df[[\"Text\", \"Priority\"]].copy()\n",
    "processed_df = processed_df.dropna(subset=[\"Text\", \"Priority\"])"
   ]
  },
  {
   "cell_type": "code",
   "execution_count": 7,
   "id": "75f4f06a",
   "metadata": {},
   "outputs": [
    {
     "data": {
      "text/html": [
       "<div>\n",
       "<style scoped>\n",
       "    .dataframe tbody tr th:only-of-type {\n",
       "        vertical-align: middle;\n",
       "    }\n",
       "\n",
       "    .dataframe tbody tr th {\n",
       "        vertical-align: top;\n",
       "    }\n",
       "\n",
       "    .dataframe thead th {\n",
       "        text-align: right;\n",
       "    }\n",
       "</style>\n",
       "<table border=\"1\" class=\"dataframe\">\n",
       "  <thead>\n",
       "    <tr style=\"text-align: right;\">\n",
       "      <th></th>\n",
       "      <th>Text</th>\n",
       "      <th>Priority</th>\n",
       "    </tr>\n",
       "  </thead>\n",
       "  <tbody>\n",
       "    <tr>\n",
       "      <th>0</th>\n",
       "      <td>[TITLE] Title: font size rounded font | [DESC]...</td>\n",
       "      <td>0</td>\n",
       "    </tr>\n",
       "    <tr>\n",
       "      <th>1</th>\n",
       "      <td>[TITLE] Title: land oop plugins mozilla centra...</td>\n",
       "      <td>0</td>\n",
       "    </tr>\n",
       "    <tr>\n",
       "      <th>2</th>\n",
       "      <td>[TITLE] Title: com proxy code crash trying aut...</td>\n",
       "      <td>0</td>\n",
       "    </tr>\n",
       "    <tr>\n",
       "      <th>3</th>\n",
       "      <td>[TITLE] Title: crash setting display none grid...</td>\n",
       "      <td>0</td>\n",
       "    </tr>\n",
       "    <tr>\n",
       "      <th>4</th>\n",
       "      <td>[TITLE] Title: limit memory cache reasonable v...</td>\n",
       "      <td>0</td>\n",
       "    </tr>\n",
       "    <tr>\n",
       "      <th>...</th>\n",
       "      <td>...</td>\n",
       "      <td>...</td>\n",
       "    </tr>\n",
       "    <tr>\n",
       "      <th>52989</th>\n",
       "      <td>[TITLE] Title: replicate functionality ggp | [...</td>\n",
       "      <td>4</td>\n",
       "    </tr>\n",
       "    <tr>\n",
       "      <th>52990</th>\n",
       "      <td>[TITLE] Title: charset improve charset parsing...</td>\n",
       "      <td>4</td>\n",
       "    </tr>\n",
       "    <tr>\n",
       "      <th>52991</th>\n",
       "      <td>[TITLE] Title: icab profile migrator | [DESC] ...</td>\n",
       "      <td>4</td>\n",
       "    </tr>\n",
       "    <tr>\n",
       "      <th>52992</th>\n",
       "      <td>[TITLE] Title: tablesectionelement doesnt defa...</td>\n",
       "      <td>4</td>\n",
       "    </tr>\n",
       "    <tr>\n",
       "      <th>52993</th>\n",
       "      <td>[TITLE] Title: closing group shouldnt require ...</td>\n",
       "      <td>4</td>\n",
       "    </tr>\n",
       "  </tbody>\n",
       "</table>\n",
       "<p>52767 rows × 2 columns</p>\n",
       "</div>"
      ],
      "text/plain": [
       "                                                    Text  Priority\n",
       "0      [TITLE] Title: font size rounded font | [DESC]...         0\n",
       "1      [TITLE] Title: land oop plugins mozilla centra...         0\n",
       "2      [TITLE] Title: com proxy code crash trying aut...         0\n",
       "3      [TITLE] Title: crash setting display none grid...         0\n",
       "4      [TITLE] Title: limit memory cache reasonable v...         0\n",
       "...                                                  ...       ...\n",
       "52989  [TITLE] Title: replicate functionality ggp | [...         4\n",
       "52990  [TITLE] Title: charset improve charset parsing...         4\n",
       "52991  [TITLE] Title: icab profile migrator | [DESC] ...         4\n",
       "52992  [TITLE] Title: tablesectionelement doesnt defa...         4\n",
       "52993  [TITLE] Title: closing group shouldnt require ...         4\n",
       "\n",
       "[52767 rows x 2 columns]"
      ]
     },
     "execution_count": 7,
     "metadata": {},
     "output_type": "execute_result"
    }
   ],
   "source": [
    "processed_df"
   ]
  },
  {
   "cell_type": "code",
   "execution_count": 8,
   "id": "fb8958c8",
   "metadata": {},
   "outputs": [],
   "source": [
    "processed_df[\"label\"] = processed_df[\"Priority\"].astype(int)"
   ]
  },
  {
   "cell_type": "code",
   "execution_count": 9,
   "id": "2d3f74ae",
   "metadata": {},
   "outputs": [
    {
     "name": "stdout",
     "output_type": "stream",
     "text": [
      "Num labels: 5, classes: [np.int64(0), np.int64(1), np.int64(2), np.int64(3), np.int64(4)]\n"
     ]
    }
   ],
   "source": [
    "num_labels = processed_df[\"label\"].nunique()\n",
    "print(f\"Num labels: {num_labels}, classes: {sorted(processed_df['label'].unique())}\")"
   ]
  },
  {
   "cell_type": "code",
   "execution_count": 10,
   "id": "3e8f27d2",
   "metadata": {},
   "outputs": [
    {
     "name": "stdout",
     "output_type": "stream",
     "text": [
      "Train shape:  (47490, 3)\n",
      "Validation shape:  (5277, 3)\n"
     ]
    }
   ],
   "source": [
    "train_df, val_df = train_test_split(\n",
    "  processed_df,\n",
    "  test_size=0.1,\n",
    "  random_state=42,\n",
    "  stratify=processed_df[\"label\"]\n",
    ")\n",
    "\n",
    "print(\"Train shape: \", train_df.shape)\n",
    "print(\"Validation shape: \", val_df.shape)"
   ]
  },
  {
   "cell_type": "code",
   "execution_count": 11,
   "id": "993cb934",
   "metadata": {},
   "outputs": [],
   "source": [
    "# dfs = [train_df[train_df[\"label\"] == cls] for cls in train_df[\"label\"].unique()]\n",
    "# max_count = max(len(df) for df in dfs)\n",
    "\n",
    "# dfs_upsampled = [\n",
    "#   resample(\n",
    "#     df,\n",
    "#     replace=True,\n",
    "#     n_samples=max_count,\n",
    "#     random_state=42\n",
    "#   )\n",
    "#   if len(df) < max_count else df\n",
    "#   for df in dfs\n",
    "# ]\n",
    "\n",
    "# train_df_balanced = pd.concat(dfs_upsampled).sample(frac=1, random_state=42).reset_index(drop=True)\n",
    "\n",
    "# print(\"Balanced class counts:\")\n",
    "# print(train_df_balanced[\"label\"].value_counts())"
   ]
  },
  {
   "cell_type": "code",
   "execution_count": 12,
   "id": "a3740e37",
   "metadata": {},
   "outputs": [],
   "source": [
    "dataset_train = Dataset.from_pandas(train_df.reset_index(drop=True))\n",
    "dataset_val = Dataset.from_pandas(val_df.reset_index(drop=True))\n",
    "ds = DatasetDict({\"train\": dataset_train, \"validation\": dataset_val})"
   ]
  },
  {
   "cell_type": "code",
   "execution_count": 13,
   "id": "4e6a4500",
   "metadata": {},
   "outputs": [],
   "source": [
    "tokenizer = AutoTokenizer.from_pretrained('bert-base-uncased')"
   ]
  },
  {
   "cell_type": "code",
   "execution_count": 14,
   "id": "ceeaa5cc",
   "metadata": {},
   "outputs": [],
   "source": [
    "def tokenize_fn(batch):\n",
    "  tokens = tokenizer(batch[\"Text\"], truncation=True, max_length=296)\n",
    "  tokens[\"labels\"] = batch[\"label\"]\n",
    "  return tokens"
   ]
  },
  {
   "cell_type": "code",
   "execution_count": 15,
   "id": "98dc7636",
   "metadata": {},
   "outputs": [
    {
     "data": {
      "application/vnd.jupyter.widget-view+json": {
       "model_id": "95c036d905d84dd796710002dbf31f50",
       "version_major": 2,
       "version_minor": 0
      },
      "text/plain": [
       "Map:   0%|          | 0/47490 [00:00<?, ? examples/s]"
      ]
     },
     "metadata": {},
     "output_type": "display_data"
    },
    {
     "data": {
      "application/vnd.jupyter.widget-view+json": {
       "model_id": "642c3caddeab4390876d25c0119b624e",
       "version_major": 2,
       "version_minor": 0
      },
      "text/plain": [
       "Map:   0%|          | 0/5277 [00:00<?, ? examples/s]"
      ]
     },
     "metadata": {},
     "output_type": "display_data"
    }
   ],
   "source": [
    "ds = ds.map(tokenize_fn, batched=True, remove_columns=[\"Text\", \"Priority\", \"label\"], keep_in_memory=True)"
   ]
  },
  {
   "cell_type": "code",
   "execution_count": 16,
   "id": "4c4604ab",
   "metadata": {},
   "outputs": [],
   "source": [
    "data_collator = DataCollatorWithPadding(tokenizer=tokenizer)"
   ]
  },
  {
   "cell_type": "code",
   "execution_count": 17,
   "id": "f6d7ad46",
   "metadata": {},
   "outputs": [
    {
     "name": "stdout",
     "output_type": "stream",
     "text": [
      "Class weights:  tensor([0.3661, 0.3480, 0.1058, 1.4321, 2.7480], device='cuda:0')\n"
     ]
    }
   ],
   "source": [
    "y_train = train_df[\"label\"].values\n",
    "weights = compute_class_weight(\"balanced\", classes=np.unique(y_train), y=y_train)\n",
    "weights = np.array(weights)\n",
    "weights = weights / weights.sum() * len(weights)\n",
    "class_weights = torch.tensor(weights, dtype=torch.float).to(device)\n",
    "print(\"Class weights: \", class_weights)"
   ]
  },
  {
   "cell_type": "code",
   "execution_count": 18,
   "id": "990594e7",
   "metadata": {},
   "outputs": [
    {
     "name": "stderr",
     "output_type": "stream",
     "text": [
      "Some weights of BertForSequenceClassification were not initialized from the model checkpoint at bert-base-uncased and are newly initialized: ['classifier.bias', 'classifier.weight']\n",
      "You should probably TRAIN this model on a down-stream task to be able to use it for predictions and inference.\n"
     ]
    }
   ],
   "source": [
    "model = AutoModelForSequenceClassification.from_pretrained(\n",
    "  \"bert-base-uncased\",\n",
    "  num_labels=num_labels\n",
    ").to(device)"
   ]
  },
  {
   "cell_type": "code",
   "execution_count": 19,
   "id": "e0158798",
   "metadata": {},
   "outputs": [],
   "source": [
    "class WeightedTrainer(Trainer):\n",
    "  def __init__(self, *args, class_weights=None, **kwargs):\n",
    "    super().__init__(*args, **kwargs)\n",
    "    self.class_weights = class_weights.to(self.args.device) if class_weights is not None else None\n",
    "    \n",
    "  def compute_loss(self, model, inputs, return_outputs=False, **kwargs):\n",
    "    labels = inputs.get(\"labels\")\n",
    "    outputs = model(**{k: v for k, v in inputs.items() if k != \"labels\"})\n",
    "    logits = outputs.logits\n",
    "    loss_fct = CrossEntropyLoss(weight=self.class_weights)\n",
    "    loss = loss_fct(logits.view(-1, model.config.num_labels), labels.view(-1))\n",
    "    return (loss, outputs) if return_outputs else loss"
   ]
  },
  {
   "cell_type": "code",
   "execution_count": 20,
   "id": "ebc9b5e3",
   "metadata": {},
   "outputs": [],
   "source": [
    "def compute_metric(pred):\n",
    "  logits = pred.predictions\n",
    "  preds = np.argmax(logits, axis=-1)\n",
    "  labels = pred.label_ids\n",
    "  \n",
    "  accuracy = accuracy_score(labels, preds)\n",
    "  precision_macro = precision_score(labels, preds, average=\"macro\", zero_division=0)\n",
    "  recall_macro = recall_score(labels, preds, average=\"macro\", zero_division=0)\n",
    "  f1_macro = f1_score(labels, preds, average=\"macro\")\n",
    "  \n",
    "  return {\n",
    "    \"accuracy\": accuracy,\n",
    "    \"precision_macro\": precision_macro,\n",
    "    \"recall_macro\": recall_macro,\n",
    "    \"f1_macro\": f1_macro\n",
    "  }"
   ]
  },
  {
   "cell_type": "code",
   "execution_count": 21,
   "id": "cca2b50e",
   "metadata": {},
   "outputs": [],
   "source": [
    "# Define training arguments\n",
    "training_args = TrainingArguments(\n",
    "  output_dir=\"../models/bert\",\n",
    "  per_device_train_batch_size=16,\n",
    "  per_device_eval_batch_size=16,\n",
    "  learning_rate=2e-5,\n",
    "  num_train_epochs=4,\n",
    "  eval_strategy=\"epoch\",\n",
    "  save_strategy=\"epoch\",\n",
    "  logging_dir=\"../models/bert/logs/\",\n",
    "  logging_steps=100,\n",
    "  weight_decay=0.01,\n",
    "  load_best_model_at_end=True,\n",
    "  metric_for_best_model=\"f1_macro\",\n",
    "  fp16=True\n",
    ")"
   ]
  },
  {
   "cell_type": "code",
   "execution_count": 22,
   "id": "bf8b6d26",
   "metadata": {},
   "outputs": [
    {
     "name": "stderr",
     "output_type": "stream",
     "text": [
      "C:\\Users\\rusty\\AppData\\Local\\Temp\\ipykernel_27080\\1673886968.py:3: FutureWarning: `tokenizer` is deprecated and will be removed in version 5.0.0 for `WeightedTrainer.__init__`. Use `processing_class` instead.\n",
      "  super().__init__(*args, **kwargs)\n"
     ]
    }
   ],
   "source": [
    "trainer = WeightedTrainer(\n",
    "  model=model,\n",
    "  args=training_args,\n",
    "  train_dataset=ds[\"train\"],\n",
    "  eval_dataset=ds[\"validation\"],\n",
    "  tokenizer=tokenizer,\n",
    "  data_collator=data_collator,\n",
    "  compute_metrics=compute_metric,\n",
    "  class_weights=class_weights\n",
    ")"
   ]
  },
  {
   "cell_type": "code",
   "execution_count": 437,
   "id": "ef341178",
   "metadata": {},
   "outputs": [
    {
     "data": {
      "text/html": [
       "\n",
       "    <div>\n",
       "      \n",
       "      <progress value='11876' max='11876' style='width:300px; height:20px; vertical-align: middle;'></progress>\n",
       "      [11876/11876 1:31:54, Epoch 4/4]\n",
       "    </div>\n",
       "    <table border=\"1\" class=\"dataframe\">\n",
       "  <thead>\n",
       " <tr style=\"text-align: left;\">\n",
       "      <th>Epoch</th>\n",
       "      <th>Training Loss</th>\n",
       "      <th>Validation Loss</th>\n",
       "      <th>Accuracy</th>\n",
       "      <th>Precision Macro</th>\n",
       "      <th>Recall Macro</th>\n",
       "      <th>F1 Macro</th>\n",
       "    </tr>\n",
       "  </thead>\n",
       "  <tbody>\n",
       "    <tr>\n",
       "      <td>1</td>\n",
       "      <td>1.351400</td>\n",
       "      <td>1.404240</td>\n",
       "      <td>0.556377</td>\n",
       "      <td>0.386659</td>\n",
       "      <td>0.415107</td>\n",
       "      <td>0.373452</td>\n",
       "    </tr>\n",
       "    <tr>\n",
       "      <td>2</td>\n",
       "      <td>1.284100</td>\n",
       "      <td>1.389712</td>\n",
       "      <td>0.562820</td>\n",
       "      <td>0.405755</td>\n",
       "      <td>0.427604</td>\n",
       "      <td>0.405963</td>\n",
       "    </tr>\n",
       "    <tr>\n",
       "      <td>3</td>\n",
       "      <td>1.197700</td>\n",
       "      <td>1.397750</td>\n",
       "      <td>0.566989</td>\n",
       "      <td>0.404015</td>\n",
       "      <td>0.436051</td>\n",
       "      <td>0.413874</td>\n",
       "    </tr>\n",
       "    <tr>\n",
       "      <td>4</td>\n",
       "      <td>0.964800</td>\n",
       "      <td>1.460961</td>\n",
       "      <td>0.560546</td>\n",
       "      <td>0.394314</td>\n",
       "      <td>0.439383</td>\n",
       "      <td>0.407201</td>\n",
       "    </tr>\n",
       "  </tbody>\n",
       "</table><p>"
      ],
      "text/plain": [
       "<IPython.core.display.HTML object>"
      ]
     },
     "metadata": {},
     "output_type": "display_data"
    },
    {
     "data": {
      "text/plain": [
       "TrainOutput(global_step=11876, training_loss=1.2444762804565224, metrics={'train_runtime': 5515.3587, 'train_samples_per_second': 34.442, 'train_steps_per_second': 2.153, 'total_flos': 3.1186842522647136e+16, 'train_loss': 1.2444762804565224, 'epoch': 4.0})"
      ]
     },
     "execution_count": 437,
     "metadata": {},
     "output_type": "execute_result"
    }
   ],
   "source": [
    "trainer.train()"
   ]
  },
  {
   "cell_type": "code",
   "execution_count": 438,
   "id": "d0ea1c55",
   "metadata": {},
   "outputs": [
    {
     "data": {
      "text/html": [],
      "text/plain": [
       "<IPython.core.display.HTML object>"
      ]
     },
     "metadata": {},
     "output_type": "display_data"
    },
    {
     "data": {
      "text/plain": [
       "{'eval_loss': 1.3977497816085815,\n",
       " 'eval_accuracy': 0.5669888194049649,\n",
       " 'eval_precision_macro': 0.4040153723932045,\n",
       " 'eval_recall_macro': 0.4360510252958189,\n",
       " 'eval_f1_macro': 0.41387402984186794,\n",
       " 'eval_runtime': 38.5653,\n",
       " 'eval_samples_per_second': 136.833,\n",
       " 'eval_steps_per_second': 8.557,\n",
       " 'epoch': 4.0}"
      ]
     },
     "execution_count": 438,
     "metadata": {},
     "output_type": "execute_result"
    }
   ],
   "source": [
    "trainer.evaluate()"
   ]
  },
  {
   "cell_type": "code",
   "execution_count": 23,
   "id": "10ba575b",
   "metadata": {},
   "outputs": [
    {
     "name": "stderr",
     "output_type": "stream",
     "text": [
      "C:\\Users\\rusty\\AppData\\Local\\Temp\\ipykernel_27080\\3224661968.py:2: FutureWarning: \n",
      "\n",
      "Passing `palette` without assigning `hue` is deprecated and will be removed in v0.14.0. Assign the `x` variable to `hue` and set `legend=False` for the same effect.\n",
      "\n",
      "  sns.countplot(\n"
     ]
    },
    {
     "data": {
      "image/png": "[encoded data removed]",
      "text/plain": [
       "<Figure size 800x400 with 1 Axes>"
      ]
     },
     "metadata": {},
     "output_type": "display_data"
    }
   ],
   "source": [
    "plt.figure(figsize=(8,4))\n",
    "sns.countplot(\n",
    "  x=\"Priority\",\n",
    "  data=processed_df,\n",
    "  order=processed_df[\"Priority\"].value_counts().index,\n",
    "  palette=\"viridis\"\n",
    ")\n",
    "\n",
    "plt.title(\"Class Distribution of Bug Priorities\")\n",
    "plt.xlabel(\"Priority Label\")\n",
    "plt.ylabel(\"Count\")\n",
    "plt.show()"
   ]
  },
  {
   "cell_type": "code",
   "execution_count": 24,
   "id": "d97addd6",
   "metadata": {},
   "outputs": [
    {
     "name": "stdout",
     "output_type": "stream",
     "text": [
      "Class proportions:  Priority\n",
      "2    0.586427\n",
      "1    0.178236\n",
      "0    0.169443\n",
      "3    0.043323\n",
      "4    0.022571\n",
      "Name: count, dtype: float64\n"
     ]
    }
   ],
   "source": [
    "class_counts = processed_df[\"Priority\"].value_counts()\n",
    "class_proportions = class_counts / len(processed_df)\n",
    "print(\"Class proportions: \", class_proportions)"
   ]
  },
  {
   "cell_type": "code",
   "execution_count": 25,
   "id": "38729579",
   "metadata": {},
   "outputs": [
    {
     "data": {
      "text/html": [],
      "text/plain": [
       "<IPython.core.display.HTML object>"
      ]
     },
     "metadata": {},
     "output_type": "display_data"
    }
   ],
   "source": [
    "predictions = trainer.predict(ds[\"validation\"])\n",
    "y_true = predictions.label_ids\n",
    "y_pred = np.argmax(predictions.predictions, axis=1)"
   ]
  },
  {
   "cell_type": "code",
   "execution_count": 26,
   "id": "ee6d27e0",
   "metadata": {},
   "outputs": [],
   "source": [
    "labels = sorted(processed_df[\"Priority\"].unique())\n",
    "cm = confusion_matrix(y_true, y_pred)"
   ]
  },
  {
   "cell_type": "code",
   "execution_count": 27,
   "id": "ba135110",
   "metadata": {},
   "outputs": [
    {
     "data": {
      "image/png": "[encoded data removed]",
      "text/plain": [
       "<Figure size 800x600 with 2 Axes>"
      ]
     },
     "metadata": {},
     "output_type": "display_data"
    }
   ],
   "source": [
    "plt.figure(figsize=(8,6))\n",
    "sns.heatmap(\n",
    "  cm,\n",
    "  annot=True,\n",
    "  fmt=\"d\",\n",
    "  cmap=\"Blues\",\n",
    "  xticklabels=labels,\n",
    "  yticklabels=labels\n",
    ")\n",
    "\n",
    "plt.title(\"Confusion Matrix on Validation Set\")\n",
    "plt.xlabel(\"Predicted Label\")\n",
    "plt.ylabel(\"True Label\")\n",
    "plt.show()"
   ]
  },
  {
   "cell_type": "code",
   "execution_count": 28,
   "id": "6d53d730",
   "metadata": {},
   "outputs": [
    {
     "data": {
      "text/plain": [
       "array([[ 195,    0,  699,    0,    0],\n",
       "       [ 182,    0,  758,    0,    0],\n",
       "       [ 352,    0, 2743,    0,    0],\n",
       "       [  43,    0,  186,    0,    0],\n",
       "       [   9,    0,  110,    0,    0]])"
      ]
     },
     "execution_count": 28,
     "metadata": {},
     "output_type": "execute_result"
    }
   ],
   "source": [
    "cm"
   ]
  },
  {
   "cell_type": "code",
   "execution_count": 29,
   "id": "81091481",
   "metadata": {},
   "outputs": [
    {
     "name": "stdout",
     "output_type": "stream",
     "text": [
      "Classification Report:\n",
      "              precision    recall  f1-score   support\n",
      "\n",
      "           0      0.250     0.218     0.233       894\n",
      "           1      0.000     0.000     0.000       940\n",
      "           2      0.610     0.886     0.723      3095\n",
      "           3      0.000     0.000     0.000       229\n",
      "           4      0.000     0.000     0.000       119\n",
      "\n",
      "    accuracy                          0.557      5277\n",
      "   macro avg      0.172     0.221     0.191      5277\n",
      "weighted avg      0.400     0.557     0.463      5277\n",
      "\n"
     ]
    },
    {
     "name": "stderr",
     "output_type": "stream",
     "text": [
      "c:\\Users\\rusty\\miniconda3\\envs\\bug-triage-env\\Lib\\site-packages\\sklearn\\metrics\\_classification.py:1731: UndefinedMetricWarning: Precision is ill-defined and being set to 0.0 in labels with no predicted samples. Use `zero_division` parameter to control this behavior.\n",
      "  _warn_prf(average, modifier, f\"{metric.capitalize()} is\", result.shape[0])\n",
      "c:\\Users\\rusty\\miniconda3\\envs\\bug-triage-env\\Lib\\site-packages\\sklearn\\metrics\\_classification.py:1731: UndefinedMetricWarning: Precision is ill-defined and being set to 0.0 in labels with no predicted samples. Use `zero_division` parameter to control this behavior.\n",
      "  _warn_prf(average, modifier, f\"{metric.capitalize()} is\", result.shape[0])\n",
      "c:\\Users\\rusty\\miniconda3\\envs\\bug-triage-env\\Lib\\site-packages\\sklearn\\metrics\\_classification.py:1731: UndefinedMetricWarning: Precision is ill-defined and being set to 0.0 in labels with no predicted samples. Use `zero_division` parameter to control this behavior.\n",
      "  _warn_prf(average, modifier, f\"{metric.capitalize()} is\", result.shape[0])\n"
     ]
    }
   ],
   "source": [
    "label_names = [str(l) for l in labels]\n",
    "print(\"Classification Report:\")\n",
    "print(classification_report(y_true, y_pred, target_names=label_names, digits=3))"
   ]
  },
  {
   "cell_type": "code",
   "execution_count": 446,
   "id": "64e0c2ef",
   "metadata": {},
   "outputs": [
    {
     "data": {
      "text/plain": [
       "('../models/bert\\\\tokenizer_config.json',\n",
       " '../models/bert\\\\special_tokens_map.json',\n",
       " '../models/bert\\\\vocab.txt',\n",
       " '../models/bert\\\\added_tokens.json',\n",
       " '../models/bert\\\\tokenizer.json')"
      ]
     },
     "execution_count": 446,
     "metadata": {},
     "output_type": "execute_result"
    }
   ],
   "source": [
    "trainer.save_model(\"../models/bert\")\n",
    "tokenizer.save_pretrained(\"../models/bert\")"
   ]
  },
  {
   "cell_type": "code",
   "execution_count": 30,
   "id": "2a552fad",
   "metadata": {},
   "outputs": [
    {
     "name": "stdout",
     "output_type": "stream",
     "text": [
      "Saved model + tokenizer + label_map\n"
     ]
    }
   ],
   "source": [
    "label_map = {\n",
    "  0: \"Critical\",\n",
    "  1: \"High\",\n",
    "  2: \"Medium\",\n",
    "  3: \"Low\",\n",
    "  4: \"Trivial\"\n",
    "}\n",
    "\n",
    "with open(\"../models/bert/label_map.json\", \"w\") as f:\n",
    "  json.dump(label_map, f)\n",
    "  \n",
    "print(\"Saved model + tokenizer + label_map\")"
   ]
  },
  {
   "cell_type": "code",
   "execution_count": 448,
   "id": "759e48dd",
   "metadata": {},
   "outputs": [],
   "source": [
    "test_df = pd.read_csv(\"../../data/raw/test.csv\")"
   ]
  },
  {
   "cell_type": "code",
   "execution_count": 449,
   "id": "4f98dcc0",
   "metadata": {},
   "outputs": [
    {
     "data": {
      "text/html": [
       "<div>\n",
       "<style scoped>\n",
       "    .dataframe tbody tr th:only-of-type {\n",
       "        vertical-align: middle;\n",
       "    }\n",
       "\n",
       "    .dataframe tbody tr th {\n",
       "        vertical-align: top;\n",
       "    }\n",
       "\n",
       "    .dataframe thead th {\n",
       "        text-align: right;\n",
       "    }\n",
       "</style>\n",
       "<table border=\"1\" class=\"dataframe\">\n",
       "  <thead>\n",
       "    <tr style=\"text-align: right;\">\n",
       "      <th></th>\n",
       "      <th>Issue_id</th>\n",
       "      <th>Component</th>\n",
       "      <th>Title</th>\n",
       "      <th>Description</th>\n",
       "      <th>Status</th>\n",
       "      <th>Resolution</th>\n",
       "    </tr>\n",
       "  </thead>\n",
       "  <tbody>\n",
       "    <tr>\n",
       "      <th>0</th>\n",
       "      <td>6578</td>\n",
       "      <td>JavaScript Engine</td>\n",
       "      <td>Finalize yield syntax to match ES4/JS2 proposal</td>\n",
       "      <td>This tracks Python 2.5.  Currently we allow; ;...</td>\n",
       "      <td>VERIFIED</td>\n",
       "      <td>FIXED</td>\n",
       "    </tr>\n",
       "    <tr>\n",
       "      <th>1</th>\n",
       "      <td>8050</td>\n",
       "      <td>Networking: Cache</td>\n",
       "      <td>e10s HTTP: offline application cache</td>\n",
       "      <td>I actually know very little about how applicat...</td>\n",
       "      <td>RESOLVED</td>\n",
       "      <td>FIXED</td>\n",
       "    </tr>\n",
       "    <tr>\n",
       "      <th>2</th>\n",
       "      <td>5281</td>\n",
       "      <td>DOM: Core &amp; HTML</td>\n",
       "      <td>[FIX]Add GetOwnerDocument on nsIContent or nsG...</td>\n",
       "      <td>See comments in bug 211440; the idea is to add...</td>\n",
       "      <td>RESOLVED</td>\n",
       "      <td>FIXED</td>\n",
       "    </tr>\n",
       "    <tr>\n",
       "      <th>3</th>\n",
       "      <td>7871</td>\n",
       "      <td>Layout: View Rendering</td>\n",
       "      <td>Text editing broken in Firebug edit mode and o...</td>\n",
       "      <td>Getting reports that editing is broken in Fire...</td>\n",
       "      <td>VERIFIED</td>\n",
       "      <td>FIXED</td>\n",
       "    </tr>\n",
       "    <tr>\n",
       "      <th>4</th>\n",
       "      <td>2411</td>\n",
       "      <td>Plug-ins</td>\n",
       "      <td>shockwave movies redraw improperly on mac(nsbe...</td>\n",
       "      <td>From Bugzilla Helper:; User-Agent: Mozilla/4.7...</td>\n",
       "      <td>VERIFIED</td>\n",
       "      <td>DUPLICATE</td>\n",
       "    </tr>\n",
       "  </tbody>\n",
       "</table>\n",
       "</div>"
      ],
      "text/plain": [
       "   Issue_id               Component  \\\n",
       "0      6578       JavaScript Engine   \n",
       "1      8050       Networking: Cache   \n",
       "2      5281        DOM: Core & HTML   \n",
       "3      7871  Layout: View Rendering   \n",
       "4      2411                Plug-ins   \n",
       "\n",
       "                                               Title  \\\n",
       "0    Finalize yield syntax to match ES4/JS2 proposal   \n",
       "1               e10s HTTP: offline application cache   \n",
       "2  [FIX]Add GetOwnerDocument on nsIContent or nsG...   \n",
       "3  Text editing broken in Firebug edit mode and o...   \n",
       "4  shockwave movies redraw improperly on mac(nsbe...   \n",
       "\n",
       "                                         Description    Status Resolution  \n",
       "0  This tracks Python 2.5.  Currently we allow; ;...  VERIFIED      FIXED  \n",
       "1  I actually know very little about how applicat...  RESOLVED      FIXED  \n",
       "2  See comments in bug 211440; the idea is to add...  RESOLVED      FIXED  \n",
       "3  Getting reports that editing is broken in Fire...  VERIFIED      FIXED  \n",
       "4  From Bugzilla Helper:; User-Agent: Mozilla/4.7...  VERIFIED  DUPLICATE  "
      ]
     },
     "execution_count": 449,
     "metadata": {},
     "output_type": "execute_result"
    }
   ],
   "source": [
    "test_df.head()"
   ]
  },
  {
   "cell_type": "code",
   "execution_count": 450,
   "id": "efb76390",
   "metadata": {},
   "outputs": [],
   "source": [
    "# test_df[\"Text\"] = (\n",
    "#   \"Title: \" + test_df[\"Title\"].fillna(\"\") + \". \" +\n",
    "#   \"Description: \" + test_df[\"Description\"].fillna(\"\") + \". \" +\n",
    "#   \"Component: \" + test_df[\"Component\"].fillna(\"unknown\") + \". \" +\n",
    "#   \"Status: \" + test_df[\"Status\"].fillna(\"unknown\") + \". \" +\n",
    "#   \"Resolution: \" + test_df[\"Resolution\"].fillna(\"unknown\")\n",
    "# )"
   ]
  },
  {
   "cell_type": "code",
   "execution_count": 451,
   "id": "dc139946",
   "metadata": {},
   "outputs": [],
   "source": [
    "test_df[\"Text\"] = (\n",
    "  \"[TITLE] Title: \" + test_df[\"Title\"].fillna(\"\") + \" | \" +\n",
    "  \"[DESC] Description: \" + test_df[\"Description\"].fillna(\"\") + \" | \" +\n",
    "  \"[META] Component: \" + test_df[\"Component\"].fillna(\"unknown\") + \" | \" +\n",
    "  \"[META] Status: \" + test_df[\"Status\"].fillna(\"unknown\") + \" | \" +\n",
    "  \"[META] Resolution: \" + test_df[\"Resolution\"].fillna(\"unknown\")\n",
    ")"
   ]
  },
  {
   "cell_type": "code",
   "execution_count": 452,
   "id": "411de4d4",
   "metadata": {},
   "outputs": [
    {
     "data": {
      "text/plain": [
       "BertForSequenceClassification(\n",
       "  (bert): BertModel(\n",
       "    (embeddings): BertEmbeddings(\n",
       "      (word_embeddings): Embedding(30522, 768, padding_idx=0)\n",
       "      (position_embeddings): Embedding(512, 768)\n",
       "      (token_type_embeddings): Embedding(2, 768)\n",
       "      (LayerNorm): LayerNorm((768,), eps=1e-12, elementwise_affine=True)\n",
       "      (dropout): Dropout(p=0.1, inplace=False)\n",
       "    )\n",
       "    (encoder): BertEncoder(\n",
       "      (layer): ModuleList(\n",
       "        (0-11): 12 x BertLayer(\n",
       "          (attention): BertAttention(\n",
       "            (self): BertSdpaSelfAttention(\n",
       "              (query): Linear(in_features=768, out_features=768, bias=True)\n",
       "              (key): Linear(in_features=768, out_features=768, bias=True)\n",
       "              (value): Linear(in_features=768, out_features=768, bias=True)\n",
       "              (dropout): Dropout(p=0.1, inplace=False)\n",
       "            )\n",
       "            (output): BertSelfOutput(\n",
       "              (dense): Linear(in_features=768, out_features=768, bias=True)\n",
       "              (LayerNorm): LayerNorm((768,), eps=1e-12, elementwise_affine=True)\n",
       "              (dropout): Dropout(p=0.1, inplace=False)\n",
       "            )\n",
       "          )\n",
       "          (intermediate): BertIntermediate(\n",
       "            (dense): Linear(in_features=768, out_features=3072, bias=True)\n",
       "            (intermediate_act_fn): GELUActivation()\n",
       "          )\n",
       "          (output): BertOutput(\n",
       "            (dense): Linear(in_features=3072, out_features=768, bias=True)\n",
       "            (LayerNorm): LayerNorm((768,), eps=1e-12, elementwise_affine=True)\n",
       "            (dropout): Dropout(p=0.1, inplace=False)\n",
       "          )\n",
       "        )\n",
       "      )\n",
       "    )\n",
       "    (pooler): BertPooler(\n",
       "      (dense): Linear(in_features=768, out_features=768, bias=True)\n",
       "      (activation): Tanh()\n",
       "    )\n",
       "  )\n",
       "  (dropout): Dropout(p=0.1, inplace=False)\n",
       "  (classifier): Linear(in_features=768, out_features=5, bias=True)\n",
       ")"
      ]
     },
     "execution_count": 452,
     "metadata": {},
     "output_type": "execute_result"
    }
   ],
   "source": [
    "tokenizer = AutoTokenizer.from_pretrained(\"../models/bert\")\n",
    "model = AutoModelForSequenceClassification.from_pretrained(\"../models/bert\")\n",
    "model.to(device)\n",
    "model.eval()"
   ]
  },
  {
   "cell_type": "code",
   "execution_count": 32,
   "id": "f98dd0c6",
   "metadata": {},
   "outputs": [
    {
     "data": {
      "text/plain": [
       "{0: 'Critical', 1: 'High', 2: 'Medium', 3: 'Low', 4: 'Trivial'}"
      ]
     },
     "execution_count": 32,
     "metadata": {},
     "output_type": "execute_result"
    }
   ],
   "source": [
    "with open(\"../models/bert/label_map.json\", \"r\") as f:\n",
    "  label_map = json.load(f)\n",
    "\n",
    "label_map = {int(k): v for k, v in label_map.items()}\n",
    "label_map"
   ]
  },
  {
   "cell_type": "code",
   "execution_count": 454,
   "id": "66298f04",
   "metadata": {},
   "outputs": [],
   "source": [
    "batch_size = 16\n",
    "all_preds = []\n",
    "\n",
    "for i in range(0, len(test_df), batch_size):\n",
    "  batch_texts = test_df[\"Text\"].iloc[i:i + batch_size].tolist()\n",
    "  \n",
    "  inputs = tokenizer(\n",
    "    batch_texts,\n",
    "    truncation=True,\n",
    "    max_length=296,\n",
    "    padding=True,\n",
    "    return_tensors=\"pt\"\n",
    "  )\n",
    "\n",
    "  inputs = {k: v.to(device) for k, v in inputs.items()}\n",
    "  \n",
    "  with torch.no_grad():\n",
    "    outputs = model(**inputs)\n",
    "    logits = outputs.logits\n",
    "    probs = torch.nn.functional.softmax(logits, dim=-1)\n",
    "    preds = probs.argmax(dim=-1).cpu().numpy()\n",
    "    all_preds.extend(preds)\n",
    "  \n",
    "test_df[\"Predicted_Priority\"] = [label_map[i] for i in all_preds]"
   ]
  },
  {
   "cell_type": "code",
   "execution_count": 455,
   "id": "530c157c",
   "metadata": {},
   "outputs": [],
   "source": [
    "test_df.to_csv(\"../../data/processed/text_predictions.csv\", index=False)"
   ]
  },
  {
   "cell_type": "code",
   "execution_count": null,
   "id": "66fd1789",
   "metadata": {},
   "outputs": [],
   "source": []
  }
 ],
 "metadata": {
  "kernelspec": {
   "display_name": "bug-triage-env",
   "language": "python",
   "name": "python3"
  },
  "language_info": {
   "codemirror_mode": {
    "name": "ipython",
    "version": 3
   },
   "file_extension": ".py",
   "mimetype": "text/x-python",
   "name": "python",
   "nbconvert_exporter": "python",
   "pygments_lexer": "ipython3",
   "version": "3.11.13"
  }
 },
 "nbformat": 4,
 "nbformat_minor": 5
}

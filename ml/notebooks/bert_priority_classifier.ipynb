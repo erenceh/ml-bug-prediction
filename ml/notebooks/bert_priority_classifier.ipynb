{
 "cells": [
  {
   "cell_type": "markdown",
   "id": "579586b2",
   "metadata": {},
   "source": [
    "# Bug Priority Classification with BERT\n",
    "\n",
    "This notebook demonstrates the training, evaluation, and inference of a BERT-based model for predicting software bug priorities.\n",
    "<br>\n",
    "The workflow includes:\n",
    "1. **Data Loading & Preprocessing** - Combining bug report fields (Title, Description, Component, Status, Resolution) into a single text input, handling missing values, and converting lavels to numeric from.\n",
    "2. **Tokenization & Dataset Preparation** - Tokenizing text with a BERT tokenizer and organizing data into Hugging Face Datasets for training and validation.\n",
    "3. **Handling Class Imbalnce** - Computing class weights to address skewed priority distributions and incorporating them into a custom weighted loss trainer.\n",
    "4. **Model Training & Evaluation** - Fine-tuning BERT for multi-class classification, computing metrics (accuracy, precision, recall, F1), and visualizing performance via confusion matrix.\n",
    "5. **Test Set Inference & Analysis** - Running batch predictions on unseen data, visualizing model confidence distributions, and exploring per-class confidence patterns to understand strengths and limitations of the model."
   ]
  },
  {
   "cell_type": "markdown",
   "id": "27594433",
   "metadata": {},
   "source": [
    "## Imports"
   ]
  },
  {
   "cell_type": "code",
   "execution_count": 1,
   "id": "6264ef97",
   "metadata": {},
   "outputs": [],
   "source": [
    "import pandas as pd\n",
    "import numpy as np\n",
    "import matplotlib.pyplot as plt\n",
    "import seaborn as sns\n",
    "import joblib\n",
    "from sklearn.model_selection import train_test_split\n",
    "from sklearn.utils.class_weight import compute_class_weight\n",
    "\n",
    "import torch\n",
    "from torch.nn import CrossEntropyLoss\n",
    "from torch.nn.functional import softmax\n",
    "\n",
    "from transformers import (\n",
    "  AutoTokenizer, \n",
    "  AutoModelForSequenceClassification, \n",
    "  Trainer, \n",
    "  TrainingArguments,\n",
    "  DataCollatorWithPadding\n",
    ")\n",
    "\n",
    "from datasets import Dataset, DatasetDict\n",
    "from sklearn.metrics import (\n",
    "  accuracy_score,\n",
    "  f1_score,\n",
    "  precision_score,\n",
    "  recall_score,\n",
    "  confusion_matrix,\n",
    "  classification_report\n",
    "  )\n",
    "import json"
   ]
  },
  {
   "cell_type": "markdown",
   "id": "bc3dcbef",
   "metadata": {},
   "source": [
    "## Device Configuration"
   ]
  },
  {
   "cell_type": "code",
   "execution_count": 6,
   "id": "3c667284",
   "metadata": {},
   "outputs": [
    {
     "name": "stdout",
     "output_type": "stream",
     "text": [
      "Using device:  cuda\n"
     ]
    }
   ],
   "source": [
    "# Use GPU if compatible with CUDA \n",
    "device = torch.device(\"cuda\" if torch.cuda.is_available() else \"cpu\")\n",
    "print(\"Using device: \", device)"
   ]
  },
  {
   "cell_type": "markdown",
   "id": "127f786c",
   "metadata": {},
   "source": [
    "## Load and Prepare Data"
   ]
  },
  {
   "cell_type": "code",
   "execution_count": 27,
   "id": "eba0e540",
   "metadata": {},
   "outputs": [
    {
     "data": {
      "text/html": [
       "<div>\n",
       "<style scoped>\n",
       "    .dataframe tbody tr th:only-of-type {\n",
       "        vertical-align: middle;\n",
       "    }\n",
       "\n",
       "    .dataframe tbody tr th {\n",
       "        vertical-align: top;\n",
       "    }\n",
       "\n",
       "    .dataframe thead th {\n",
       "        text-align: right;\n",
       "    }\n",
       "</style>\n",
       "<table border=\"1\" class=\"dataframe\">\n",
       "  <thead>\n",
       "    <tr style=\"text-align: right;\">\n",
       "      <th></th>\n",
       "      <th>Issue_id</th>\n",
       "      <th>Component</th>\n",
       "      <th>Title</th>\n",
       "      <th>Description</th>\n",
       "      <th>Status</th>\n",
       "      <th>Resolution</th>\n",
       "      <th>Priority</th>\n",
       "      <th>Cleaned_Text</th>\n",
       "    </tr>\n",
       "  </thead>\n",
       "  <tbody>\n",
       "    <tr>\n",
       "      <th>0</th>\n",
       "      <td>1700</td>\n",
       "      <td>Layout</td>\n",
       "      <td>font size 9px rounded down to 8px {font} {ll}</td>\n",
       "      <td>There is a piece of code in the Windows GFX th...</td>\n",
       "      <td>VERIFIED</td>\n",
       "      <td>FIXED</td>\n",
       "      <td>0</td>\n",
       "      <td>font size rounded font piece code window gfx r...</td>\n",
       "    </tr>\n",
       "    <tr>\n",
       "      <th>1</th>\n",
       "      <td>7991</td>\n",
       "      <td>Plug-ins</td>\n",
       "      <td>Land OOP plugins in mozilla-central (preffed off)</td>\n",
       "      <td>We need to land OOP plugins in mozilla-central...</td>\n",
       "      <td>RESOLVED</td>\n",
       "      <td>FIXED</td>\n",
       "      <td>0</td>\n",
       "      <td>land oop plugins mozilla central preffed need ...</td>\n",
       "    </tr>\n",
       "    <tr>\n",
       "      <th>2</th>\n",
       "      <td>1150</td>\n",
       "      <td>XPCOM</td>\n",
       "      <td>XP-COM Proxy code crashes when trying to AutoP...</td>\n",
       "      <td>(This bug imported from BugSplat; Netscapes in...</td>\n",
       "      <td>VERIFIED</td>\n",
       "      <td>FIXED</td>\n",
       "      <td>0</td>\n",
       "      <td>com proxy code crash trying autoproxy paramete...</td>\n",
       "    </tr>\n",
       "    <tr>\n",
       "      <th>3</th>\n",
       "      <td>6143</td>\n",
       "      <td>XUL</td>\n",
       "      <td>crash setting display:none on grid rows [@ nsG...</td>\n",
       "      <td>User-Agent:       Mozilla/5.0 (Windows; U; Win...</td>\n",
       "      <td>VERIFIED</td>\n",
       "      <td>FIXED</td>\n",
       "      <td>0</td>\n",
       "      <td>crash setting display none grid row nsgrid get...</td>\n",
       "    </tr>\n",
       "    <tr>\n",
       "      <th>4</th>\n",
       "      <td>5952</td>\n",
       "      <td>Networking: Cache</td>\n",
       "      <td>limit the memory cache to a reasonable value</td>\n",
       "      <td>I have 1GB of RAM; so Im using 31MB of memory ...</td>\n",
       "      <td>VERIFIED</td>\n",
       "      <td>FIXED</td>\n",
       "      <td>0</td>\n",
       "      <td>limit memory cache reasonable value ram using ...</td>\n",
       "    </tr>\n",
       "    <tr>\n",
       "      <th>...</th>\n",
       "      <td>...</td>\n",
       "      <td>...</td>\n",
       "      <td>...</td>\n",
       "      <td>...</td>\n",
       "      <td>...</td>\n",
       "      <td>...</td>\n",
       "      <td>...</td>\n",
       "      <td>...</td>\n",
       "    </tr>\n",
       "    <tr>\n",
       "      <th>52989</th>\n",
       "      <td>53192</td>\n",
       "      <td>Team</td>\n",
       "      <td>Replicate functionality (1GGP770)</td>\n",
       "      <td>In regular use; it is often necessary to be ab...</td>\n",
       "      <td>RESOLVED</td>\n",
       "      <td>WONTFIX</td>\n",
       "      <td>4</td>\n",
       "      <td>replicate functionality ggp regular use often ...</td>\n",
       "    </tr>\n",
       "    <tr>\n",
       "      <th>52990</th>\n",
       "      <td>53717</td>\n",
       "      <td>CSS Parsing and Computation</td>\n",
       "      <td>[charset]Improve @charset parsing in CSSLoader...</td>\n",
       "      <td>Separated from bug 72658.; ; http://lxr.mozill...</td>\n",
       "      <td>RESOLVED</td>\n",
       "      <td>FIXED</td>\n",
       "      <td>4</td>\n",
       "      <td>charset improve charset parsing cssloaderimpl ...</td>\n",
       "    </tr>\n",
       "    <tr>\n",
       "      <th>52991</th>\n",
       "      <td>53242</td>\n",
       "      <td>Migration</td>\n",
       "      <td>iCab Profile Migrator</td>\n",
       "      <td>.</td>\n",
       "      <td>RESOLVED</td>\n",
       "      <td>WONTFIX</td>\n",
       "      <td>4</td>\n",
       "      <td>icab profile migrator</td>\n",
       "    </tr>\n",
       "    <tr>\n",
       "      <th>52992</th>\n",
       "      <td>53682</td>\n",
       "      <td>DOM: Core &amp; HTML</td>\n",
       "      <td>The tableSectionElement.ch doesnt have a defau...</td>\n",
       "      <td>Overview Description: ; The tableSectionElemen...</td>\n",
       "      <td>VERIFIED</td>\n",
       "      <td>FIXED</td>\n",
       "      <td>4</td>\n",
       "      <td>tablesectionelement doesnt default value overv...</td>\n",
       "    </tr>\n",
       "    <tr>\n",
       "      <th>52993</th>\n",
       "      <td>53348</td>\n",
       "      <td>Panorama</td>\n",
       "      <td>closing a group shouldnt require two clicks</td>\n",
       "      <td>I find myself getting annoyed that I need to c...</td>\n",
       "      <td>RESOLVED</td>\n",
       "      <td>WONTFIX</td>\n",
       "      <td>4</td>\n",
       "      <td>closing group shouldnt require two click find ...</td>\n",
       "    </tr>\n",
       "  </tbody>\n",
       "</table>\n",
       "<p>52767 rows × 8 columns</p>\n",
       "</div>"
      ],
      "text/plain": [
       "       Issue_id                    Component  \\\n",
       "0          1700                       Layout   \n",
       "1          7991                     Plug-ins   \n",
       "2          1150                        XPCOM   \n",
       "3          6143                          XUL   \n",
       "4          5952            Networking: Cache   \n",
       "...         ...                          ...   \n",
       "52989     53192                         Team   \n",
       "52990     53717  CSS Parsing and Computation   \n",
       "52991     53242                    Migration   \n",
       "52992     53682             DOM: Core & HTML   \n",
       "52993     53348                     Panorama   \n",
       "\n",
       "                                                   Title  \\\n",
       "0          font size 9px rounded down to 8px {font} {ll}   \n",
       "1      Land OOP plugins in mozilla-central (preffed off)   \n",
       "2      XP-COM Proxy code crashes when trying to AutoP...   \n",
       "3      crash setting display:none on grid rows [@ nsG...   \n",
       "4           limit the memory cache to a reasonable value   \n",
       "...                                                  ...   \n",
       "52989                  Replicate functionality (1GGP770)   \n",
       "52990  [charset]Improve @charset parsing in CSSLoader...   \n",
       "52991                              iCab Profile Migrator   \n",
       "52992  The tableSectionElement.ch doesnt have a defau...   \n",
       "52993        closing a group shouldnt require two clicks   \n",
       "\n",
       "                                             Description    Status Resolution  \\\n",
       "0      There is a piece of code in the Windows GFX th...  VERIFIED      FIXED   \n",
       "1      We need to land OOP plugins in mozilla-central...  RESOLVED      FIXED   \n",
       "2      (This bug imported from BugSplat; Netscapes in...  VERIFIED      FIXED   \n",
       "3      User-Agent:       Mozilla/5.0 (Windows; U; Win...  VERIFIED      FIXED   \n",
       "4      I have 1GB of RAM; so Im using 31MB of memory ...  VERIFIED      FIXED   \n",
       "...                                                  ...       ...        ...   \n",
       "52989  In regular use; it is often necessary to be ab...  RESOLVED    WONTFIX   \n",
       "52990  Separated from bug 72658.; ; http://lxr.mozill...  RESOLVED      FIXED   \n",
       "52991                                                  .  RESOLVED    WONTFIX   \n",
       "52992  Overview Description: ; The tableSectionElemen...  VERIFIED      FIXED   \n",
       "52993  I find myself getting annoyed that I need to c...  RESOLVED    WONTFIX   \n",
       "\n",
       "       Priority                                       Cleaned_Text  \n",
       "0             0  font size rounded font piece code window gfx r...  \n",
       "1             0  land oop plugins mozilla central preffed need ...  \n",
       "2             0  com proxy code crash trying autoproxy paramete...  \n",
       "3             0  crash setting display none grid row nsgrid get...  \n",
       "4             0  limit memory cache reasonable value ram using ...  \n",
       "...         ...                                                ...  \n",
       "52989         4  replicate functionality ggp regular use often ...  \n",
       "52990         4  charset improve charset parsing cssloaderimpl ...  \n",
       "52991         4                              icab profile migrator  \n",
       "52992         4  tablesectionelement doesnt default value overv...  \n",
       "52993         4  closing group shouldnt require two click find ...  \n",
       "\n",
       "[52767 rows x 8 columns]"
      ]
     },
     "execution_count": 27,
     "metadata": {},
     "output_type": "execute_result"
    }
   ],
   "source": [
    "processed_df = joblib.load(\"../../data/processed/processed_ISEC_train_df.joblib\")\n",
    "processed_df"
   ]
  },
  {
   "cell_type": "code",
   "execution_count": null,
   "id": "5c98fbf0",
   "metadata": {},
   "outputs": [],
   "source": [
    "# Combine multiple text fields into a single input string with Meta data\n",
    "# for Component, Status, and Resolution\n",
    "processed_df[\"Text\"] = (\n",
    "  \"[TITLE] Title: \" + processed_df[\"Title\"].fillna(\"\") + \" | \" +\n",
    "  \"[DESC] Description: \" + processed_df[\"Description\"].fillna(\"\") + \" | \" +\n",
    "  \"[META] Component: \" + processed_df[\"Component\"].fillna(\"unknown\") + \" | \" +\n",
    "  \"[META] Status: \" + processed_df[\"Status\"].fillna(\"unknown\") + \" | \" +\n",
    "  \"[META] Resolution: \" + processed_df[\"Resolution\"].fillna(\"unknown\")\n",
    ")"
   ]
  },
  {
   "cell_type": "code",
   "execution_count": null,
   "id": "45ab106e",
   "metadata": {},
   "outputs": [],
   "source": [
    "# Keep only the necessary columns\n",
    "processed_df = processed_df[[\"Text\", \"Priority\"]].copy()\n",
    "processed_df = processed_df.dropna(subset=[\"Text\", \"Priority\"])"
   ]
  },
  {
   "cell_type": "code",
   "execution_count": 30,
   "id": "75f4f06a",
   "metadata": {},
   "outputs": [
    {
     "data": {
      "text/html": [
       "<div>\n",
       "<style scoped>\n",
       "    .dataframe tbody tr th:only-of-type {\n",
       "        vertical-align: middle;\n",
       "    }\n",
       "\n",
       "    .dataframe tbody tr th {\n",
       "        vertical-align: top;\n",
       "    }\n",
       "\n",
       "    .dataframe thead th {\n",
       "        text-align: right;\n",
       "    }\n",
       "</style>\n",
       "<table border=\"1\" class=\"dataframe\">\n",
       "  <thead>\n",
       "    <tr style=\"text-align: right;\">\n",
       "      <th></th>\n",
       "      <th>Text</th>\n",
       "      <th>Priority</th>\n",
       "    </tr>\n",
       "  </thead>\n",
       "  <tbody>\n",
       "    <tr>\n",
       "      <th>0</th>\n",
       "      <td>[TITLE] Title: font size 9px rounded down to 8...</td>\n",
       "      <td>0</td>\n",
       "    </tr>\n",
       "    <tr>\n",
       "      <th>1</th>\n",
       "      <td>[TITLE] Title: Land OOP plugins in mozilla-cen...</td>\n",
       "      <td>0</td>\n",
       "    </tr>\n",
       "    <tr>\n",
       "      <th>2</th>\n",
       "      <td>[TITLE] Title: XP-COM Proxy code crashes when ...</td>\n",
       "      <td>0</td>\n",
       "    </tr>\n",
       "    <tr>\n",
       "      <th>3</th>\n",
       "      <td>[TITLE] Title: crash setting display:none on g...</td>\n",
       "      <td>0</td>\n",
       "    </tr>\n",
       "    <tr>\n",
       "      <th>4</th>\n",
       "      <td>[TITLE] Title: limit the memory cache to a rea...</td>\n",
       "      <td>0</td>\n",
       "    </tr>\n",
       "    <tr>\n",
       "      <th>...</th>\n",
       "      <td>...</td>\n",
       "      <td>...</td>\n",
       "    </tr>\n",
       "    <tr>\n",
       "      <th>52989</th>\n",
       "      <td>[TITLE] Title: Replicate functionality (1GGP77...</td>\n",
       "      <td>4</td>\n",
       "    </tr>\n",
       "    <tr>\n",
       "      <th>52990</th>\n",
       "      <td>[TITLE] Title: [charset]Improve @charset parsi...</td>\n",
       "      <td>4</td>\n",
       "    </tr>\n",
       "    <tr>\n",
       "      <th>52991</th>\n",
       "      <td>[TITLE] Title: iCab Profile Migrator | [DESC] ...</td>\n",
       "      <td>4</td>\n",
       "    </tr>\n",
       "    <tr>\n",
       "      <th>52992</th>\n",
       "      <td>[TITLE] Title: The tableSectionElement.ch does...</td>\n",
       "      <td>4</td>\n",
       "    </tr>\n",
       "    <tr>\n",
       "      <th>52993</th>\n",
       "      <td>[TITLE] Title: closing a group shouldnt requir...</td>\n",
       "      <td>4</td>\n",
       "    </tr>\n",
       "  </tbody>\n",
       "</table>\n",
       "<p>52767 rows × 2 columns</p>\n",
       "</div>"
      ],
      "text/plain": [
       "                                                    Text  Priority\n",
       "0      [TITLE] Title: font size 9px rounded down to 8...         0\n",
       "1      [TITLE] Title: Land OOP plugins in mozilla-cen...         0\n",
       "2      [TITLE] Title: XP-COM Proxy code crashes when ...         0\n",
       "3      [TITLE] Title: crash setting display:none on g...         0\n",
       "4      [TITLE] Title: limit the memory cache to a rea...         0\n",
       "...                                                  ...       ...\n",
       "52989  [TITLE] Title: Replicate functionality (1GGP77...         4\n",
       "52990  [TITLE] Title: [charset]Improve @charset parsi...         4\n",
       "52991  [TITLE] Title: iCab Profile Migrator | [DESC] ...         4\n",
       "52992  [TITLE] Title: The tableSectionElement.ch does...         4\n",
       "52993  [TITLE] Title: closing a group shouldnt requir...         4\n",
       "\n",
       "[52767 rows x 2 columns]"
      ]
     },
     "execution_count": 30,
     "metadata": {},
     "output_type": "execute_result"
    }
   ],
   "source": [
    "processed_df"
   ]
  },
  {
   "cell_type": "code",
   "execution_count": null,
   "id": "fb8958c8",
   "metadata": {},
   "outputs": [],
   "source": [
    "# Convert labels to integer type\n",
    "processed_df[\"label\"] = processed_df[\"Priority\"].astype(int)"
   ]
  },
  {
   "cell_type": "code",
   "execution_count": 32,
   "id": "2d3f74ae",
   "metadata": {},
   "outputs": [
    {
     "name": "stdout",
     "output_type": "stream",
     "text": [
      "Num labels: 5, classes: [np.int64(0), np.int64(1), np.int64(2), np.int64(3), np.int64(4)]\n"
     ]
    }
   ],
   "source": [
    "num_labels = processed_df[\"label\"].nunique()\n",
    "print(f\"Num labels: {num_labels}, classes: {sorted(processed_df['label'].unique())}\")"
   ]
  },
  {
   "cell_type": "markdown",
   "id": "6dc2bf49",
   "metadata": {},
   "source": [
    "## Train / Validation Split"
   ]
  },
  {
   "cell_type": "code",
   "execution_count": 33,
   "id": "3e8f27d2",
   "metadata": {},
   "outputs": [
    {
     "name": "stdout",
     "output_type": "stream",
     "text": [
      "Train shape:  (47490, 3)\n",
      "Validation shape:  (5277, 3)\n"
     ]
    }
   ],
   "source": [
    "train_df, val_df = train_test_split(\n",
    "  processed_df,\n",
    "  test_size=0.1,\n",
    "  random_state=42,\n",
    "  stratify=processed_df[\"label\"]\n",
    ")\n",
    "\n",
    "print(\"Train shape: \", train_df.shape)\n",
    "print(\"Validation shape: \", val_df.shape)"
   ]
  },
  {
   "cell_type": "code",
   "execution_count": null,
   "id": "a3740e37",
   "metadata": {},
   "outputs": [],
   "source": [
    "# Create Hugging Face Datasets\n",
    "dataset_train = Dataset.from_pandas(train_df.reset_index(drop=True))\n",
    "dataset_val = Dataset.from_pandas(val_df.reset_index(drop=True))\n",
    "ds = DatasetDict({\"train\": dataset_train, \"validation\": dataset_val})"
   ]
  },
  {
   "cell_type": "markdown",
   "id": "5392158f",
   "metadata": {},
   "source": [
    "## Tokenization"
   ]
  },
  {
   "cell_type": "code",
   "execution_count": 35,
   "id": "4e6a4500",
   "metadata": {},
   "outputs": [],
   "source": [
    "tokenizer = AutoTokenizer.from_pretrained('bert-base-uncased')"
   ]
  },
  {
   "cell_type": "code",
   "execution_count": null,
   "id": "ceeaa5cc",
   "metadata": {},
   "outputs": [],
   "source": [
    "def tokenize_text(batch):\n",
    "  \"\"\"\n",
    "  Tokenize a batch of text samples and attaches their labels for model input.\n",
    "\n",
    "  Args:\n",
    "      batch (dict): A dictionary containing the batch of dataset rows.\n",
    "\n",
    "  Returns:\n",
    "      dict: A dictionary containing:\n",
    "      - input_ids (list): Tokenized IDs for each text sample.\n",
    "      - attention_mask (list): Attention masks indicating which tokens should be attended to.\n",
    "      - labels (list): The class labels corresponding to each text sample.\n",
    "  \"\"\"\n",
    "  tokens = tokenizer(batch[\"Text\"], truncation=True, max_length=296)\n",
    "  tokens[\"labels\"] = batch[\"label\"]\n",
    "  return tokens"
   ]
  },
  {
   "cell_type": "code",
   "execution_count": null,
   "id": "98dc7636",
   "metadata": {},
   "outputs": [
    {
     "data": {
      "application/vnd.jupyter.widget-view+json": {
       "model_id": "e84a9f566fff47c09e86e75032e5cc6b",
       "version_major": 2,
       "version_minor": 0
      },
      "text/plain": [
       "Map:   0%|          | 0/47490 [00:00<?, ? examples/s]"
      ]
     },
     "metadata": {},
     "output_type": "display_data"
    },
    {
     "data": {
      "application/vnd.jupyter.widget-view+json": {
       "model_id": "331f9313fd5b49bbbc21c68ce6493b9c",
       "version_major": 2,
       "version_minor": 0
      },
      "text/plain": [
       "Map:   0%|          | 0/5277 [00:00<?, ? examples/s]"
      ]
     },
     "metadata": {},
     "output_type": "display_data"
    }
   ],
   "source": [
    "# Apply tokenization\n",
    "ds = ds.map(\n",
    "  tokenize_text,\n",
    "  batched=True,\n",
    "  remove_columns=[\"Text\", \"Priority\", \"label\"],\n",
    "  keep_in_memory=True\n",
    ")\n",
    "\n",
    "data_collator = DataCollatorWithPadding(tokenizer=tokenizer)"
   ]
  },
  {
   "cell_type": "markdown",
   "id": "f0140816",
   "metadata": {},
   "source": [
    "## Compute Class Weights (for imbalanced dataset)"
   ]
  },
  {
   "cell_type": "code",
   "execution_count": 39,
   "id": "f6d7ad46",
   "metadata": {},
   "outputs": [
    {
     "name": "stdout",
     "output_type": "stream",
     "text": [
      "Class weights:  tensor([0.3661, 0.3480, 0.1058, 1.4321, 2.7480], device='cuda:0')\n"
     ]
    }
   ],
   "source": [
    "y_train = train_df[\"label\"].values\n",
    "weights = compute_class_weight(\"balanced\", classes=np.unique(y_train), y=y_train)\n",
    "weights = np.array(weights)\n",
    "weights = weights / weights.sum() * len(weights)\n",
    "class_weights = torch.tensor(weights, dtype=torch.float).to(device)\n",
    "print(\"Class weights: \", class_weights)"
   ]
  },
  {
   "cell_type": "code",
   "execution_count": 64,
   "id": "10ba575b",
   "metadata": {},
   "outputs": [
    {
     "name": "stderr",
     "output_type": "stream",
     "text": [
      "C:\\Users\\rusty\\AppData\\Local\\Temp\\ipykernel_15640\\3224661968.py:2: FutureWarning: \n",
      "\n",
      "Passing `palette` without assigning `hue` is deprecated and will be removed in v0.14.0. Assign the `x` variable to `hue` and set `legend=False` for the same effect.\n",
      "\n",
      "  sns.countplot(\n"
     ]
    },
    {
     "data": {
      "image/png": "[encoded data removed]",
      "text/plain": [
       "<Figure size 800x400 with 1 Axes>"
      ]
     },
     "metadata": {},
     "output_type": "display_data"
    }
   ],
   "source": [
    "plt.figure(figsize=(8,4))\n",
    "sns.countplot(\n",
    "  x=\"Priority\",\n",
    "  data=processed_df,\n",
    "  order=processed_df[\"Priority\"].value_counts().index,\n",
    "  palette=\"viridis\"\n",
    ")\n",
    "\n",
    "plt.title(\"Class Distribution of Bug Priorities\")\n",
    "plt.xlabel(\"Priority Label\")\n",
    "plt.ylabel(\"Count\")\n",
    "plt.show()"
   ]
  },
  {
   "cell_type": "code",
   "execution_count": 65,
   "id": "d97addd6",
   "metadata": {},
   "outputs": [
    {
     "name": "stdout",
     "output_type": "stream",
     "text": [
      "Class proportions:  Priority\n",
      "2    0.586427\n",
      "1    0.178236\n",
      "0    0.169443\n",
      "3    0.043323\n",
      "4    0.022571\n",
      "Name: count, dtype: float64\n"
     ]
    }
   ],
   "source": [
    "class_counts = processed_df[\"Priority\"].value_counts()\n",
    "class_proportions = class_counts / len(processed_df)\n",
    "print(\"Class proportions: \", class_proportions)"
   ]
  },
  {
   "cell_type": "markdown",
   "id": "f4b24b75",
   "metadata": {},
   "source": [
    "## Load up Base Model (BERT) for classification"
   ]
  },
  {
   "cell_type": "code",
   "execution_count": 40,
   "id": "990594e7",
   "metadata": {},
   "outputs": [
    {
     "name": "stderr",
     "output_type": "stream",
     "text": [
      "Some weights of BertForSequenceClassification were not initialized from the model checkpoint at bert-base-uncased and are newly initialized: ['classifier.bias', 'classifier.weight']\n",
      "You should probably TRAIN this model on a down-stream task to be able to use it for predictions and inference.\n"
     ]
    }
   ],
   "source": [
    "model = AutoModelForSequenceClassification.from_pretrained(\n",
    "  \"bert-base-uncased\",\n",
    "  num_labels=num_labels\n",
    ").to(device)"
   ]
  },
  {
   "cell_type": "markdown",
   "id": "db30a062",
   "metadata": {},
   "source": [
    "## Custom Weighted Loss Trainer"
   ]
  },
  {
   "cell_type": "code",
   "execution_count": null,
   "id": "e0158798",
   "metadata": {},
   "outputs": [],
   "source": [
    "class WeightedTrainer(Trainer):\n",
    "  \"\"\"\n",
    "  A custom Hugging Face Trainer that supports class-weighted loss for handling imbalanced datasets.\n",
    "  \n",
    "  This class extends teh default `Trainer` by applying a weighted CrossEntropyLoss using weights\n",
    "  provided at initialization. It allows the model to place more emphasis on underrepresented\n",
    "  classes during training.\n",
    "\n",
    "  Args:\n",
    "      *args: Variable length positional arguments passed to the Hugging Face `Trainer`.\n",
    "      class_weights (torch.Tensor, optional): A tensor containing weights to apply to each class \n",
    "      when computing loss.\n",
    "      **kwargs: Additional keyword arguments passed to the base `Trainer`.\n",
    "      \n",
    "  Methods:\n",
    "      compute_loss(model, inputs, return_outputs=False, **kwargs):\n",
    "          Computes the class-weighted cross-entropy loss during training or evaluation.\n",
    "  \"\"\"\n",
    "  def __init__(self, *args, class_weights=None, **kwargs):\n",
    "    super().__init__(*args, **kwargs)\n",
    "    self.class_weights = class_weights.to(self.args.device) if class_weights is not None else None\n",
    "    \n",
    "  def compute_loss(self, model, inputs, return_outputs=False, **kwargs):\n",
    "    labels = inputs.get(\"labels\")\n",
    "    \n",
    "    # Forwad pass through the model to obtain predictions\n",
    "    outputs = model(**{k: v for k, v in inputs.items() if k != \"labels\"})\n",
    "    logits = outputs.logits\n",
    "    loss_fct = CrossEntropyLoss(weight=self.class_weights)\n",
    "    \n",
    "    # Compute loss between predicted logits and true labels\n",
    "    loss = loss_fct(logits.view(-1, model.config.num_labels), labels.view(-1))\n",
    "    \n",
    "    return (loss, outputs) if return_outputs else loss"
   ]
  },
  {
   "cell_type": "markdown",
   "id": "a9f81c3c",
   "metadata": {},
   "source": [
    "## Evaluation Metrics"
   ]
  },
  {
   "cell_type": "code",
   "execution_count": null,
   "id": "ebc9b5e3",
   "metadata": {},
   "outputs": [],
   "source": [
    "def compute_metric(pred):\n",
    "  \"\"\"\n",
    "  Compute metrics for model evaluation.\n",
    "\n",
    "  Args:\n",
    "      pred (transformer.EvalPrediction): An object containing the model's raw predictions and the true labels.\n",
    "\n",
    "  Returns:\n",
    "      dict: A dictionary containing the following metrics:\n",
    "      - accuracy (float): Overall accuracy score.\n",
    "      - precision_macro (float): Macro-averaged precision across all classes.\n",
    "      - recall_macro (float): Macro-averaged recall across all classes.\n",
    "      - f1_macro (float): Macro-averaged F1 score.\n",
    "  \"\"\"\n",
    "  logits = pred.predictions\n",
    "  preds = np.argmax(logits, axis=-1)\n",
    "  labels = pred.label_ids\n",
    "  \n",
    "  accuracy = accuracy_score(labels, preds)\n",
    "  precision_macro = precision_score(labels, preds, average=\"macro\", zero_division=0)\n",
    "  recall_macro = recall_score(labels, preds, average=\"macro\", zero_division=0)\n",
    "  f1_macro = f1_score(labels, preds, average=\"macro\")\n",
    "  \n",
    "  return {\n",
    "    \"accuracy\": accuracy,\n",
    "    \"precision_macro\": precision_macro,\n",
    "    \"recall_macro\": recall_macro,\n",
    "    \"f1_macro\": f1_macro\n",
    "  }"
   ]
  },
  {
   "cell_type": "markdown",
   "id": "9148b450",
   "metadata": {},
   "source": [
    "## Training Configuration"
   ]
  },
  {
   "cell_type": "code",
   "execution_count": 43,
   "id": "cca2b50e",
   "metadata": {},
   "outputs": [],
   "source": [
    "# Define training arguments\n",
    "training_args = TrainingArguments(\n",
    "  output_dir=\"../models/bert\",\n",
    "  per_device_train_batch_size=16,\n",
    "  per_device_eval_batch_size=16,\n",
    "  learning_rate=2e-5,\n",
    "  num_train_epochs=4,\n",
    "  eval_strategy=\"epoch\",\n",
    "  save_strategy=\"epoch\",\n",
    "  logging_dir=\"../models/bert/logs/\",\n",
    "  logging_steps=100,\n",
    "  weight_decay=0.01,\n",
    "  load_best_model_at_end=True,\n",
    "  metric_for_best_model=\"f1_macro\",\n",
    "  fp16=True\n",
    ")"
   ]
  },
  {
   "cell_type": "markdown",
   "id": "e29ad649",
   "metadata": {},
   "source": [
    "## Train Model"
   ]
  },
  {
   "cell_type": "code",
   "execution_count": 44,
   "id": "bf8b6d26",
   "metadata": {},
   "outputs": [
    {
     "name": "stderr",
     "output_type": "stream",
     "text": [
      "C:\\Users\\rusty\\AppData\\Local\\Temp\\ipykernel_15640\\1673886968.py:3: FutureWarning: `tokenizer` is deprecated and will be removed in version 5.0.0 for `WeightedTrainer.__init__`. Use `processing_class` instead.\n",
      "  super().__init__(*args, **kwargs)\n"
     ]
    }
   ],
   "source": [
    "trainer = WeightedTrainer(\n",
    "  model=model,\n",
    "  args=training_args,\n",
    "  train_dataset=ds[\"train\"],\n",
    "  eval_dataset=ds[\"validation\"],\n",
    "  tokenizer=tokenizer,\n",
    "  data_collator=data_collator,\n",
    "  compute_metrics=compute_metric,\n",
    "  class_weights=class_weights\n",
    ")"
   ]
  },
  {
   "cell_type": "code",
   "execution_count": 45,
   "id": "ef341178",
   "metadata": {},
   "outputs": [
    {
     "data": {
      "text/html": [
       "\n",
       "    <div>\n",
       "      \n",
       "      <progress value='11876' max='11876' style='width:300px; height:20px; vertical-align: middle;'></progress>\n",
       "      [11876/11876 1:22:13, Epoch 4/4]\n",
       "    </div>\n",
       "    <table border=\"1\" class=\"dataframe\">\n",
       "  <thead>\n",
       " <tr style=\"text-align: left;\">\n",
       "      <th>Epoch</th>\n",
       "      <th>Training Loss</th>\n",
       "      <th>Validation Loss</th>\n",
       "      <th>Accuracy</th>\n",
       "      <th>Precision Macro</th>\n",
       "      <th>Recall Macro</th>\n",
       "      <th>F1 Macro</th>\n",
       "    </tr>\n",
       "  </thead>\n",
       "  <tbody>\n",
       "    <tr>\n",
       "      <td>1</td>\n",
       "      <td>1.338100</td>\n",
       "      <td>1.377870</td>\n",
       "      <td>0.562062</td>\n",
       "      <td>0.383686</td>\n",
       "      <td>0.425013</td>\n",
       "      <td>0.376093</td>\n",
       "    </tr>\n",
       "    <tr>\n",
       "      <td>2</td>\n",
       "      <td>1.304100</td>\n",
       "      <td>1.351138</td>\n",
       "      <td>0.553345</td>\n",
       "      <td>0.405595</td>\n",
       "      <td>0.441314</td>\n",
       "      <td>0.410262</td>\n",
       "    </tr>\n",
       "    <tr>\n",
       "      <td>3</td>\n",
       "      <td>1.158300</td>\n",
       "      <td>1.419838</td>\n",
       "      <td>0.582149</td>\n",
       "      <td>0.411232</td>\n",
       "      <td>0.449853</td>\n",
       "      <td>0.422859</td>\n",
       "    </tr>\n",
       "    <tr>\n",
       "      <td>4</td>\n",
       "      <td>0.908900</td>\n",
       "      <td>1.539901</td>\n",
       "      <td>0.585749</td>\n",
       "      <td>0.412580</td>\n",
       "      <td>0.448526</td>\n",
       "      <td>0.424425</td>\n",
       "    </tr>\n",
       "  </tbody>\n",
       "</table><p>"
      ],
      "text/plain": [
       "<IPython.core.display.HTML object>"
      ]
     },
     "metadata": {},
     "output_type": "display_data"
    },
    {
     "data": {
      "text/plain": [
       "TrainOutput(global_step=11876, training_loss=1.2031106997034131, metrics={'train_runtime': 4933.7475, 'train_samples_per_second': 38.502, 'train_steps_per_second': 2.407, 'total_flos': 2.8855073099247264e+16, 'train_loss': 1.2031106997034131, 'epoch': 4.0})"
      ]
     },
     "execution_count": 45,
     "metadata": {},
     "output_type": "execute_result"
    }
   ],
   "source": [
    "trainer.train()"
   ]
  },
  {
   "cell_type": "code",
   "execution_count": 46,
   "id": "d0ea1c55",
   "metadata": {},
   "outputs": [
    {
     "data": {
      "text/html": [],
      "text/plain": [
       "<IPython.core.display.HTML object>"
      ]
     },
     "metadata": {},
     "output_type": "display_data"
    },
    {
     "data": {
      "text/plain": [
       "{'eval_loss': 1.539900779724121,\n",
       " 'eval_accuracy': 0.5857494788705704,\n",
       " 'eval_precision_macro': 0.4125799594705037,\n",
       " 'eval_recall_macro': 0.4485259813189809,\n",
       " 'eval_f1_macro': 0.42442523501381874,\n",
       " 'eval_runtime': 37.3811,\n",
       " 'eval_samples_per_second': 141.167,\n",
       " 'eval_steps_per_second': 8.828,\n",
       " 'epoch': 4.0}"
      ]
     },
     "execution_count": 46,
     "metadata": {},
     "output_type": "execute_result"
    }
   ],
   "source": [
    "trainer.evaluate()"
   ]
  },
  {
   "cell_type": "markdown",
   "id": "3ed34f11",
   "metadata": {},
   "source": [
    "## Confusion Matrix & Classification Report"
   ]
  },
  {
   "cell_type": "code",
   "execution_count": null,
   "id": "ba135110",
   "metadata": {},
   "outputs": [
    {
     "data": {
      "image/png": "[encoded data removed]",
      "text/plain": [
       "<Figure size 800x600 with 2 Axes>"
      ]
     },
     "metadata": {},
     "output_type": "display_data"
    }
   ],
   "source": [
    "predictions = trainer.predict(ds[\"validation\"])\n",
    "y_true = predictions.label_ids\n",
    "y_pred = np.argmax(predictions.predictions, axis=1)\n",
    "\n",
    "labels = sorted(processed_df[\"Priority\"].unique())\n",
    "cm = confusion_matrix(y_true, y_pred)\n",
    "\n",
    "plt.figure(figsize=(8,6))\n",
    "sns.heatmap(\n",
    "  cm,\n",
    "  annot=True,\n",
    "  fmt=\"d\",\n",
    "  cmap=\"Blues\",\n",
    "  xticklabels=labels,\n",
    "  yticklabels=labels\n",
    ")\n",
    "\n",
    "plt.title(\"Confusion Matrix on Validation Set\")\n",
    "plt.xlabel(\"Predicted Label\")\n",
    "plt.ylabel(\"True Label\")\n",
    "plt.show()"
   ]
  },
  {
   "cell_type": "code",
   "execution_count": 70,
   "id": "81091481",
   "metadata": {},
   "outputs": [
    {
     "name": "stdout",
     "output_type": "stream",
     "text": [
      "Classification Report:\n",
      "              precision    recall  f1-score   support\n",
      "\n",
      "           0      0.461     0.509     0.484       894\n",
      "           1      0.346     0.419     0.379       940\n",
      "           2      0.814     0.688     0.746      3095\n",
      "           3      0.197     0.341     0.250       229\n",
      "           4      0.245     0.286     0.264       119\n",
      "\n",
      "    accuracy                          0.586      5277\n",
      "   macro avg      0.413     0.449     0.424      5277\n",
      "weighted avg      0.631     0.586     0.604      5277\n",
      "\n"
     ]
    }
   ],
   "source": [
    "label_names = [str(l) for l in labels]\n",
    "print(\"Classification Report:\")\n",
    "print(classification_report(y_true, y_pred, target_names=label_names, digits=3))"
   ]
  },
  {
   "cell_type": "markdown",
   "id": "afa2ac2e",
   "metadata": {},
   "source": [
    "### Evaluation Summary\n",
    "\n",
    "The trained model achieves an overall accuracy of 58.6%, meaning it correctly predicts the priority class for roughly 6 out of 10 issues.\n",
    "\n",
    "- **Precision** measures how many of the instances predicted for a class weree actually correct. For example, the Medium class (2) has a high precision of 0.814, meaning most of its predictions are correct, whereas Low (3) and Trivial (4) have low precision, indicating many false positives.\n",
    "- **Recall** measures how many actual instances of a class the model correctly identified. Medium (2) has a recall of 0.688, so the model captures most of the true Medium issues, but classes like Low and Trivial have low recall, meaning many of these cases are missed.\n",
    "- **F1-score** is the harmonic mean of precision and recall, providing a single metric to balance both concerns. Medium achieves 0.746, the highest among all classes, reflecting a strong balance between correct predictions and coverage.\n",
    "- **Macro averages** treat all classes equally, showing that the model performs poorly on rare classes (precision 0.413, recall 0.449, F1 0.424), while **weighted averages** account for class frequency, reflecting overall better performance dominated by the Medium class (precision 0.631, recall 0.586, F1 0.604)\n",
    "\n",
    "In short, the model reliably predicts common classes like Medium, but struggles with rarer priorities, highlighting class imbalance and the need for careful handling of underrepresented labels."
   ]
  },
  {
   "cell_type": "markdown",
   "id": "03581f5c",
   "metadata": {},
   "source": [
    "## Save Model and Label Map"
   ]
  },
  {
   "cell_type": "code",
   "execution_count": 71,
   "id": "64e0c2ef",
   "metadata": {},
   "outputs": [
    {
     "data": {
      "text/plain": [
       "('../models/bert\\\\tokenizer_config.json',\n",
       " '../models/bert\\\\special_tokens_map.json',\n",
       " '../models/bert\\\\vocab.txt',\n",
       " '../models/bert\\\\added_tokens.json',\n",
       " '../models/bert\\\\tokenizer.json')"
      ]
     },
     "execution_count": 71,
     "metadata": {},
     "output_type": "execute_result"
    }
   ],
   "source": [
    "trainer.save_model(\"../models/bert\")\n",
    "tokenizer.save_pretrained(\"../models/bert\")"
   ]
  },
  {
   "cell_type": "code",
   "execution_count": 72,
   "id": "2a552fad",
   "metadata": {},
   "outputs": [
    {
     "name": "stdout",
     "output_type": "stream",
     "text": [
      "Saved model + tokenizer + label_map\n"
     ]
    }
   ],
   "source": [
    "label_map = {\n",
    "  0: \"Critical\",\n",
    "  1: \"High\",\n",
    "  2: \"Medium\",\n",
    "  3: \"Low\",\n",
    "  4: \"Trivial\"\n",
    "}\n",
    "\n",
    "with open(\"../models/bert/label_map.json\", \"w\") as f:\n",
    "  json.dump(label_map, f)\n",
    "  \n",
    "print(\"Saved model + tokenizer + label_map\")"
   ]
  },
  {
   "cell_type": "markdown",
   "id": "12132693",
   "metadata": {},
   "source": [
    "## Test Set Inference\n",
    "\n",
    "This section performs batch inference on the test dataset using the trained BERT model.<br>\n",
    "It also visualizes prediction confidence and distributions to better understand model performance."
   ]
  },
  {
   "cell_type": "code",
   "execution_count": 20,
   "id": "759e48dd",
   "metadata": {},
   "outputs": [],
   "source": [
    "test_df = pd.read_csv(\"../../data/raw/test.csv\")"
   ]
  },
  {
   "cell_type": "code",
   "execution_count": 21,
   "id": "4f98dcc0",
   "metadata": {},
   "outputs": [
    {
     "data": {
      "text/html": [
       "<div>\n",
       "<style scoped>\n",
       "    .dataframe tbody tr th:only-of-type {\n",
       "        vertical-align: middle;\n",
       "    }\n",
       "\n",
       "    .dataframe tbody tr th {\n",
       "        vertical-align: top;\n",
       "    }\n",
       "\n",
       "    .dataframe thead th {\n",
       "        text-align: right;\n",
       "    }\n",
       "</style>\n",
       "<table border=\"1\" class=\"dataframe\">\n",
       "  <thead>\n",
       "    <tr style=\"text-align: right;\">\n",
       "      <th></th>\n",
       "      <th>Issue_id</th>\n",
       "      <th>Component</th>\n",
       "      <th>Title</th>\n",
       "      <th>Description</th>\n",
       "      <th>Status</th>\n",
       "      <th>Resolution</th>\n",
       "    </tr>\n",
       "  </thead>\n",
       "  <tbody>\n",
       "    <tr>\n",
       "      <th>0</th>\n",
       "      <td>6578</td>\n",
       "      <td>JavaScript Engine</td>\n",
       "      <td>Finalize yield syntax to match ES4/JS2 proposal</td>\n",
       "      <td>This tracks Python 2.5.  Currently we allow; ;...</td>\n",
       "      <td>VERIFIED</td>\n",
       "      <td>FIXED</td>\n",
       "    </tr>\n",
       "    <tr>\n",
       "      <th>1</th>\n",
       "      <td>8050</td>\n",
       "      <td>Networking: Cache</td>\n",
       "      <td>e10s HTTP: offline application cache</td>\n",
       "      <td>I actually know very little about how applicat...</td>\n",
       "      <td>RESOLVED</td>\n",
       "      <td>FIXED</td>\n",
       "    </tr>\n",
       "    <tr>\n",
       "      <th>2</th>\n",
       "      <td>5281</td>\n",
       "      <td>DOM: Core &amp; HTML</td>\n",
       "      <td>[FIX]Add GetOwnerDocument on nsIContent or nsG...</td>\n",
       "      <td>See comments in bug 211440; the idea is to add...</td>\n",
       "      <td>RESOLVED</td>\n",
       "      <td>FIXED</td>\n",
       "    </tr>\n",
       "    <tr>\n",
       "      <th>3</th>\n",
       "      <td>7871</td>\n",
       "      <td>Layout: View Rendering</td>\n",
       "      <td>Text editing broken in Firebug edit mode and o...</td>\n",
       "      <td>Getting reports that editing is broken in Fire...</td>\n",
       "      <td>VERIFIED</td>\n",
       "      <td>FIXED</td>\n",
       "    </tr>\n",
       "    <tr>\n",
       "      <th>4</th>\n",
       "      <td>2411</td>\n",
       "      <td>Plug-ins</td>\n",
       "      <td>shockwave movies redraw improperly on mac(nsbe...</td>\n",
       "      <td>From Bugzilla Helper:; User-Agent: Mozilla/4.7...</td>\n",
       "      <td>VERIFIED</td>\n",
       "      <td>DUPLICATE</td>\n",
       "    </tr>\n",
       "  </tbody>\n",
       "</table>\n",
       "</div>"
      ],
      "text/plain": [
       "   Issue_id               Component  \\\n",
       "0      6578       JavaScript Engine   \n",
       "1      8050       Networking: Cache   \n",
       "2      5281        DOM: Core & HTML   \n",
       "3      7871  Layout: View Rendering   \n",
       "4      2411                Plug-ins   \n",
       "\n",
       "                                               Title  \\\n",
       "0    Finalize yield syntax to match ES4/JS2 proposal   \n",
       "1               e10s HTTP: offline application cache   \n",
       "2  [FIX]Add GetOwnerDocument on nsIContent or nsG...   \n",
       "3  Text editing broken in Firebug edit mode and o...   \n",
       "4  shockwave movies redraw improperly on mac(nsbe...   \n",
       "\n",
       "                                         Description    Status Resolution  \n",
       "0  This tracks Python 2.5.  Currently we allow; ;...  VERIFIED      FIXED  \n",
       "1  I actually know very little about how applicat...  RESOLVED      FIXED  \n",
       "2  See comments in bug 211440; the idea is to add...  RESOLVED      FIXED  \n",
       "3  Getting reports that editing is broken in Fire...  VERIFIED      FIXED  \n",
       "4  From Bugzilla Helper:; User-Agent: Mozilla/4.7...  VERIFIED  DUPLICATE  "
      ]
     },
     "execution_count": 21,
     "metadata": {},
     "output_type": "execute_result"
    }
   ],
   "source": [
    "test_df.head()"
   ]
  },
  {
   "cell_type": "code",
   "execution_count": 22,
   "id": "dc139946",
   "metadata": {},
   "outputs": [],
   "source": [
    "# Combine test fields into text\n",
    "test_df[\"Text\"] = (\n",
    "  \"[TITLE] Title: \" + test_df[\"Title\"].fillna(\"\") + \" | \" +\n",
    "  \"[DESC] Description: \" + test_df[\"Description\"].fillna(\"\") + \" | \" +\n",
    "  \"[META] Component: \" + test_df[\"Component\"].fillna(\"unknown\") + \" | \" +\n",
    "  \"[META] Status: \" + test_df[\"Status\"].fillna(\"unknown\") + \" | \" +\n",
    "  \"[META] Resolution: \" + test_df[\"Resolution\"].fillna(\"unknown\")\n",
    ")"
   ]
  },
  {
   "cell_type": "code",
   "execution_count": 23,
   "id": "411de4d4",
   "metadata": {},
   "outputs": [
    {
     "data": {
      "text/plain": [
       "BertForSequenceClassification(\n",
       "  (bert): BertModel(\n",
       "    (embeddings): BertEmbeddings(\n",
       "      (word_embeddings): Embedding(30522, 768, padding_idx=0)\n",
       "      (position_embeddings): Embedding(512, 768)\n",
       "      (token_type_embeddings): Embedding(2, 768)\n",
       "      (LayerNorm): LayerNorm((768,), eps=1e-12, elementwise_affine=True)\n",
       "      (dropout): Dropout(p=0.1, inplace=False)\n",
       "    )\n",
       "    (encoder): BertEncoder(\n",
       "      (layer): ModuleList(\n",
       "        (0-11): 12 x BertLayer(\n",
       "          (attention): BertAttention(\n",
       "            (self): BertSdpaSelfAttention(\n",
       "              (query): Linear(in_features=768, out_features=768, bias=True)\n",
       "              (key): Linear(in_features=768, out_features=768, bias=True)\n",
       "              (value): Linear(in_features=768, out_features=768, bias=True)\n",
       "              (dropout): Dropout(p=0.1, inplace=False)\n",
       "            )\n",
       "            (output): BertSelfOutput(\n",
       "              (dense): Linear(in_features=768, out_features=768, bias=True)\n",
       "              (LayerNorm): LayerNorm((768,), eps=1e-12, elementwise_affine=True)\n",
       "              (dropout): Dropout(p=0.1, inplace=False)\n",
       "            )\n",
       "          )\n",
       "          (intermediate): BertIntermediate(\n",
       "            (dense): Linear(in_features=768, out_features=3072, bias=True)\n",
       "            (intermediate_act_fn): GELUActivation()\n",
       "          )\n",
       "          (output): BertOutput(\n",
       "            (dense): Linear(in_features=3072, out_features=768, bias=True)\n",
       "            (LayerNorm): LayerNorm((768,), eps=1e-12, elementwise_affine=True)\n",
       "            (dropout): Dropout(p=0.1, inplace=False)\n",
       "          )\n",
       "        )\n",
       "      )\n",
       "    )\n",
       "    (pooler): BertPooler(\n",
       "      (dense): Linear(in_features=768, out_features=768, bias=True)\n",
       "      (activation): Tanh()\n",
       "    )\n",
       "  )\n",
       "  (dropout): Dropout(p=0.1, inplace=False)\n",
       "  (classifier): Linear(in_features=768, out_features=5, bias=True)\n",
       ")"
      ]
     },
     "execution_count": 23,
     "metadata": {},
     "output_type": "execute_result"
    }
   ],
   "source": [
    "# Load trained model and tokenizer\n",
    "tokenizer = AutoTokenizer.from_pretrained(\"../models/bert\")\n",
    "model = AutoModelForSequenceClassification.from_pretrained(\"../models/bert\").to(device)\n",
    "model.eval()"
   ]
  },
  {
   "cell_type": "code",
   "execution_count": 24,
   "id": "f98dd0c6",
   "metadata": {},
   "outputs": [
    {
     "data": {
      "text/plain": [
       "{0: 'Critical', 1: 'High', 2: 'Medium', 3: 'Low', 4: 'Trivial'}"
      ]
     },
     "execution_count": 24,
     "metadata": {},
     "output_type": "execute_result"
    }
   ],
   "source": [
    "# Load label map to help with readable labels\n",
    "with open(\"../models/bert/label_map.json\", \"r\") as f:\n",
    "  label_map = {int(k): v for k, v in json.load(f).items()}\n",
    "\n",
    "label_map"
   ]
  },
  {
   "cell_type": "code",
   "execution_count": 25,
   "id": "13df16f0",
   "metadata": {},
   "outputs": [],
   "source": [
    "# Batch inference\n",
    "batch_size = 16\n",
    "all_preds = []\n",
    "all_probs = []\n",
    "\n",
    "for i in range(0, len(test_df), batch_size):\n",
    "  batch_texts = test_df[\"Text\"].iloc[i:i + batch_size].tolist()\n",
    "  inputs = tokenizer(batch_texts, truncation=True, max_length=296, padding=True, return_tensors=\"pt\")\n",
    "  inputs = {k: v.to(device) for k, v in inputs.items()}  # Move to device\n",
    "  \n",
    "  with torch.no_grad():\n",
    "    outputs = model(**inputs)\n",
    "    \n",
    "    # Convert logits to probabilities\n",
    "    probs = softmax(outputs.logits, dim=-1).cpu().numpy()\n",
    "    preds_batch = probs.argmax(axis=-1)  # Predicted class indices\n",
    "    \n",
    "    all_preds.extend(preds_batch)\n",
    "    all_probs.extend(probs)"
   ]
  },
  {
   "cell_type": "code",
   "execution_count": 26,
   "id": "d28567a6",
   "metadata": {},
   "outputs": [],
   "source": [
    "# Add predictions and probabilities to DataFrame\n",
    "probs_df = pd.DataFrame(probs_list, columns=[label_map[i] for i in range(len(label_map))])\n",
    "test_df[\"Predicted_Priority\"] = [label_map[i] for i in all_preds]\n",
    "test_df = pd.concat([test_df, probs_df], axis=1)"
   ]
  },
  {
   "cell_type": "code",
   "execution_count": 27,
   "id": "a4562e32",
   "metadata": {},
   "outputs": [
    {
     "data": {
      "text/html": [
       "<div>\n",
       "<style scoped>\n",
       "    .dataframe tbody tr th:only-of-type {\n",
       "        vertical-align: middle;\n",
       "    }\n",
       "\n",
       "    .dataframe tbody tr th {\n",
       "        vertical-align: top;\n",
       "    }\n",
       "\n",
       "    .dataframe thead th {\n",
       "        text-align: right;\n",
       "    }\n",
       "</style>\n",
       "<table border=\"1\" class=\"dataframe\">\n",
       "  <thead>\n",
       "    <tr style=\"text-align: right;\">\n",
       "      <th></th>\n",
       "      <th>Issue_id</th>\n",
       "      <th>Component</th>\n",
       "      <th>Title</th>\n",
       "      <th>Description</th>\n",
       "      <th>Status</th>\n",
       "      <th>Resolution</th>\n",
       "      <th>Text</th>\n",
       "      <th>Predicted_Priority</th>\n",
       "      <th>Critical</th>\n",
       "      <th>High</th>\n",
       "      <th>Medium</th>\n",
       "      <th>Low</th>\n",
       "      <th>Trivial</th>\n",
       "      <th>Max_Confidence</th>\n",
       "    </tr>\n",
       "  </thead>\n",
       "  <tbody>\n",
       "    <tr>\n",
       "      <th>1280</th>\n",
       "      <td>52665</td>\n",
       "      <td>Networking: Cookies</td>\n",
       "      <td>Cookie Manager: add an expiration time column</td>\n",
       "      <td>Putting an additional column in the cookie man...</td>\n",
       "      <td>RESOLVED</td>\n",
       "      <td>FIXED</td>\n",
       "      <td>[TITLE] Title: Cookie Manager: add an expirati...</td>\n",
       "      <td>High</td>\n",
       "      <td>0.189420</td>\n",
       "      <td>0.262910</td>\n",
       "      <td>0.207303</td>\n",
       "      <td>0.258223</td>\n",
       "      <td>0.082144</td>\n",
       "      <td>0.262910</td>\n",
       "    </tr>\n",
       "    <tr>\n",
       "      <th>933</th>\n",
       "      <td>44202</td>\n",
       "      <td>Networking: Cookies</td>\n",
       "      <td>Allow Cookies from this; should be Allow ... t...</td>\n",
       "      <td>So; given the debate on bug 50496 about Site v...</td>\n",
       "      <td>RESOLVED</td>\n",
       "      <td>FIXED</td>\n",
       "      <td>[TITLE] Title: Allow Cookies from this; should...</td>\n",
       "      <td>High</td>\n",
       "      <td>0.177404</td>\n",
       "      <td>0.286436</td>\n",
       "      <td>0.235547</td>\n",
       "      <td>0.250695</td>\n",
       "      <td>0.049918</td>\n",
       "      <td>0.286436</td>\n",
       "    </tr>\n",
       "    <tr>\n",
       "      <th>237</th>\n",
       "      <td>9378</td>\n",
       "      <td>Help Documentation</td>\n",
       "      <td>Remove keyboard and mouse shortcuts for other ...</td>\n",
       "      <td>The Keyboard Shortcuts document has wrong entr...</td>\n",
       "      <td>RESOLVED</td>\n",
       "      <td>FIXED</td>\n",
       "      <td>[TITLE] Title: Remove keyboard and mouse short...</td>\n",
       "      <td>High</td>\n",
       "      <td>0.126186</td>\n",
       "      <td>0.288300</td>\n",
       "      <td>0.224415</td>\n",
       "      <td>0.235374</td>\n",
       "      <td>0.125725</td>\n",
       "      <td>0.288300</td>\n",
       "    </tr>\n",
       "    <tr>\n",
       "      <th>677</th>\n",
       "      <td>25035</td>\n",
       "      <td>Layout</td>\n",
       "      <td>[QUIRKS][INLINE-V][WHITESPACE]should be space ...</td>\n",
       "      <td>Nav 4.6 and pevious versions of Gecko (before ...</td>\n",
       "      <td>VERIFIED</td>\n",
       "      <td>WONTFIX</td>\n",
       "      <td>[TITLE] Title: [QUIRKS][INLINE-V][WHITESPACE]s...</td>\n",
       "      <td>Trivial</td>\n",
       "      <td>0.026185</td>\n",
       "      <td>0.216904</td>\n",
       "      <td>0.196968</td>\n",
       "      <td>0.267887</td>\n",
       "      <td>0.292057</td>\n",
       "      <td>0.292057</td>\n",
       "    </tr>\n",
       "    <tr>\n",
       "      <th>928</th>\n",
       "      <td>21944</td>\n",
       "      <td>Layout</td>\n",
       "      <td>nsCSSRendering::PaintBackground is called too ...</td>\n",
       "      <td>I have done the following test:; - Disable the...</td>\n",
       "      <td>VERIFIED</td>\n",
       "      <td>DUPLICATE</td>\n",
       "      <td>[TITLE] Title: nsCSSRendering::PaintBackground...</td>\n",
       "      <td>High</td>\n",
       "      <td>0.174712</td>\n",
       "      <td>0.300146</td>\n",
       "      <td>0.273573</td>\n",
       "      <td>0.226094</td>\n",
       "      <td>0.025476</td>\n",
       "      <td>0.300146</td>\n",
       "    </tr>\n",
       "    <tr>\n",
       "      <th>1313</th>\n",
       "      <td>53381</td>\n",
       "      <td>Theme</td>\n",
       "      <td>http://baruthwebpagecom.ipage.com/art-gallery/</td>\n",
       "      <td>User Agent: Mozilla/5.0 (Macintosh; Intel Mac ...</td>\n",
       "      <td>RESOLVED</td>\n",
       "      <td>DUPLICATE</td>\n",
       "      <td>[TITLE] Title: http://baruthwebpagecom.ipage.c...</td>\n",
       "      <td>Trivial</td>\n",
       "      <td>0.277615</td>\n",
       "      <td>0.294805</td>\n",
       "      <td>0.027292</td>\n",
       "      <td>0.097999</td>\n",
       "      <td>0.302289</td>\n",
       "      <td>0.302289</td>\n",
       "    </tr>\n",
       "    <tr>\n",
       "      <th>1</th>\n",
       "      <td>8050</td>\n",
       "      <td>Networking: Cache</td>\n",
       "      <td>e10s HTTP: offline application cache</td>\n",
       "      <td>I actually know very little about how applicat...</td>\n",
       "      <td>RESOLVED</td>\n",
       "      <td>FIXED</td>\n",
       "      <td>[TITLE] Title: e10s HTTP: offline application ...</td>\n",
       "      <td>High</td>\n",
       "      <td>0.224522</td>\n",
       "      <td>0.308980</td>\n",
       "      <td>0.173899</td>\n",
       "      <td>0.218126</td>\n",
       "      <td>0.074472</td>\n",
       "      <td>0.308980</td>\n",
       "    </tr>\n",
       "    <tr>\n",
       "      <th>1047</th>\n",
       "      <td>47713</td>\n",
       "      <td>DOM: Core &amp; HTML</td>\n",
       "      <td>If i write html with javascript and use meta h...</td>\n",
       "      <td>From Bugzilla Helper:; User-Agent: Mozilla/5.0...</td>\n",
       "      <td>RESOLVED</td>\n",
       "      <td>WORKSFORME</td>\n",
       "      <td>[TITLE] Title: If i write html with javascript...</td>\n",
       "      <td>Low</td>\n",
       "      <td>0.101678</td>\n",
       "      <td>0.196759</td>\n",
       "      <td>0.177689</td>\n",
       "      <td>0.320133</td>\n",
       "      <td>0.203741</td>\n",
       "      <td>0.320133</td>\n",
       "    </tr>\n",
       "    <tr>\n",
       "      <th>41</th>\n",
       "      <td>4651</td>\n",
       "      <td>Security: UI</td>\n",
       "      <td>No redirect warning as in Nav 4.79</td>\n",
       "      <td>6/26 branch. 1.) Visit http://finance.yahoo.co...</td>\n",
       "      <td>RESOLVED</td>\n",
       "      <td>WONTFIX</td>\n",
       "      <td>[TITLE] Title: No redirect warning as in Nav 4...</td>\n",
       "      <td>Medium</td>\n",
       "      <td>0.081864</td>\n",
       "      <td>0.209506</td>\n",
       "      <td>0.321683</td>\n",
       "      <td>0.287609</td>\n",
       "      <td>0.099339</td>\n",
       "      <td>0.321683</td>\n",
       "    </tr>\n",
       "    <tr>\n",
       "      <th>575</th>\n",
       "      <td>25718</td>\n",
       "      <td>Editor</td>\n",
       "      <td>rules API change needed to include handled</td>\n",
       "      <td>The closing half of the rules sandwich (DidDoA...</td>\n",
       "      <td>VERIFIED</td>\n",
       "      <td>FIXED</td>\n",
       "      <td>[TITLE] Title: rules API change needed to incl...</td>\n",
       "      <td>High</td>\n",
       "      <td>0.311995</td>\n",
       "      <td>0.336118</td>\n",
       "      <td>0.320874</td>\n",
       "      <td>0.022081</td>\n",
       "      <td>0.008932</td>\n",
       "      <td>0.336118</td>\n",
       "    </tr>\n",
       "  </tbody>\n",
       "</table>\n",
       "</div>"
      ],
      "text/plain": [
       "      Issue_id            Component  \\\n",
       "1280     52665  Networking: Cookies   \n",
       "933      44202  Networking: Cookies   \n",
       "237       9378   Help Documentation   \n",
       "677      25035               Layout   \n",
       "928      21944               Layout   \n",
       "1313     53381                Theme   \n",
       "1         8050    Networking: Cache   \n",
       "1047     47713     DOM: Core & HTML   \n",
       "41        4651         Security: UI   \n",
       "575      25718               Editor   \n",
       "\n",
       "                                                  Title  \\\n",
       "1280      Cookie Manager: add an expiration time column   \n",
       "933   Allow Cookies from this; should be Allow ... t...   \n",
       "237   Remove keyboard and mouse shortcuts for other ...   \n",
       "677   [QUIRKS][INLINE-V][WHITESPACE]should be space ...   \n",
       "928   nsCSSRendering::PaintBackground is called too ...   \n",
       "1313     http://baruthwebpagecom.ipage.com/art-gallery/   \n",
       "1                  e10s HTTP: offline application cache   \n",
       "1047  If i write html with javascript and use meta h...   \n",
       "41                   No redirect warning as in Nav 4.79   \n",
       "575          rules API change needed to include handled   \n",
       "\n",
       "                                            Description    Status  Resolution  \\\n",
       "1280  Putting an additional column in the cookie man...  RESOLVED       FIXED   \n",
       "933   So; given the debate on bug 50496 about Site v...  RESOLVED       FIXED   \n",
       "237   The Keyboard Shortcuts document has wrong entr...  RESOLVED       FIXED   \n",
       "677   Nav 4.6 and pevious versions of Gecko (before ...  VERIFIED     WONTFIX   \n",
       "928   I have done the following test:; - Disable the...  VERIFIED   DUPLICATE   \n",
       "1313  User Agent: Mozilla/5.0 (Macintosh; Intel Mac ...  RESOLVED   DUPLICATE   \n",
       "1     I actually know very little about how applicat...  RESOLVED       FIXED   \n",
       "1047  From Bugzilla Helper:; User-Agent: Mozilla/5.0...  RESOLVED  WORKSFORME   \n",
       "41    6/26 branch. 1.) Visit http://finance.yahoo.co...  RESOLVED     WONTFIX   \n",
       "575   The closing half of the rules sandwich (DidDoA...  VERIFIED       FIXED   \n",
       "\n",
       "                                                   Text Predicted_Priority  \\\n",
       "1280  [TITLE] Title: Cookie Manager: add an expirati...               High   \n",
       "933   [TITLE] Title: Allow Cookies from this; should...               High   \n",
       "237   [TITLE] Title: Remove keyboard and mouse short...               High   \n",
       "677   [TITLE] Title: [QUIRKS][INLINE-V][WHITESPACE]s...            Trivial   \n",
       "928   [TITLE] Title: nsCSSRendering::PaintBackground...               High   \n",
       "1313  [TITLE] Title: http://baruthwebpagecom.ipage.c...            Trivial   \n",
       "1     [TITLE] Title: e10s HTTP: offline application ...               High   \n",
       "1047  [TITLE] Title: If i write html with javascript...                Low   \n",
       "41    [TITLE] Title: No redirect warning as in Nav 4...             Medium   \n",
       "575   [TITLE] Title: rules API change needed to incl...               High   \n",
       "\n",
       "      Critical      High    Medium       Low   Trivial  Max_Confidence  \n",
       "1280  0.189420  0.262910  0.207303  0.258223  0.082144        0.262910  \n",
       "933   0.177404  0.286436  0.235547  0.250695  0.049918        0.286436  \n",
       "237   0.126186  0.288300  0.224415  0.235374  0.125725        0.288300  \n",
       "677   0.026185  0.216904  0.196968  0.267887  0.292057        0.292057  \n",
       "928   0.174712  0.300146  0.273573  0.226094  0.025476        0.300146  \n",
       "1313  0.277615  0.294805  0.027292  0.097999  0.302289        0.302289  \n",
       "1     0.224522  0.308980  0.173899  0.218126  0.074472        0.308980  \n",
       "1047  0.101678  0.196759  0.177689  0.320133  0.203741        0.320133  \n",
       "41    0.081864  0.209506  0.321683  0.287609  0.099339        0.321683  \n",
       "575   0.311995  0.336118  0.320874  0.022081  0.008932        0.336118  "
      ]
     },
     "execution_count": 27,
     "metadata": {},
     "output_type": "execute_result"
    }
   ],
   "source": [
    "# Display top misclassified or uncertain predictions\n",
    "test_df[\"Max_Confidence\"] = test_df[[*label_map.values()]].max(axis=1)\n",
    "\n",
    "# Display least confident predictions\n",
    "uncertain = test_df.sort_values(\"Max_Confidence\")\n",
    "uncertain.head(10)"
   ]
  },
  {
   "cell_type": "code",
   "execution_count": 28,
   "id": "20e97b55",
   "metadata": {},
   "outputs": [
    {
     "data": {
      "image/png": "[encoded data removed]",
      "text/plain": [
       "<Figure size 800x400 with 1 Axes>"
      ]
     },
     "metadata": {},
     "output_type": "display_data"
    }
   ],
   "source": [
    "# Plot distribution of model confidence\n",
    "plt.figure(figsize=(8,4))\n",
    "sns.histplot(test_df[\"Max_Confidence\"], bins=20, kde=True)\n",
    "plt.title(\"Model Confidence Distribution\")\n",
    "plt.xlabel(\"Max Confidence\")\n",
    "plt.ylabel(\"Count\")\n",
    "plt.show()"
   ]
  },
  {
   "cell_type": "code",
   "execution_count": 29,
   "id": "4654be17",
   "metadata": {},
   "outputs": [
    {
     "data": {
      "image/png": "[encoded data removed]",
      "text/plain": [
       "<Figure size 640x480 with 1 Axes>"
      ]
     },
     "metadata": {},
     "output_type": "display_data"
    }
   ],
   "source": [
    "# Boxplot of Confidence by predicted class\n",
    "sns.boxplot(\n",
    "  x=\"Predicted_Priority\",\n",
    "  y=\"Max_Confidence\",\n",
    "  data=test_df,\n",
    "  hue=\"Predicted_Priority\",\n",
    "  palette=\"viridis\"\n",
    ")\n",
    "plt.title(\"Confidence by Predicted Class\")\n",
    "plt.show()"
   ]
  },
  {
   "cell_type": "markdown",
   "id": "6eb46f66",
   "metadata": {},
   "source": [
    "## Test Set Summary\n",
    "\n",
    "Most predictions are moderately confident overall. Medium, being the most frequent class, shows consistently high confidence, while Trivial, though rare in the initial training dataset, exhibits high confidence on the examples it recognizes, likely due to distinct patterns or keywords in the text. Less frequent classes like High, Critical, and Low tend to have more moderate confidence, which may reflect both their lower representation in the training dataset and the influence of class weights applied during training. Word frequency and distictive patterns in each class can also make some examples easier or harder for the model to classify confidently."
   ]
  }
 ],
 "metadata": {
  "kernelspec": {
   "display_name": "bug-triage-env",
   "language": "python",
   "name": "python3"
  },
  "language_info": {
   "codemirror_mode": {
    "name": "ipython",
    "version": 3
   },
   "file_extension": ".py",
   "mimetype": "text/x-python",
   "name": "python",
   "nbconvert_exporter": "python",
   "pygments_lexer": "ipython3",
   "version": "3.11.13"
  }
 },
 "nbformat": 4,
 "nbformat_minor": 5
}

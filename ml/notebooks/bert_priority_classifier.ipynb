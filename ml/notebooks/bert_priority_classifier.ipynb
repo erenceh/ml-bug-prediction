{
 "cells": [
  {
   "cell_type": "code",
   "execution_count": 1,
   "id": "6264ef97",
   "metadata": {},
   "outputs": [],
   "source": [
    "import pandas as pd\n",
    "import numpy as np\n",
    "import matplotlib.pyplot as plt\n",
    "import seaborn as sns\n",
    "import joblib\n",
    "from sklearn.model_selection import train_test_split\n",
    "from sklearn.preprocessing import LabelEncoder\n",
    "from sklearn.utils import resample\n",
    "from sklearn.utils.class_weight import compute_class_weight\n",
    "\n",
    "import torch\n",
    "from torch.nn import CrossEntropyLoss\n",
    "\n",
    "from transformers import (\n",
    "  AutoTokenizer, \n",
    "  AutoModelForSequenceClassification, \n",
    "  Trainer, \n",
    "  TrainingArguments,\n",
    "  DataCollatorWithPadding\n",
    ")\n",
    "\n",
    "from datasets import Dataset, DatasetDict\n",
    "from sklearn.metrics import (\n",
    "  accuracy_score,\n",
    "  f1_score,\n",
    "  precision_score,\n",
    "  recall_score,\n",
    "  confusion_matrix,\n",
    "  classification_report\n",
    "  )\n",
    "import os\n",
    "import json"
   ]
  },
  {
   "cell_type": "code",
   "execution_count": 2,
   "id": "3c667284",
   "metadata": {},
   "outputs": [],
   "source": [
    "device = torch.device(\"cuda\" if torch.cuda.is_available() else \"cpu\")"
   ]
  },
  {
   "cell_type": "code",
   "execution_count": 3,
   "id": "eba0e540",
   "metadata": {},
   "outputs": [
    {
     "data": {
      "text/html": [
       "<div>\n",
       "<style scoped>\n",
       "    .dataframe tbody tr th:only-of-type {\n",
       "        vertical-align: middle;\n",
       "    }\n",
       "\n",
       "    .dataframe tbody tr th {\n",
       "        vertical-align: top;\n",
       "    }\n",
       "\n",
       "    .dataframe thead th {\n",
       "        text-align: right;\n",
       "    }\n",
       "</style>\n",
       "<table border=\"1\" class=\"dataframe\">\n",
       "  <thead>\n",
       "    <tr style=\"text-align: right;\">\n",
       "      <th></th>\n",
       "      <th>Text</th>\n",
       "      <th>Component</th>\n",
       "      <th>Status</th>\n",
       "      <th>Resolution</th>\n",
       "      <th>Priority</th>\n",
       "    </tr>\n",
       "  </thead>\n",
       "  <tbody>\n",
       "    <tr>\n",
       "      <th>0</th>\n",
       "      <td>font size 9px rounded down to 8px {font} {ll} ...</td>\n",
       "      <td>Layout</td>\n",
       "      <td>VERIFIED</td>\n",
       "      <td>FIXED</td>\n",
       "      <td>0</td>\n",
       "    </tr>\n",
       "    <tr>\n",
       "      <th>1</th>\n",
       "      <td>Land OOP plugins in mozilla-central (preffed o...</td>\n",
       "      <td>Plug-ins</td>\n",
       "      <td>RESOLVED</td>\n",
       "      <td>FIXED</td>\n",
       "      <td>0</td>\n",
       "    </tr>\n",
       "    <tr>\n",
       "      <th>2</th>\n",
       "      <td>XP-COM Proxy code crashes when trying to AutoP...</td>\n",
       "      <td>XPCOM</td>\n",
       "      <td>VERIFIED</td>\n",
       "      <td>FIXED</td>\n",
       "      <td>0</td>\n",
       "    </tr>\n",
       "    <tr>\n",
       "      <th>3</th>\n",
       "      <td>crash setting display:none on grid rows [@ nsG...</td>\n",
       "      <td>XUL</td>\n",
       "      <td>VERIFIED</td>\n",
       "      <td>FIXED</td>\n",
       "      <td>0</td>\n",
       "    </tr>\n",
       "    <tr>\n",
       "      <th>4</th>\n",
       "      <td>limit the memory cache to a reasonable value I...</td>\n",
       "      <td>Networking</td>\n",
       "      <td>VERIFIED</td>\n",
       "      <td>FIXED</td>\n",
       "      <td>0</td>\n",
       "    </tr>\n",
       "    <tr>\n",
       "      <th>...</th>\n",
       "      <td>...</td>\n",
       "      <td>...</td>\n",
       "      <td>...</td>\n",
       "      <td>...</td>\n",
       "      <td>...</td>\n",
       "    </tr>\n",
       "    <tr>\n",
       "      <th>52989</th>\n",
       "      <td>Replicate functionality (1GGP770) In regular u...</td>\n",
       "      <td>Team</td>\n",
       "      <td>RESOLVED</td>\n",
       "      <td>WONTFIX</td>\n",
       "      <td>4</td>\n",
       "    </tr>\n",
       "    <tr>\n",
       "      <th>52990</th>\n",
       "      <td>[charset]Improve @charset parsing in CSSLoader...</td>\n",
       "      <td>CSS</td>\n",
       "      <td>RESOLVED</td>\n",
       "      <td>FIXED</td>\n",
       "      <td>4</td>\n",
       "    </tr>\n",
       "    <tr>\n",
       "      <th>52991</th>\n",
       "      <td>iCab Profile Migrator .</td>\n",
       "      <td>Other</td>\n",
       "      <td>RESOLVED</td>\n",
       "      <td>WONTFIX</td>\n",
       "      <td>4</td>\n",
       "    </tr>\n",
       "    <tr>\n",
       "      <th>52992</th>\n",
       "      <td>The tableSectionElement.ch doesnt have a defau...</td>\n",
       "      <td>DOM</td>\n",
       "      <td>VERIFIED</td>\n",
       "      <td>FIXED</td>\n",
       "      <td>4</td>\n",
       "    </tr>\n",
       "    <tr>\n",
       "      <th>52993</th>\n",
       "      <td>closing a group shouldnt require two clicks I ...</td>\n",
       "      <td>Panorama</td>\n",
       "      <td>RESOLVED</td>\n",
       "      <td>WONTFIX</td>\n",
       "      <td>4</td>\n",
       "    </tr>\n",
       "  </tbody>\n",
       "</table>\n",
       "<p>52767 rows × 5 columns</p>\n",
       "</div>"
      ],
      "text/plain": [
       "                                                    Text   Component  \\\n",
       "0      font size 9px rounded down to 8px {font} {ll} ...      Layout   \n",
       "1      Land OOP plugins in mozilla-central (preffed o...    Plug-ins   \n",
       "2      XP-COM Proxy code crashes when trying to AutoP...       XPCOM   \n",
       "3      crash setting display:none on grid rows [@ nsG...         XUL   \n",
       "4      limit the memory cache to a reasonable value I...  Networking   \n",
       "...                                                  ...         ...   \n",
       "52989  Replicate functionality (1GGP770) In regular u...        Team   \n",
       "52990  [charset]Improve @charset parsing in CSSLoader...         CSS   \n",
       "52991                            iCab Profile Migrator .       Other   \n",
       "52992  The tableSectionElement.ch doesnt have a defau...         DOM   \n",
       "52993  closing a group shouldnt require two clicks I ...    Panorama   \n",
       "\n",
       "         Status Resolution  Priority  \n",
       "0      VERIFIED      FIXED         0  \n",
       "1      RESOLVED      FIXED         0  \n",
       "2      VERIFIED      FIXED         0  \n",
       "3      VERIFIED      FIXED         0  \n",
       "4      VERIFIED      FIXED         0  \n",
       "...         ...        ...       ...  \n",
       "52989  RESOLVED    WONTFIX         4  \n",
       "52990  RESOLVED      FIXED         4  \n",
       "52991  RESOLVED    WONTFIX         4  \n",
       "52992  VERIFIED      FIXED         4  \n",
       "52993  RESOLVED    WONTFIX         4  \n",
       "\n",
       "[52767 rows x 5 columns]"
      ]
     },
     "execution_count": 3,
     "metadata": {},
     "output_type": "execute_result"
    }
   ],
   "source": [
    "processed_df = joblib.load(\"../../data/processed/processed_ISEC_train_df.joblib\")\n",
    "processed_df"
   ]
  },
  {
   "cell_type": "code",
   "execution_count": 4,
   "id": "145e9efd",
   "metadata": {},
   "outputs": [],
   "source": [
    "processed_df[\"Text\"] = (\n",
    "  \"[META] Component: \" + processed_df[\"Component\"] + \" | \" +\n",
    "  \"[META] Status: \" + processed_df[\"Status\"] + \" | \" +\n",
    "  \"[META] Resolution: \" + processed_df[\"Resolution\"] + \" | \" +\n",
    "  \"[DESC] \" + processed_df[\"Text\"]\n",
    ")"
   ]
  },
  {
   "cell_type": "code",
   "execution_count": 5,
   "id": "45ab106e",
   "metadata": {},
   "outputs": [],
   "source": [
    "processed_df = processed_df[[\"Text\", \"Priority\"]].copy()\n",
    "processed_df = processed_df.dropna(subset=[\"Text\", \"Priority\"])"
   ]
  },
  {
   "cell_type": "code",
   "execution_count": 6,
   "id": "75f4f06a",
   "metadata": {},
   "outputs": [
    {
     "data": {
      "text/html": [
       "<div>\n",
       "<style scoped>\n",
       "    .dataframe tbody tr th:only-of-type {\n",
       "        vertical-align: middle;\n",
       "    }\n",
       "\n",
       "    .dataframe tbody tr th {\n",
       "        vertical-align: top;\n",
       "    }\n",
       "\n",
       "    .dataframe thead th {\n",
       "        text-align: right;\n",
       "    }\n",
       "</style>\n",
       "<table border=\"1\" class=\"dataframe\">\n",
       "  <thead>\n",
       "    <tr style=\"text-align: right;\">\n",
       "      <th></th>\n",
       "      <th>Text</th>\n",
       "      <th>Priority</th>\n",
       "    </tr>\n",
       "  </thead>\n",
       "  <tbody>\n",
       "    <tr>\n",
       "      <th>0</th>\n",
       "      <td>[META] Component: Layout | [META] Status: VERI...</td>\n",
       "      <td>0</td>\n",
       "    </tr>\n",
       "    <tr>\n",
       "      <th>1</th>\n",
       "      <td>[META] Component: Plug-ins | [META] Status: RE...</td>\n",
       "      <td>0</td>\n",
       "    </tr>\n",
       "    <tr>\n",
       "      <th>2</th>\n",
       "      <td>[META] Component: XPCOM | [META] Status: VERIF...</td>\n",
       "      <td>0</td>\n",
       "    </tr>\n",
       "    <tr>\n",
       "      <th>3</th>\n",
       "      <td>[META] Component: XUL | [META] Status: VERIFIE...</td>\n",
       "      <td>0</td>\n",
       "    </tr>\n",
       "    <tr>\n",
       "      <th>4</th>\n",
       "      <td>[META] Component: Networking | [META] Status: ...</td>\n",
       "      <td>0</td>\n",
       "    </tr>\n",
       "    <tr>\n",
       "      <th>...</th>\n",
       "      <td>...</td>\n",
       "      <td>...</td>\n",
       "    </tr>\n",
       "    <tr>\n",
       "      <th>52989</th>\n",
       "      <td>[META] Component: Team | [META] Status: RESOLV...</td>\n",
       "      <td>4</td>\n",
       "    </tr>\n",
       "    <tr>\n",
       "      <th>52990</th>\n",
       "      <td>[META] Component: CSS | [META] Status: RESOLVE...</td>\n",
       "      <td>4</td>\n",
       "    </tr>\n",
       "    <tr>\n",
       "      <th>52991</th>\n",
       "      <td>[META] Component: Other | [META] Status: RESOL...</td>\n",
       "      <td>4</td>\n",
       "    </tr>\n",
       "    <tr>\n",
       "      <th>52992</th>\n",
       "      <td>[META] Component: DOM | [META] Status: VERIFIE...</td>\n",
       "      <td>4</td>\n",
       "    </tr>\n",
       "    <tr>\n",
       "      <th>52993</th>\n",
       "      <td>[META] Component: Panorama | [META] Status: RE...</td>\n",
       "      <td>4</td>\n",
       "    </tr>\n",
       "  </tbody>\n",
       "</table>\n",
       "<p>52767 rows × 2 columns</p>\n",
       "</div>"
      ],
      "text/plain": [
       "                                                    Text  Priority\n",
       "0      [META] Component: Layout | [META] Status: VERI...         0\n",
       "1      [META] Component: Plug-ins | [META] Status: RE...         0\n",
       "2      [META] Component: XPCOM | [META] Status: VERIF...         0\n",
       "3      [META] Component: XUL | [META] Status: VERIFIE...         0\n",
       "4      [META] Component: Networking | [META] Status: ...         0\n",
       "...                                                  ...       ...\n",
       "52989  [META] Component: Team | [META] Status: RESOLV...         4\n",
       "52990  [META] Component: CSS | [META] Status: RESOLVE...         4\n",
       "52991  [META] Component: Other | [META] Status: RESOL...         4\n",
       "52992  [META] Component: DOM | [META] Status: VERIFIE...         4\n",
       "52993  [META] Component: Panorama | [META] Status: RE...         4\n",
       "\n",
       "[52767 rows x 2 columns]"
      ]
     },
     "execution_count": 6,
     "metadata": {},
     "output_type": "execute_result"
    }
   ],
   "source": [
    "processed_df"
   ]
  },
  {
   "cell_type": "code",
   "execution_count": 7,
   "id": "fb8958c8",
   "metadata": {},
   "outputs": [],
   "source": [
    "processed_df[\"label\"] = processed_df[\"Priority\"].astype(int)"
   ]
  },
  {
   "cell_type": "code",
   "execution_count": 8,
   "id": "2d3f74ae",
   "metadata": {},
   "outputs": [
    {
     "name": "stdout",
     "output_type": "stream",
     "text": [
      "Num labels: 5, classes: [np.int64(0), np.int64(1), np.int64(2), np.int64(3), np.int64(4)]\n"
     ]
    }
   ],
   "source": [
    "num_labels = processed_df[\"label\"].nunique()\n",
    "print(f\"Num labels: {num_labels}, classes: {sorted(processed_df['label'].unique())}\")"
   ]
  },
  {
   "cell_type": "code",
   "execution_count": 9,
   "id": "d752d4f2",
   "metadata": {},
   "outputs": [
    {
     "name": "stdout",
     "output_type": "stream",
     "text": [
      "Label map:  {0: np.int64(0), 1: np.int64(1), 2: np.int64(2), 3: np.int64(3), 4: np.int64(4)}\n"
     ]
    }
   ],
   "source": [
    "label_map = {i: label for i, label in enumerate(sorted(processed_df[\"label\"].unique()))}\n",
    "print(\"Label map: \", label_map)"
   ]
  },
  {
   "cell_type": "code",
   "execution_count": 10,
   "id": "3e8f27d2",
   "metadata": {},
   "outputs": [
    {
     "name": "stdout",
     "output_type": "stream",
     "text": [
      "Train shape:  (47490, 3)\n",
      "Validation shape:  (5277, 3)\n"
     ]
    }
   ],
   "source": [
    "train_df, val_df = train_test_split(\n",
    "  processed_df,\n",
    "  test_size=0.1,\n",
    "  random_state=42,\n",
    "  stratify=processed_df[\"label\"]\n",
    ")\n",
    "\n",
    "print(\"Train shape: \", train_df.shape)\n",
    "print(\"Validation shape: \", val_df.shape)"
   ]
  },
  {
   "cell_type": "code",
   "execution_count": 11,
   "id": "a3740e37",
   "metadata": {},
   "outputs": [],
   "source": [
    "dataset_train = Dataset.from_pandas(train_df.reset_index(drop=True))\n",
    "dataset_val = Dataset.from_pandas(val_df.reset_index(drop=True))\n",
    "ds = DatasetDict({\"train\": dataset_train, \"validation\": dataset_val})"
   ]
  },
  {
   "cell_type": "code",
   "execution_count": 12,
   "id": "4e6a4500",
   "metadata": {},
   "outputs": [],
   "source": [
    "tokenizer = AutoTokenizer.from_pretrained('bert-base-cased')"
   ]
  },
  {
   "cell_type": "code",
   "execution_count": 13,
   "id": "ceeaa5cc",
   "metadata": {},
   "outputs": [],
   "source": [
    "def tokenize_fn(batch):\n",
    "  tokens = tokenizer(batch[\"Text\"], truncation=True, max_length=296)\n",
    "  tokens[\"labels\"] = batch[\"label\"]\n",
    "  return tokens"
   ]
  },
  {
   "cell_type": "code",
   "execution_count": 14,
   "id": "98dc7636",
   "metadata": {},
   "outputs": [
    {
     "data": {
      "application/vnd.jupyter.widget-view+json": {
       "model_id": "450e07a31d0644af8bd07227ebd690af",
       "version_major": 2,
       "version_minor": 0
      },
      "text/plain": [
       "Map:   0%|          | 0/47490 [00:00<?, ? examples/s]"
      ]
     },
     "metadata": {},
     "output_type": "display_data"
    },
    {
     "data": {
      "application/vnd.jupyter.widget-view+json": {
       "model_id": "3aefb70e21ca455fa9f6e1dc2bf001f5",
       "version_major": 2,
       "version_minor": 0
      },
      "text/plain": [
       "Map:   0%|          | 0/5277 [00:00<?, ? examples/s]"
      ]
     },
     "metadata": {},
     "output_type": "display_data"
    }
   ],
   "source": [
    "ds = ds.map(tokenize_fn, batched=True, remove_columns=[\"Text\", \"Priority\", \"label\"], keep_in_memory=True)"
   ]
  },
  {
   "cell_type": "code",
   "execution_count": 15,
   "id": "4c4604ab",
   "metadata": {},
   "outputs": [],
   "source": [
    "data_collator = DataCollatorWithPadding(tokenizer=tokenizer)"
   ]
  },
  {
   "cell_type": "code",
   "execution_count": 16,
   "id": "f6d7ad46",
   "metadata": {},
   "outputs": [
    {
     "name": "stdout",
     "output_type": "stream",
     "text": [
      "Class weights:  tensor([1.1803, 1.1220, 0.3411, 4.6174, 8.8601], device='cuda:0')\n"
     ]
    }
   ],
   "source": [
    "y_train = train_df[\"label\"].values\n",
    "class_weights = compute_class_weight(\"balanced\", classes=np.unique(y_train), y=y_train)\n",
    "class_weights = torch.tensor(class_weights, dtype=torch.float).to(device)\n",
    "print(\"Class weights: \", class_weights)"
   ]
  },
  {
   "cell_type": "code",
   "execution_count": 17,
   "id": "990594e7",
   "metadata": {},
   "outputs": [
    {
     "name": "stderr",
     "output_type": "stream",
     "text": [
      "Some weights of BertForSequenceClassification were not initialized from the model checkpoint at bert-base-cased and are newly initialized: ['classifier.bias', 'classifier.weight']\n",
      "You should probably TRAIN this model on a down-stream task to be able to use it for predictions and inference.\n"
     ]
    }
   ],
   "source": [
    "model = AutoModelForSequenceClassification.from_pretrained(\n",
    "  \"bert-base-cased\",\n",
    "  num_labels=num_labels\n",
    ").to(device)"
   ]
  },
  {
   "cell_type": "code",
   "execution_count": 18,
   "id": "e0158798",
   "metadata": {},
   "outputs": [],
   "source": [
    "class WeightedTrainer(Trainer):\n",
    "  def __init__(self, *args, class_weights=None, **kwargs):\n",
    "    super().__init__(*args, **kwargs)\n",
    "    self.class_weights = class_weights.to(self.args.device) if class_weights is not None else None\n",
    "    \n",
    "  def compute_loss(self, model, inputs, return_outputs=False, **kwargs):\n",
    "    labels = inputs.get(\"labels\")\n",
    "    outputs = model(**{k: v for k, v in inputs.items() if k != \"labels\"})\n",
    "    logits = outputs.logits\n",
    "    loss_fct = CrossEntropyLoss(weight=self.class_weights)\n",
    "    loss = loss_fct(logits.view(-1, model.config.num_labels), labels.view(-1))\n",
    "    return (loss, outputs) if return_outputs else loss"
   ]
  },
  {
   "cell_type": "code",
   "execution_count": 19,
   "id": "ebc9b5e3",
   "metadata": {},
   "outputs": [],
   "source": [
    "def compute_metric(pred):\n",
    "  logits = pred.predictions\n",
    "  preds = np.argmax(logits, axis=-1)\n",
    "  labels = pred.label_ids\n",
    "  \n",
    "  accuracy = accuracy_score(labels, preds)\n",
    "  precision_macro = precision_score(labels, preds, average=\"macro\", zero_division=0)\n",
    "  recall_macro = recall_score(labels, preds, average=\"macro\", zero_division=0)\n",
    "  f1_macro = f1_score(labels, preds, average=\"macro\")\n",
    "  \n",
    "  return {\n",
    "    \"accuracy\": accuracy,\n",
    "    \"precision_macro\": precision_macro,\n",
    "    \"recall_macro\": recall_macro,\n",
    "    \"f1_macro\": f1_macro\n",
    "  }"
   ]
  },
  {
   "cell_type": "code",
   "execution_count": 20,
   "id": "cca2b50e",
   "metadata": {},
   "outputs": [],
   "source": [
    "# Define training arguments\n",
    "training_args = TrainingArguments(\n",
    "  output_dir=\"../models/bert\",\n",
    "  per_device_train_batch_size=16,\n",
    "  per_device_eval_batch_size=16,\n",
    "  learning_rate=2e-5,\n",
    "  num_train_epochs=4,\n",
    "  eval_strategy=\"epoch\",\n",
    "  save_strategy=\"epoch\",\n",
    "  logging_dir=\"../models/bert/logs/\",\n",
    "  logging_steps=100,\n",
    "  weight_decay=0.01,\n",
    "  load_best_model_at_end=True,\n",
    "  metric_for_best_model=\"f1_macro\",\n",
    "  fp16=True\n",
    ")"
   ]
  },
  {
   "cell_type": "code",
   "execution_count": 21,
   "id": "bf8b6d26",
   "metadata": {},
   "outputs": [
    {
     "name": "stderr",
     "output_type": "stream",
     "text": [
      "C:\\Users\\rusty\\AppData\\Local\\Temp\\ipykernel_18756\\1673886968.py:3: FutureWarning: `tokenizer` is deprecated and will be removed in version 5.0.0 for `WeightedTrainer.__init__`. Use `processing_class` instead.\n",
      "  super().__init__(*args, **kwargs)\n"
     ]
    }
   ],
   "source": [
    "trainer = WeightedTrainer(\n",
    "  model=model,\n",
    "  args=training_args,\n",
    "  train_dataset=ds[\"train\"],\n",
    "  eval_dataset=ds[\"validation\"],\n",
    "  tokenizer=tokenizer,\n",
    "  data_collator=data_collator,\n",
    "  compute_metrics=compute_metric,\n",
    "  class_weights=class_weights\n",
    ")"
   ]
  },
  {
   "cell_type": "code",
   "execution_count": 22,
   "id": "ef341178",
   "metadata": {},
   "outputs": [
    {
     "data": {
      "text/html": [
       "\n",
       "    <div>\n",
       "      \n",
       "      <progress value='11876' max='11876' style='width:300px; height:20px; vertical-align: middle;'></progress>\n",
       "      [11876/11876 1:21:00, Epoch 4/4]\n",
       "    </div>\n",
       "    <table border=\"1\" class=\"dataframe\">\n",
       "  <thead>\n",
       " <tr style=\"text-align: left;\">\n",
       "      <th>Epoch</th>\n",
       "      <th>Training Loss</th>\n",
       "      <th>Validation Loss</th>\n",
       "      <th>Accuracy</th>\n",
       "      <th>Precision Macro</th>\n",
       "      <th>Recall Macro</th>\n",
       "      <th>F1 Macro</th>\n",
       "    </tr>\n",
       "  </thead>\n",
       "  <tbody>\n",
       "    <tr>\n",
       "      <td>1</td>\n",
       "      <td>1.435700</td>\n",
       "      <td>1.416172</td>\n",
       "      <td>0.533637</td>\n",
       "      <td>0.351844</td>\n",
       "      <td>0.398402</td>\n",
       "      <td>0.338598</td>\n",
       "    </tr>\n",
       "    <tr>\n",
       "      <td>2</td>\n",
       "      <td>1.330000</td>\n",
       "      <td>1.356333</td>\n",
       "      <td>0.554292</td>\n",
       "      <td>0.425553</td>\n",
       "      <td>0.423791</td>\n",
       "      <td>0.402423</td>\n",
       "    </tr>\n",
       "    <tr>\n",
       "      <td>3</td>\n",
       "      <td>1.217300</td>\n",
       "      <td>1.372447</td>\n",
       "      <td>0.584802</td>\n",
       "      <td>0.415067</td>\n",
       "      <td>0.443360</td>\n",
       "      <td>0.421674</td>\n",
       "    </tr>\n",
       "    <tr>\n",
       "      <td>4</td>\n",
       "      <td>0.983500</td>\n",
       "      <td>1.447479</td>\n",
       "      <td>0.573621</td>\n",
       "      <td>0.404034</td>\n",
       "      <td>0.447360</td>\n",
       "      <td>0.414707</td>\n",
       "    </tr>\n",
       "  </tbody>\n",
       "</table><p>"
      ],
      "text/plain": [
       "<IPython.core.display.HTML object>"
      ]
     },
     "metadata": {},
     "output_type": "display_data"
    },
    {
     "data": {
      "text/plain": [
       "TrainOutput(global_step=11876, training_loss=1.2829767473220184, metrics={'train_runtime': 4861.7576, 'train_samples_per_second': 39.072, 'train_steps_per_second': 2.443, 'total_flos': 2.8875722734404468e+16, 'train_loss': 1.2829767473220184, 'epoch': 4.0})"
      ]
     },
     "execution_count": 22,
     "metadata": {},
     "output_type": "execute_result"
    }
   ],
   "source": [
    "trainer.train()"
   ]
  },
  {
   "cell_type": "code",
   "execution_count": 23,
   "id": "d0ea1c55",
   "metadata": {},
   "outputs": [
    {
     "data": {
      "text/html": [],
      "text/plain": [
       "<IPython.core.display.HTML object>"
      ]
     },
     "metadata": {},
     "output_type": "display_data"
    },
    {
     "data": {
      "text/plain": [
       "{'eval_loss': 1.3724467754364014,\n",
       " 'eval_accuracy': 0.5848019708167519,\n",
       " 'eval_precision_macro': 0.4150666918545503,\n",
       " 'eval_recall_macro': 0.4433596903968152,\n",
       " 'eval_f1_macro': 0.4216741386131185,\n",
       " 'eval_runtime': 34.9626,\n",
       " 'eval_samples_per_second': 150.933,\n",
       " 'eval_steps_per_second': 9.439,\n",
       " 'epoch': 4.0}"
      ]
     },
     "execution_count": 23,
     "metadata": {},
     "output_type": "execute_result"
    }
   ],
   "source": [
    "trainer.evaluate()"
   ]
  },
  {
   "cell_type": "code",
   "execution_count": 24,
   "id": "10ba575b",
   "metadata": {},
   "outputs": [
    {
     "name": "stderr",
     "output_type": "stream",
     "text": [
      "C:\\Users\\rusty\\AppData\\Local\\Temp\\ipykernel_18756\\3224661968.py:2: FutureWarning: \n",
      "\n",
      "Passing `palette` without assigning `hue` is deprecated and will be removed in v0.14.0. Assign the `x` variable to `hue` and set `legend=False` for the same effect.\n",
      "\n",
      "  sns.countplot(\n"
     ]
    },
    {
     "data": {
      "image/png": "[encoded data removed]",
      "text/plain": [
       "<Figure size 800x400 with 1 Axes>"
      ]
     },
     "metadata": {},
     "output_type": "display_data"
    }
   ],
   "source": [
    "plt.figure(figsize=(8,4))\n",
    "sns.countplot(\n",
    "  x=\"Priority\",\n",
    "  data=processed_df,\n",
    "  order=processed_df[\"Priority\"].value_counts().index,\n",
    "  palette=\"viridis\"\n",
    ")\n",
    "\n",
    "plt.title(\"Class Distribution of Bug Priorities\")\n",
    "plt.xlabel(\"Priority Label\")\n",
    "plt.ylabel(\"Count\")\n",
    "plt.show()"
   ]
  },
  {
   "cell_type": "code",
   "execution_count": 25,
   "id": "d97addd6",
   "metadata": {},
   "outputs": [
    {
     "name": "stdout",
     "output_type": "stream",
     "text": [
      "Class proportions:  Priority\n",
      "2    0.586427\n",
      "1    0.178236\n",
      "0    0.169443\n",
      "3    0.043323\n",
      "4    0.022571\n",
      "Name: count, dtype: float64\n"
     ]
    }
   ],
   "source": [
    "class_counts = processed_df[\"Priority\"].value_counts()\n",
    "class_proportions = class_counts / len(processed_df)\n",
    "print(\"Class proportions: \", class_proportions)"
   ]
  },
  {
   "cell_type": "code",
   "execution_count": 26,
   "id": "38729579",
   "metadata": {},
   "outputs": [],
   "source": [
    "predictions = trainer.predict(ds[\"validation\"])\n",
    "y_true = predictions.label_ids\n",
    "y_pred = np.argmax(predictions.predictions, axis=1)"
   ]
  },
  {
   "cell_type": "code",
   "execution_count": 28,
   "id": "ee6d27e0",
   "metadata": {},
   "outputs": [],
   "source": [
    "labels = sorted(processed_df[\"Priority\"].unique())\n",
    "cm = confusion_matrix(y_true, y_pred)"
   ]
  },
  {
   "cell_type": "code",
   "execution_count": 29,
   "id": "ba135110",
   "metadata": {},
   "outputs": [
    {
     "data": {
      "image/png": "[encoded data removed]",
      "text/plain": [
       "<Figure size 800x600 with 2 Axes>"
      ]
     },
     "metadata": {},
     "output_type": "display_data"
    }
   ],
   "source": [
    "plt.figure(figsize=(8,6))\n",
    "sns.heatmap(\n",
    "  cm,\n",
    "  annot=True,\n",
    "  fmt=\"d\",\n",
    "  cmap=\"Blues\",\n",
    "  xticklabels=labels,\n",
    "  yticklabels=labels\n",
    ")\n",
    "\n",
    "plt.title(\"Confusion Matrix on Validation Set\")\n",
    "plt.xlabel(\"Predicted Label\")\n",
    "plt.ylabel(\"True Label\")\n",
    "plt.show()"
   ]
  },
  {
   "cell_type": "code",
   "execution_count": 30,
   "id": "6d53d730",
   "metadata": {},
   "outputs": [
    {
     "data": {
      "text/plain": [
       "array([[ 506,  194,  144,   37,   13],\n",
       "       [ 266,  372,  212,   75,   15],\n",
       "       [ 335,  426, 2103,  189,   42],\n",
       "       [  27,   65,   54,   76,    7],\n",
       "       [  17,   26,   22,   25,   29]])"
      ]
     },
     "execution_count": 30,
     "metadata": {},
     "output_type": "execute_result"
    }
   ],
   "source": [
    "cm"
   ]
  },
  {
   "cell_type": "code",
   "execution_count": 31,
   "id": "81091481",
   "metadata": {},
   "outputs": [
    {
     "name": "stdout",
     "output_type": "stream",
     "text": [
      "Classification Report:\n",
      "              precision    recall  f1-score   support\n",
      "\n",
      "           0      0.440     0.566     0.495       894\n",
      "           1      0.343     0.396     0.368       940\n",
      "           2      0.830     0.679     0.747      3095\n",
      "           3      0.189     0.332     0.241       229\n",
      "           4      0.274     0.244     0.258       119\n",
      "\n",
      "    accuracy                          0.585      5277\n",
      "   macro avg      0.415     0.443     0.422      5277\n",
      "weighted avg      0.637     0.585     0.604      5277\n",
      "\n"
     ]
    }
   ],
   "source": [
    "label_names = [str(l) for l in labels]\n",
    "print(\"Classification Report:\")\n",
    "print(classification_report(y_true, y_pred, target_names=label_names, digits=3))"
   ]
  },
  {
   "cell_type": "code",
   "execution_count": 32,
   "id": "64e0c2ef",
   "metadata": {},
   "outputs": [
    {
     "data": {
      "text/plain": [
       "('../models/bert\\\\tokenizer_config.json',\n",
       " '../models/bert\\\\special_tokens_map.json',\n",
       " '../models/bert\\\\vocab.txt',\n",
       " '../models/bert\\\\added_tokens.json',\n",
       " '../models/bert\\\\tokenizer.json')"
      ]
     },
     "execution_count": 32,
     "metadata": {},
     "output_type": "execute_result"
    }
   ],
   "source": [
    "trainer.save_model(\"../models/bert\")\n",
    "tokenizer.save_pretrained(\"../models/bert\")"
   ]
  },
  {
   "cell_type": "code",
   "execution_count": 34,
   "id": "2a552fad",
   "metadata": {},
   "outputs": [
    {
     "name": "stdout",
     "output_type": "stream",
     "text": [
      "Saved model + tokenizer + label_map\n"
     ]
    }
   ],
   "source": [
    "label_map_path = os.path.join(\"../models/bert\", \"label_map.json\")\n",
    "label_map_serializable = {int(k): int(v) for k, v in label_map.items()}\n",
    "with open(label_map_path, \"w\") as f:\n",
    "  json.dump(label_map_serializable, f)\n",
    "  \n",
    "print(\"Saved model + tokenizer + label_map\")"
   ]
  },
  {
   "cell_type": "code",
   "execution_count": 35,
   "id": "759e48dd",
   "metadata": {},
   "outputs": [],
   "source": [
    "test_df = pd.read_csv(\"../../data/raw/test.csv\")"
   ]
  },
  {
   "cell_type": "code",
   "execution_count": 46,
   "id": "4f98dcc0",
   "metadata": {},
   "outputs": [
    {
     "data": {
      "text/html": [
       "<div>\n",
       "<style scoped>\n",
       "    .dataframe tbody tr th:only-of-type {\n",
       "        vertical-align: middle;\n",
       "    }\n",
       "\n",
       "    .dataframe tbody tr th {\n",
       "        vertical-align: top;\n",
       "    }\n",
       "\n",
       "    .dataframe thead th {\n",
       "        text-align: right;\n",
       "    }\n",
       "</style>\n",
       "<table border=\"1\" class=\"dataframe\">\n",
       "  <thead>\n",
       "    <tr style=\"text-align: right;\">\n",
       "      <th></th>\n",
       "      <th>Issue_id</th>\n",
       "      <th>Component</th>\n",
       "      <th>Title</th>\n",
       "      <th>Description</th>\n",
       "      <th>Status</th>\n",
       "      <th>Resolution</th>\n",
       "      <th>Text</th>\n",
       "    </tr>\n",
       "  </thead>\n",
       "  <tbody>\n",
       "    <tr>\n",
       "      <th>0</th>\n",
       "      <td>6578</td>\n",
       "      <td>JavaScript Engine</td>\n",
       "      <td>Finalize yield syntax to match ES4/JS2 proposal</td>\n",
       "      <td>This tracks Python 2.5.  Currently we allow; ;...</td>\n",
       "      <td>VERIFIED</td>\n",
       "      <td>FIXED</td>\n",
       "      <td>Finalize yield syntax to match ES4/JS2 proposa...</td>\n",
       "    </tr>\n",
       "    <tr>\n",
       "      <th>1</th>\n",
       "      <td>8050</td>\n",
       "      <td>Networking: Cache</td>\n",
       "      <td>e10s HTTP: offline application cache</td>\n",
       "      <td>I actually know very little about how applicat...</td>\n",
       "      <td>RESOLVED</td>\n",
       "      <td>FIXED</td>\n",
       "      <td>e10s HTTP: offline application cache I actuall...</td>\n",
       "    </tr>\n",
       "    <tr>\n",
       "      <th>2</th>\n",
       "      <td>5281</td>\n",
       "      <td>DOM: Core &amp; HTML</td>\n",
       "      <td>[FIX]Add GetOwnerDocument on nsIContent or nsG...</td>\n",
       "      <td>See comments in bug 211440; the idea is to add...</td>\n",
       "      <td>RESOLVED</td>\n",
       "      <td>FIXED</td>\n",
       "      <td>[FIX]Add GetOwnerDocument on nsIContent or nsG...</td>\n",
       "    </tr>\n",
       "    <tr>\n",
       "      <th>3</th>\n",
       "      <td>7871</td>\n",
       "      <td>Layout: View Rendering</td>\n",
       "      <td>Text editing broken in Firebug edit mode and o...</td>\n",
       "      <td>Getting reports that editing is broken in Fire...</td>\n",
       "      <td>VERIFIED</td>\n",
       "      <td>FIXED</td>\n",
       "      <td>Text editing broken in Firebug edit mode and o...</td>\n",
       "    </tr>\n",
       "    <tr>\n",
       "      <th>4</th>\n",
       "      <td>2411</td>\n",
       "      <td>Plug-ins</td>\n",
       "      <td>shockwave movies redraw improperly on mac(nsbe...</td>\n",
       "      <td>From Bugzilla Helper:; User-Agent: Mozilla/4.7...</td>\n",
       "      <td>VERIFIED</td>\n",
       "      <td>DUPLICATE</td>\n",
       "      <td>shockwave movies redraw improperly on mac(nsbe...</td>\n",
       "    </tr>\n",
       "  </tbody>\n",
       "</table>\n",
       "</div>"
      ],
      "text/plain": [
       "   Issue_id               Component  \\\n",
       "0      6578       JavaScript Engine   \n",
       "1      8050       Networking: Cache   \n",
       "2      5281        DOM: Core & HTML   \n",
       "3      7871  Layout: View Rendering   \n",
       "4      2411                Plug-ins   \n",
       "\n",
       "                                               Title  \\\n",
       "0    Finalize yield syntax to match ES4/JS2 proposal   \n",
       "1               e10s HTTP: offline application cache   \n",
       "2  [FIX]Add GetOwnerDocument on nsIContent or nsG...   \n",
       "3  Text editing broken in Firebug edit mode and o...   \n",
       "4  shockwave movies redraw improperly on mac(nsbe...   \n",
       "\n",
       "                                         Description    Status Resolution  \\\n",
       "0  This tracks Python 2.5.  Currently we allow; ;...  VERIFIED      FIXED   \n",
       "1  I actually know very little about how applicat...  RESOLVED      FIXED   \n",
       "2  See comments in bug 211440; the idea is to add...  RESOLVED      FIXED   \n",
       "3  Getting reports that editing is broken in Fire...  VERIFIED      FIXED   \n",
       "4  From Bugzilla Helper:; User-Agent: Mozilla/4.7...  VERIFIED  DUPLICATE   \n",
       "\n",
       "                                                Text  \n",
       "0  Finalize yield syntax to match ES4/JS2 proposa...  \n",
       "1  e10s HTTP: offline application cache I actuall...  \n",
       "2  [FIX]Add GetOwnerDocument on nsIContent or nsG...  \n",
       "3  Text editing broken in Firebug edit mode and o...  \n",
       "4  shockwave movies redraw improperly on mac(nsbe...  "
      ]
     },
     "execution_count": 46,
     "metadata": {},
     "output_type": "execute_result"
    }
   ],
   "source": [
    "test_df.head()"
   ]
  },
  {
   "cell_type": "code",
   "execution_count": 37,
   "id": "efb76390",
   "metadata": {},
   "outputs": [],
   "source": [
    "test_df[\"Text\"]  = test_df[\"Title\"].fillna(\"\") + \" \" + test_df[\"Description\"].fillna(\"\")"
   ]
  },
  {
   "cell_type": "code",
   "execution_count": 39,
   "id": "411de4d4",
   "metadata": {},
   "outputs": [
    {
     "data": {
      "text/plain": [
       "BertForSequenceClassification(\n",
       "  (bert): BertModel(\n",
       "    (embeddings): BertEmbeddings(\n",
       "      (word_embeddings): Embedding(28996, 768, padding_idx=0)\n",
       "      (position_embeddings): Embedding(512, 768)\n",
       "      (token_type_embeddings): Embedding(2, 768)\n",
       "      (LayerNorm): LayerNorm((768,), eps=1e-12, elementwise_affine=True)\n",
       "      (dropout): Dropout(p=0.1, inplace=False)\n",
       "    )\n",
       "    (encoder): BertEncoder(\n",
       "      (layer): ModuleList(\n",
       "        (0-11): 12 x BertLayer(\n",
       "          (attention): BertAttention(\n",
       "            (self): BertSdpaSelfAttention(\n",
       "              (query): Linear(in_features=768, out_features=768, bias=True)\n",
       "              (key): Linear(in_features=768, out_features=768, bias=True)\n",
       "              (value): Linear(in_features=768, out_features=768, bias=True)\n",
       "              (dropout): Dropout(p=0.1, inplace=False)\n",
       "            )\n",
       "            (output): BertSelfOutput(\n",
       "              (dense): Linear(in_features=768, out_features=768, bias=True)\n",
       "              (LayerNorm): LayerNorm((768,), eps=1e-12, elementwise_affine=True)\n",
       "              (dropout): Dropout(p=0.1, inplace=False)\n",
       "            )\n",
       "          )\n",
       "          (intermediate): BertIntermediate(\n",
       "            (dense): Linear(in_features=768, out_features=3072, bias=True)\n",
       "            (intermediate_act_fn): GELUActivation()\n",
       "          )\n",
       "          (output): BertOutput(\n",
       "            (dense): Linear(in_features=3072, out_features=768, bias=True)\n",
       "            (LayerNorm): LayerNorm((768,), eps=1e-12, elementwise_affine=True)\n",
       "            (dropout): Dropout(p=0.1, inplace=False)\n",
       "          )\n",
       "        )\n",
       "      )\n",
       "    )\n",
       "    (pooler): BertPooler(\n",
       "      (dense): Linear(in_features=768, out_features=768, bias=True)\n",
       "      (activation): Tanh()\n",
       "    )\n",
       "  )\n",
       "  (dropout): Dropout(p=0.1, inplace=False)\n",
       "  (classifier): Linear(in_features=768, out_features=5, bias=True)\n",
       ")"
      ]
     },
     "execution_count": 39,
     "metadata": {},
     "output_type": "execute_result"
    }
   ],
   "source": [
    "tokenizer = AutoTokenizer.from_pretrained(\"../models/bert\")\n",
    "model = AutoModelForSequenceClassification.from_pretrained(\"../models/bert\")\n",
    "model.to(device)\n",
    "model.eval()"
   ]
  },
  {
   "cell_type": "code",
   "execution_count": 40,
   "id": "f98dd0c6",
   "metadata": {},
   "outputs": [],
   "source": [
    "with open(\"../models/bert/label_map.json\", \"r\") as f:\n",
    "  label_map = json.load(f)\n",
    "\n",
    "label_map = {int(k): v for k, v in label_map.items()}"
   ]
  },
  {
   "cell_type": "code",
   "execution_count": 48,
   "id": "66298f04",
   "metadata": {},
   "outputs": [],
   "source": [
    "batch_size = 16\n",
    "all_preds = []\n",
    "\n",
    "for i in range(0, len(test_df), batch_size):\n",
    "  batch_texts = test_df[\"Text\"].iloc[i:i + batch_size].tolist()\n",
    "  \n",
    "  inputs = tokenizer(\n",
    "    batch_texts,\n",
    "    truncation=True,\n",
    "    max_length=296,\n",
    "    padding=True,\n",
    "    return_tensors=\"pt\"\n",
    "  )\n",
    "\n",
    "  inputs = {k: v.to(device) for k, v in inputs.items()}\n",
    "  \n",
    "  with torch.no_grad():\n",
    "    outputs = model(**inputs)\n",
    "    logits = outputs.logits\n",
    "    probs = torch.nn.functional.softmax(logits, dim=-1)\n",
    "    preds = probs.argmax(dim=-1).cpu().numpy()\n",
    "    all_preds.extend(preds)\n",
    "  \n",
    "test_df[\"Predicted_Priority\"] = [label_map[i] for i in all_preds]"
   ]
  },
  {
   "cell_type": "code",
   "execution_count": 50,
   "id": "530c157c",
   "metadata": {},
   "outputs": [],
   "source": [
    "test_df.to_csv(\"../../data/processed/text_predictions.csv\", index=False)"
   ]
  },
  {
   "cell_type": "code",
   "execution_count": null,
   "id": "66fd1789",
   "metadata": {},
   "outputs": [],
   "source": []
  }
 ],
 "metadata": {
  "kernelspec": {
   "display_name": "bug-triage-env",
   "language": "python",
   "name": "python3"
  },
  "language_info": {
   "codemirror_mode": {
    "name": "ipython",
    "version": 3
   },
   "file_extension": ".py",
   "mimetype": "text/x-python",
   "name": "python",
   "nbconvert_exporter": "python",
   "pygments_lexer": "ipython3",
   "version": "3.11.13"
  }
 },
 "nbformat": 4,
 "nbformat_minor": 5
}

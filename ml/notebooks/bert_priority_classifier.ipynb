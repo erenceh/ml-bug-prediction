{
 "cells": [
  {
   "cell_type": "code",
   "execution_count": 52,
   "id": "6264ef97",
   "metadata": {},
   "outputs": [],
   "source": [
    "import pandas as pd\n",
    "import numpy as np\n",
    "import joblib\n",
    "import torch\n",
    "import torch.nn as nn\n",
    "from torch.utils.data import Dataset\n",
    "from tqdm import tqdm\n",
    "from sklearn.model_selection import train_test_split\n",
    "from sklearn.preprocessing import LabelEncoder\n",
    "from sklearn.metrics import accuracy_score, f1_score\n",
    "from transformers import BertTokenizer, BertForSequenceClassification, Trainer, TrainingArguments\n",
    "import accelerate"
   ]
  },
  {
   "cell_type": "code",
   "execution_count": 53,
   "id": "3c667284",
   "metadata": {},
   "outputs": [],
   "source": [
    "device = torch.device(\"cuda\" if torch.cuda.is_available() else \"cpu\")"
   ]
  },
  {
   "cell_type": "code",
   "execution_count": 54,
   "id": "eba0e540",
   "metadata": {},
   "outputs": [
    {
     "data": {
      "text/html": [
       "<div>\n",
       "<style scoped>\n",
       "    .dataframe tbody tr th:only-of-type {\n",
       "        vertical-align: middle;\n",
       "    }\n",
       "\n",
       "    .dataframe tbody tr th {\n",
       "        vertical-align: top;\n",
       "    }\n",
       "\n",
       "    .dataframe thead th {\n",
       "        text-align: right;\n",
       "    }\n",
       "</style>\n",
       "<table border=\"1\" class=\"dataframe\">\n",
       "  <thead>\n",
       "    <tr style=\"text-align: right;\">\n",
       "      <th></th>\n",
       "      <th>issue_title</th>\n",
       "      <th>body</th>\n",
       "      <th>clean_text</th>\n",
       "      <th>priority</th>\n",
       "    </tr>\n",
       "  </thead>\n",
       "  <tbody>\n",
       "    <tr>\n",
       "      <th>1</th>\n",
       "      <td>long strings of input on the command-line fail</td>\n",
       "      <td>long strings of input on the command-line caus...</td>\n",
       "      <td>long string input commandline fail long string...</td>\n",
       "      <td>High</td>\n",
       "    </tr>\n",
       "    <tr>\n",
       "      <th>2</th>\n",
       "      <td>raster simulation rendering</td>\n",
       "      <td>! lw4_raster_display-simulate_quirks https://c...</td>\n",
       "      <td>raster simulation rendering lw4 raster display...</td>\n",
       "      <td>Low</td>\n",
       "    </tr>\n",
       "    <tr>\n",
       "      <th>4</th>\n",
       "      <td>first reading from adc without adc start adc i...</td>\n",
       "      <td>temperature.cpp , version 1.1.x and 2.0 in fuc...</td>\n",
       "      <td>first reading adc without adc start adc temper...</td>\n",
       "      <td>Medium</td>\n",
       "    </tr>\n",
       "    <tr>\n",
       "      <th>7</th>\n",
       "      <td>retrieve any bookings for a specific customer id</td>\n",
       "      <td>use case as a concierge, i want to retrieve an...</td>\n",
       "      <td>retrieve booking specific customer id use case...</td>\n",
       "      <td>High</td>\n",
       "    </tr>\n",
       "    <tr>\n",
       "      <th>10</th>\n",
       "      <td>does not recognise the bucket name</td>\n",
       "      <td>i am using django-s3-storage==0.11.2 and boto3...</td>\n",
       "      <td>recognise bucket name using djangos3storage011...</td>\n",
       "      <td>High</td>\n",
       "    </tr>\n",
       "  </tbody>\n",
       "</table>\n",
       "</div>"
      ],
      "text/plain": [
       "                                          issue_title  \\\n",
       "1      long strings of input on the command-line fail   \n",
       "2                         raster simulation rendering   \n",
       "4   first reading from adc without adc start adc i...   \n",
       "7    retrieve any bookings for a specific customer id   \n",
       "10                 does not recognise the bucket name   \n",
       "\n",
       "                                                 body  \\\n",
       "1   long strings of input on the command-line caus...   \n",
       "2   ! lw4_raster_display-simulate_quirks https://c...   \n",
       "4   temperature.cpp , version 1.1.x and 2.0 in fuc...   \n",
       "7   use case as a concierge, i want to retrieve an...   \n",
       "10  i am using django-s3-storage==0.11.2 and boto3...   \n",
       "\n",
       "                                           clean_text priority  \n",
       "1   long string input commandline fail long string...     High  \n",
       "2   raster simulation rendering lw4 raster display...      Low  \n",
       "4   first reading adc without adc start adc temper...   Medium  \n",
       "7   retrieve booking specific customer id use case...     High  \n",
       "10  recognise bucket name using djangos3storage011...     High  "
      ]
     },
     "execution_count": 54,
     "metadata": {},
     "output_type": "execute_result"
    }
   ],
   "source": [
    "processed_df = joblib.load(\"../../data/processed/processed_github_issues_df.joblib\")\n",
    "\n",
    "processed_df.head()"
   ]
  },
  {
   "cell_type": "code",
   "execution_count": 55,
   "id": "0cc00dc9",
   "metadata": {},
   "outputs": [
    {
     "data": {
      "text/html": [
       "<div>\n",
       "<style scoped>\n",
       "    .dataframe tbody tr th:only-of-type {\n",
       "        vertical-align: middle;\n",
       "    }\n",
       "\n",
       "    .dataframe tbody tr th {\n",
       "        vertical-align: top;\n",
       "    }\n",
       "\n",
       "    .dataframe thead th {\n",
       "        text-align: right;\n",
       "    }\n",
       "</style>\n",
       "<table border=\"1\" class=\"dataframe\">\n",
       "  <thead>\n",
       "    <tr style=\"text-align: right;\">\n",
       "      <th></th>\n",
       "      <th>issue_title</th>\n",
       "      <th>body</th>\n",
       "      <th>priority</th>\n",
       "    </tr>\n",
       "  </thead>\n",
       "  <tbody>\n",
       "    <tr>\n",
       "      <th>1</th>\n",
       "      <td>long strings of input on the command-line fail</td>\n",
       "      <td>long strings of input on the command-line caus...</td>\n",
       "      <td>High</td>\n",
       "    </tr>\n",
       "    <tr>\n",
       "      <th>2</th>\n",
       "      <td>raster simulation rendering</td>\n",
       "      <td>! lw4_raster_display-simulate_quirks https://c...</td>\n",
       "      <td>Low</td>\n",
       "    </tr>\n",
       "    <tr>\n",
       "      <th>4</th>\n",
       "      <td>first reading from adc without adc start adc i...</td>\n",
       "      <td>temperature.cpp , version 1.1.x and 2.0 in fuc...</td>\n",
       "      <td>Medium</td>\n",
       "    </tr>\n",
       "    <tr>\n",
       "      <th>7</th>\n",
       "      <td>retrieve any bookings for a specific customer id</td>\n",
       "      <td>use case as a concierge, i want to retrieve an...</td>\n",
       "      <td>High</td>\n",
       "    </tr>\n",
       "    <tr>\n",
       "      <th>10</th>\n",
       "      <td>does not recognise the bucket name</td>\n",
       "      <td>i am using django-s3-storage==0.11.2 and boto3...</td>\n",
       "      <td>High</td>\n",
       "    </tr>\n",
       "  </tbody>\n",
       "</table>\n",
       "</div>"
      ],
      "text/plain": [
       "                                          issue_title  \\\n",
       "1      long strings of input on the command-line fail   \n",
       "2                         raster simulation rendering   \n",
       "4   first reading from adc without adc start adc i...   \n",
       "7    retrieve any bookings for a specific customer id   \n",
       "10                 does not recognise the bucket name   \n",
       "\n",
       "                                                 body priority  \n",
       "1   long strings of input on the command-line caus...     High  \n",
       "2   ! lw4_raster_display-simulate_quirks https://c...      Low  \n",
       "4   temperature.cpp , version 1.1.x and 2.0 in fuc...   Medium  \n",
       "7   use case as a concierge, i want to retrieve an...     High  \n",
       "10  i am using django-s3-storage==0.11.2 and boto3...     High  "
      ]
     },
     "execution_count": 55,
     "metadata": {},
     "output_type": "execute_result"
    }
   ],
   "source": [
    "processed_df = processed_df.drop(columns=[\"clean_text\"])\n",
    "processed_df.head()"
   ]
  },
  {
   "cell_type": "code",
   "execution_count": 56,
   "id": "52efbe99",
   "metadata": {},
   "outputs": [
    {
     "data": {
      "text/html": [
       "<div>\n",
       "<style scoped>\n",
       "    .dataframe tbody tr th:only-of-type {\n",
       "        vertical-align: middle;\n",
       "    }\n",
       "\n",
       "    .dataframe tbody tr th {\n",
       "        vertical-align: top;\n",
       "    }\n",
       "\n",
       "    .dataframe thead th {\n",
       "        text-align: right;\n",
       "    }\n",
       "</style>\n",
       "<table border=\"1\" class=\"dataframe\">\n",
       "  <thead>\n",
       "    <tr style=\"text-align: right;\">\n",
       "      <th></th>\n",
       "      <th>text</th>\n",
       "      <th>priority</th>\n",
       "    </tr>\n",
       "  </thead>\n",
       "  <tbody>\n",
       "    <tr>\n",
       "      <th>1</th>\n",
       "      <td>long strings of input on the command-line fail...</td>\n",
       "      <td>High</td>\n",
       "    </tr>\n",
       "    <tr>\n",
       "      <th>2</th>\n",
       "      <td>raster simulation rendering ! lw4_raster_displ...</td>\n",
       "      <td>Low</td>\n",
       "    </tr>\n",
       "    <tr>\n",
       "      <th>4</th>\n",
       "      <td>first reading from adc without adc start adc i...</td>\n",
       "      <td>Medium</td>\n",
       "    </tr>\n",
       "    <tr>\n",
       "      <th>7</th>\n",
       "      <td>retrieve any bookings for a specific customer ...</td>\n",
       "      <td>High</td>\n",
       "    </tr>\n",
       "    <tr>\n",
       "      <th>10</th>\n",
       "      <td>does not recognise the bucket name i am using ...</td>\n",
       "      <td>High</td>\n",
       "    </tr>\n",
       "  </tbody>\n",
       "</table>\n",
       "</div>"
      ],
      "text/plain": [
       "                                                 text priority\n",
       "1   long strings of input on the command-line fail...     High\n",
       "2   raster simulation rendering ! lw4_raster_displ...      Low\n",
       "4   first reading from adc without adc start adc i...   Medium\n",
       "7   retrieve any bookings for a specific customer ...     High\n",
       "10  does not recognise the bucket name i am using ...     High"
      ]
     },
     "execution_count": 56,
     "metadata": {},
     "output_type": "execute_result"
    }
   ],
   "source": [
    "# Merge issue_title and body (BERT input)\n",
    "processed_df['text'] = processed_df['issue_title'] + \" \" + processed_df['body']\n",
    "processed_df = processed_df[['text', 'priority']]\n",
    "processed_df.head()"
   ]
  },
  {
   "cell_type": "code",
   "execution_count": 57,
   "id": "16e762fd",
   "metadata": {},
   "outputs": [
    {
     "data": {
      "text/plain": [
       "(38166, 2)"
      ]
     },
     "execution_count": 57,
     "metadata": {},
     "output_type": "execute_result"
    }
   ],
   "source": [
    "processed_df.shape"
   ]
  },
  {
   "cell_type": "code",
   "execution_count": 58,
   "id": "e9d35968",
   "metadata": {},
   "outputs": [
    {
     "data": {
      "text/plain": [
       "priority\n",
       "High        17555\n",
       "Low          9866\n",
       "Critical     5552\n",
       "Medium       5193\n",
       "Name: count, dtype: int64"
      ]
     },
     "execution_count": 58,
     "metadata": {},
     "output_type": "execute_result"
    }
   ],
   "source": [
    "processed_df['priority'].value_counts()"
   ]
  },
  {
   "cell_type": "code",
   "execution_count": 97,
   "id": "93259ca1",
   "metadata": {},
   "outputs": [
    {
     "data": {
      "text/html": [
       "<div>\n",
       "<style scoped>\n",
       "    .dataframe tbody tr th:only-of-type {\n",
       "        vertical-align: middle;\n",
       "    }\n",
       "\n",
       "    .dataframe tbody tr th {\n",
       "        vertical-align: top;\n",
       "    }\n",
       "\n",
       "    .dataframe thead th {\n",
       "        text-align: right;\n",
       "    }\n",
       "</style>\n",
       "<table border=\"1\" class=\"dataframe\">\n",
       "  <thead>\n",
       "    <tr style=\"text-align: right;\">\n",
       "      <th></th>\n",
       "      <th>text</th>\n",
       "      <th>priority</th>\n",
       "      <th>label</th>\n",
       "    </tr>\n",
       "  </thead>\n",
       "  <tbody>\n",
       "    <tr>\n",
       "      <th>1</th>\n",
       "      <td>long strings of input on the command-line fail...</td>\n",
       "      <td>High</td>\n",
       "      <td>1</td>\n",
       "    </tr>\n",
       "    <tr>\n",
       "      <th>2</th>\n",
       "      <td>raster simulation rendering ! lw4_raster_displ...</td>\n",
       "      <td>Low</td>\n",
       "      <td>2</td>\n",
       "    </tr>\n",
       "    <tr>\n",
       "      <th>4</th>\n",
       "      <td>first reading from adc without adc start adc i...</td>\n",
       "      <td>Medium</td>\n",
       "      <td>3</td>\n",
       "    </tr>\n",
       "    <tr>\n",
       "      <th>7</th>\n",
       "      <td>retrieve any bookings for a specific customer ...</td>\n",
       "      <td>High</td>\n",
       "      <td>1</td>\n",
       "    </tr>\n",
       "    <tr>\n",
       "      <th>10</th>\n",
       "      <td>does not recognise the bucket name i am using ...</td>\n",
       "      <td>High</td>\n",
       "      <td>1</td>\n",
       "    </tr>\n",
       "  </tbody>\n",
       "</table>\n",
       "</div>"
      ],
      "text/plain": [
       "                                                 text priority  label\n",
       "1   long strings of input on the command-line fail...     High      1\n",
       "2   raster simulation rendering ! lw4_raster_displ...      Low      2\n",
       "4   first reading from adc without adc start adc i...   Medium      3\n",
       "7   retrieve any bookings for a specific customer ...     High      1\n",
       "10  does not recognise the bucket name i am using ...     High      1"
      ]
     },
     "execution_count": 97,
     "metadata": {},
     "output_type": "execute_result"
    }
   ],
   "source": [
    "# Use LabelEncoder to encode target labels with values \n",
    "le = LabelEncoder()\n",
    "le.fit([\"Low\", \"Medium\", \"High\", \"Critical\"])\n",
    "processed_df['label'] = le.fit_transform(processed_df['priority'])\n",
    "processed_df.head()"
   ]
  },
  {
   "cell_type": "code",
   "execution_count": 60,
   "id": "77917db0",
   "metadata": {},
   "outputs": [
    {
     "data": {
      "text/plain": [
       "['../../data/processed/label_encoder.joblib']"
      ]
     },
     "execution_count": 60,
     "metadata": {},
     "output_type": "execute_result"
    }
   ],
   "source": [
    "joblib.dump(le, \"../../data/processed/label_encoder.joblib\")"
   ]
  },
  {
   "cell_type": "code",
   "execution_count": 61,
   "id": "4a442e87",
   "metadata": {},
   "outputs": [
    {
     "name": "stderr",
     "output_type": "stream",
     "text": [
      "C:\\Users\\rusty\\AppData\\Local\\Temp\\ipykernel_15964\\2333346981.py:5: FutureWarning: Series.__getitem__ treating keys as positions is deprecated. In a future version, integer keys will always be treated as labels (consistent with DataFrame behavior). To access a value by position, use `ser.iloc[pos]`\n",
      "  weights_tensor = torch.tensor(class_weights, dtype=torch.float).to(device)\n"
     ]
    }
   ],
   "source": [
    "total_samples = processed_df.shape[0]\n",
    "num_classes = 4\n",
    "class_counts = processed_df['priority'].value_counts()\n",
    "class_weights = total_samples / (num_classes * class_counts)\n",
    "weights_tensor = torch.tensor(class_weights, dtype=torch.float).to(device)"
   ]
  },
  {
   "cell_type": "code",
   "execution_count": 62,
   "id": "3e8f27d2",
   "metadata": {},
   "outputs": [
    {
     "name": "stdout",
     "output_type": "stream",
     "text": [
      "Train shape:  (30532, 3)\n",
      "Test shape:  (7634, 3)\n"
     ]
    }
   ],
   "source": [
    "train_df, test_df = train_test_split(\n",
    "  processed_df,\n",
    "  test_size=0.2,\n",
    "  stratify=processed_df['label'],\n",
    "  random_state=42\n",
    ")\n",
    "\n",
    "print(\"Train shape: \", train_df.shape)\n",
    "print(\"Test shape: \", test_df.shape)"
   ]
  },
  {
   "cell_type": "code",
   "execution_count": 63,
   "id": "4e6a4500",
   "metadata": {},
   "outputs": [],
   "source": [
    "# Tokenize text column \n",
    "tokenizer = BertTokenizer.from_pretrained('bert-base-uncased')\n",
    "\n",
    "train_inputs = tokenizer(\n",
    "  train_df[\"text\"].tolist(),\n",
    "  padding=True,\n",
    "  truncation=True,\n",
    "  max_length=256,\n",
    "  return_tensors=\"pt\"\n",
    ")\n",
    "\n",
    "test_inputs = tokenizer(\n",
    "  test_df[\"text\"].tolist(),\n",
    "  padding=True,\n",
    "  truncation=True,\n",
    "  max_length=256,\n",
    "  return_tensors=\"pt\"\n",
    ")"
   ]
  },
  {
   "cell_type": "code",
   "execution_count": 64,
   "id": "a15ac9bf",
   "metadata": {},
   "outputs": [],
   "source": [
    "class BugDataset(torch.utils.data.Dataset):\n",
    "  \"\"\"\n",
    "  PyTorch Dataset for BERT inputs.\n",
    "  \n",
    "  Args:\n",
    "    inputs (dict): Tokenized input dictionary.\n",
    "    labels (tensor or list): Encoded target labels for classification.\n",
    "    \n",
    "  Returns:\n",
    "    a dictionary for each sample.\n",
    "  \"\"\"\n",
    "  def __init__(self, inputs, labels):\n",
    "    self.inputs = inputs\n",
    "    self.labels = labels\n",
    "    \n",
    "  def __len__(self):\n",
    "    return len(self.labels)\n",
    "  \n",
    "  def __getitem__(self, index):\n",
    "    return {\n",
    "      \"input_ids\": self.inputs[\"input_ids\"][index],\n",
    "      \"attention_mask\": self.inputs[\"attention_mask\"][index],\n",
    "      \"labels\": self.labels[index]\n",
    "    }"
   ]
  },
  {
   "cell_type": "code",
   "execution_count": 65,
   "id": "72c572c9",
   "metadata": {},
   "outputs": [],
   "source": [
    "labels_tensor_train = torch.tensor(train_df['label'].values, dtype=torch.long)\n",
    "labels_tensor_test = torch.tensor(test_df['label'].values, dtype=torch.long)\n",
    "\n",
    "# Create PyTorch Dataset objects\n",
    "train_dataset = BugDataset(train_inputs, labels_tensor_train)\n",
    "test_dataset = BugDataset(test_inputs, labels_tensor_test)"
   ]
  },
  {
   "cell_type": "code",
   "execution_count": 68,
   "id": "f9943e13",
   "metadata": {},
   "outputs": [],
   "source": [
    "class WeightedBert(BertForSequenceClassification):\n",
    "  def __init__(self, config, class_weights=None, **kwargs):\n",
    "    super().__init__(config)\n",
    "    self.class_weights = class_weights\n",
    "  \n",
    "  def forward(self, input_ids=None, attention_mask=None, labels=None, **kwargs):\n",
    "    outputs = super().forward(input_ids=input_ids, attention_mask=attention_mask)\n",
    "    logits = outputs.logits\n",
    "    loss = None\n",
    "    \n",
    "    if labels is not None:\n",
    "      loss_fct = nn.CrossEntropyLoss(weight=self.class_weights)\n",
    "      loss = loss_fct(logits, labels)\n",
    "      return {\"loss\": loss, \"logits\": logits}\n",
    "    return {\"logits\": logits}"
   ]
  },
  {
   "cell_type": "code",
   "execution_count": 69,
   "id": "011bd9ea",
   "metadata": {},
   "outputs": [
    {
     "name": "stderr",
     "output_type": "stream",
     "text": [
      "Some weights of WeightedBert were not initialized from the model checkpoint at bert-base-uncased and are newly initialized: ['classifier.bias', 'classifier.weight']\n",
      "You should probably TRAIN this model on a down-stream task to be able to use it for predictions and inference.\n"
     ]
    }
   ],
   "source": [
    "num_labels = processed_df['label'].nunique()\n",
    "model = WeightedBert.from_pretrained(\n",
    "  'bert-base-uncased',\n",
    "  num_labels=num_labels,\n",
    "  class_weights=weights_tensor\n",
    ")"
   ]
  },
  {
   "cell_type": "code",
   "execution_count": 71,
   "id": "35d5933e",
   "metadata": {},
   "outputs": [
    {
     "data": {
      "text/plain": [
       "1         47\n",
       "2        223\n",
       "4        144\n",
       "7        133\n",
       "10       139\n",
       "        ... \n",
       "89979     67\n",
       "89985     84\n",
       "89988     84\n",
       "89990     42\n",
       "89995    154\n",
       "Name: text, Length: 38166, dtype: int64"
      ]
     },
     "execution_count": 71,
     "metadata": {},
     "output_type": "execute_result"
    }
   ],
   "source": [
    "processed_df[\"text\"].apply(lambda x: len(x.split()))"
   ]
  },
  {
   "cell_type": "code",
   "execution_count": 72,
   "id": "74aa8f2b",
   "metadata": {},
   "outputs": [
    {
     "data": {
      "text/plain": [
       "np.int64(807)"
      ]
     },
     "execution_count": 72,
     "metadata": {},
     "output_type": "execute_result"
    }
   ],
   "source": [
    "(processed_df[\"text\"].apply(lambda x: len(x.split())) > 256).sum()"
   ]
  },
  {
   "cell_type": "code",
   "execution_count": 73,
   "id": "df098795",
   "metadata": {},
   "outputs": [
    {
     "data": {
      "text/plain": [
       "np.float64(100.33689671435309)"
      ]
     },
     "execution_count": 73,
     "metadata": {},
     "output_type": "execute_result"
    }
   ],
   "source": [
    "processed_df[\"text\"].apply(lambda x: len(x.split())).mean()"
   ]
  },
  {
   "cell_type": "code",
   "execution_count": 74,
   "id": "f97a07b0",
   "metadata": {},
   "outputs": [
    {
     "data": {
      "text/plain": [
       "30532"
      ]
     },
     "execution_count": 74,
     "metadata": {},
     "output_type": "execute_result"
    }
   ],
   "source": [
    "train_dataset.__len__()"
   ]
  },
  {
   "cell_type": "code",
   "execution_count": 75,
   "id": "558c2219",
   "metadata": {},
   "outputs": [
    {
     "data": {
      "text/plain": [
       "{'input_ids': tensor([  101, 10386,  7561,  7592,  1010,  1045,  2001,  5604,  1996,  2223,\n",
       "         17928,  1998,  2363,  1037, 10386,  1999,  2026,  3898,  1012,  1045,\n",
       "          7039,  2012, 11421,  9797,  1998,  1996, 17928,  2001,  2428,  2091,\n",
       "          1012,  1045,  2699,  2000,  4608,  1996,  9413, 14544,  2007,  2223,\n",
       "         13088,  9331,  1032,  3433,  1032,  8299, 12740,  2487,  2021,  2134,\n",
       "          1005,  1056,  2147,  1012,  2151, 15690,  1029,   102,     0,     0,\n",
       "             0,     0,     0,     0,     0,     0,     0,     0,     0,     0,\n",
       "             0,     0,     0,     0,     0,     0,     0,     0,     0,     0,\n",
       "             0,     0,     0,     0,     0,     0,     0,     0,     0,     0,\n",
       "             0,     0,     0,     0,     0,     0,     0,     0,     0,     0,\n",
       "             0,     0,     0,     0,     0,     0,     0,     0,     0,     0,\n",
       "             0,     0,     0,     0,     0,     0,     0,     0,     0,     0,\n",
       "             0,     0,     0,     0,     0,     0,     0,     0,     0,     0,\n",
       "             0,     0,     0,     0,     0,     0,     0,     0,     0,     0,\n",
       "             0,     0,     0,     0,     0,     0,     0,     0,     0,     0,\n",
       "             0,     0,     0,     0,     0,     0,     0,     0,     0,     0,\n",
       "             0,     0,     0,     0,     0,     0,     0,     0,     0,     0,\n",
       "             0,     0,     0,     0,     0,     0,     0,     0,     0,     0,\n",
       "             0,     0,     0,     0,     0,     0,     0,     0,     0,     0,\n",
       "             0,     0,     0,     0,     0,     0,     0,     0,     0,     0,\n",
       "             0,     0,     0,     0,     0,     0,     0,     0,     0,     0,\n",
       "             0,     0,     0,     0,     0,     0,     0,     0,     0,     0,\n",
       "             0,     0,     0,     0,     0,     0,     0,     0,     0,     0,\n",
       "             0,     0,     0,     0,     0,     0,     0,     0,     0,     0,\n",
       "             0,     0,     0,     0,     0,     0,     0,     0,     0,     0,\n",
       "             0,     0,     0,     0,     0,     0]),\n",
       " 'attention_mask': tensor([1, 1, 1, 1, 1, 1, 1, 1, 1, 1, 1, 1, 1, 1, 1, 1, 1, 1, 1, 1, 1, 1, 1, 1,\n",
       "         1, 1, 1, 1, 1, 1, 1, 1, 1, 1, 1, 1, 1, 1, 1, 1, 1, 1, 1, 1, 1, 1, 1, 1,\n",
       "         1, 1, 1, 1, 1, 1, 1, 1, 1, 1, 0, 0, 0, 0, 0, 0, 0, 0, 0, 0, 0, 0, 0, 0,\n",
       "         0, 0, 0, 0, 0, 0, 0, 0, 0, 0, 0, 0, 0, 0, 0, 0, 0, 0, 0, 0, 0, 0, 0, 0,\n",
       "         0, 0, 0, 0, 0, 0, 0, 0, 0, 0, 0, 0, 0, 0, 0, 0, 0, 0, 0, 0, 0, 0, 0, 0,\n",
       "         0, 0, 0, 0, 0, 0, 0, 0, 0, 0, 0, 0, 0, 0, 0, 0, 0, 0, 0, 0, 0, 0, 0, 0,\n",
       "         0, 0, 0, 0, 0, 0, 0, 0, 0, 0, 0, 0, 0, 0, 0, 0, 0, 0, 0, 0, 0, 0, 0, 0,\n",
       "         0, 0, 0, 0, 0, 0, 0, 0, 0, 0, 0, 0, 0, 0, 0, 0, 0, 0, 0, 0, 0, 0, 0, 0,\n",
       "         0, 0, 0, 0, 0, 0, 0, 0, 0, 0, 0, 0, 0, 0, 0, 0, 0, 0, 0, 0, 0, 0, 0, 0,\n",
       "         0, 0, 0, 0, 0, 0, 0, 0, 0, 0, 0, 0, 0, 0, 0, 0, 0, 0, 0, 0, 0, 0, 0, 0,\n",
       "         0, 0, 0, 0, 0, 0, 0, 0, 0, 0, 0, 0, 0, 0, 0, 0]),\n",
       " 'labels': tensor(1)}"
      ]
     },
     "execution_count": 75,
     "metadata": {},
     "output_type": "execute_result"
    }
   ],
   "source": [
    "train_dataset.__getitem__(0)"
   ]
  },
  {
   "cell_type": "code",
   "execution_count": 76,
   "id": "40df5519",
   "metadata": {},
   "outputs": [
    {
     "data": {
      "text/plain": [
       "7634"
      ]
     },
     "execution_count": 76,
     "metadata": {},
     "output_type": "execute_result"
    }
   ],
   "source": [
    "test_dataset.__len__()"
   ]
  },
  {
   "cell_type": "code",
   "execution_count": 77,
   "id": "ade94fb3",
   "metadata": {},
   "outputs": [
    {
     "data": {
      "text/plain": [
       "{'input_ids': tensor([  101,  6187,  8450,  3674,  5746,  6764,  7632,  3071,  1010,  3603,\n",
       "         12849,  2884,  2096,  2559,  2005,  1037,  4942, 18585,  4522,  1012,\n",
       "          2293,  1996, 21318,  1998,  2031,  2209,  1037,  2978,  2007,  1996,\n",
       "          4684,  8278,  2364,  2224,  1045,  1005,  2222,  2031,  1998,  2009,\n",
       "          3849,  2008,  2069,  1015,  2299,  2003, 17053,  2094,  2013,  1996,\n",
       "          2085,  2652,  2862,  2012,  1037,  2051,  1012,  2383,  1996,  2878,\n",
       "          2862, 17053,  2094,  2007,  2005,  6013,  1037,  5310,  1011,  2275,\n",
       "          5787,  2006, 17053,  2946,  2052,  2022,  2307,  2005,  2216,  2146,\n",
       "          6005,  9109,  1024,  1012,  4283,  1037,  2843,   999,   102,     0,\n",
       "             0,     0,     0,     0,     0,     0,     0,     0,     0,     0,\n",
       "             0,     0,     0,     0,     0,     0,     0,     0,     0,     0,\n",
       "             0,     0,     0,     0,     0,     0,     0,     0,     0,     0,\n",
       "             0,     0,     0,     0,     0,     0,     0,     0,     0,     0,\n",
       "             0,     0,     0,     0,     0,     0,     0,     0,     0,     0,\n",
       "             0,     0,     0,     0,     0,     0,     0,     0,     0,     0,\n",
       "             0,     0,     0,     0,     0,     0,     0,     0,     0,     0,\n",
       "             0,     0,     0,     0,     0,     0,     0,     0,     0,     0,\n",
       "             0,     0,     0,     0,     0,     0,     0,     0,     0,     0,\n",
       "             0,     0,     0,     0,     0,     0,     0,     0,     0,     0,\n",
       "             0,     0,     0,     0,     0,     0,     0,     0,     0,     0,\n",
       "             0,     0,     0,     0,     0,     0,     0,     0,     0,     0,\n",
       "             0,     0,     0,     0,     0,     0,     0,     0,     0,     0,\n",
       "             0,     0,     0,     0,     0,     0,     0,     0,     0,     0,\n",
       "             0,     0,     0,     0,     0,     0,     0,     0,     0,     0,\n",
       "             0,     0,     0,     0,     0,     0,     0,     0,     0,     0,\n",
       "             0,     0,     0,     0,     0,     0]),\n",
       " 'attention_mask': tensor([1, 1, 1, 1, 1, 1, 1, 1, 1, 1, 1, 1, 1, 1, 1, 1, 1, 1, 1, 1, 1, 1, 1, 1,\n",
       "         1, 1, 1, 1, 1, 1, 1, 1, 1, 1, 1, 1, 1, 1, 1, 1, 1, 1, 1, 1, 1, 1, 1, 1,\n",
       "         1, 1, 1, 1, 1, 1, 1, 1, 1, 1, 1, 1, 1, 1, 1, 1, 1, 1, 1, 1, 1, 1, 1, 1,\n",
       "         1, 1, 1, 1, 1, 1, 1, 1, 1, 1, 1, 1, 1, 1, 1, 1, 1, 0, 0, 0, 0, 0, 0, 0,\n",
       "         0, 0, 0, 0, 0, 0, 0, 0, 0, 0, 0, 0, 0, 0, 0, 0, 0, 0, 0, 0, 0, 0, 0, 0,\n",
       "         0, 0, 0, 0, 0, 0, 0, 0, 0, 0, 0, 0, 0, 0, 0, 0, 0, 0, 0, 0, 0, 0, 0, 0,\n",
       "         0, 0, 0, 0, 0, 0, 0, 0, 0, 0, 0, 0, 0, 0, 0, 0, 0, 0, 0, 0, 0, 0, 0, 0,\n",
       "         0, 0, 0, 0, 0, 0, 0, 0, 0, 0, 0, 0, 0, 0, 0, 0, 0, 0, 0, 0, 0, 0, 0, 0,\n",
       "         0, 0, 0, 0, 0, 0, 0, 0, 0, 0, 0, 0, 0, 0, 0, 0, 0, 0, 0, 0, 0, 0, 0, 0,\n",
       "         0, 0, 0, 0, 0, 0, 0, 0, 0, 0, 0, 0, 0, 0, 0, 0, 0, 0, 0, 0, 0, 0, 0, 0,\n",
       "         0, 0, 0, 0, 0, 0, 0, 0, 0, 0, 0, 0, 0, 0, 0, 0]),\n",
       " 'labels': tensor(2)}"
      ]
     },
     "execution_count": 77,
     "metadata": {},
     "output_type": "execute_result"
    }
   ],
   "source": [
    "test_dataset.__getitem__(0)"
   ]
  },
  {
   "cell_type": "code",
   "execution_count": 78,
   "id": "cca2b50e",
   "metadata": {},
   "outputs": [],
   "source": [
    "# Define training arguments\n",
    "args = TrainingArguments(\n",
    "  output_dir=\"../models/\",\n",
    "  per_device_train_batch_size=8,\n",
    "  per_device_eval_batch_size=8,\n",
    "  learning_rate=3e-5,\n",
    "  num_train_epochs=4.0,\n",
    "  eval_strategy=\"epoch\",\n",
    "  save_strategy=\"epoch\",\n",
    "  logging_dir=\"../models/bert/logs/\",\n",
    "  logging_steps=50,\n",
    "  weight_decay=0.01\n",
    ")"
   ]
  },
  {
   "cell_type": "code",
   "execution_count": 79,
   "id": "ebc9b5e3",
   "metadata": {},
   "outputs": [],
   "source": [
    "def evaluate_metric(prediction_output):\n",
    "  logits = prediction_output.predictions\n",
    "  true_labels = prediction_output.label_ids\n",
    "  \n",
    "  predicted_labels = np.argmax(logits, axis=1)\n",
    "  \n",
    "  accuracy = accuracy_score(true_labels, predicted_labels)\n",
    "  f1_weighted = f1_score(true_labels, predicted_labels, average=\"weighted\")\n",
    "  \n",
    "  return {\n",
    "    \"accuracy\": accuracy,\n",
    "    \"f1_weighted\": f1_weighted\n",
    "  }"
   ]
  },
  {
   "cell_type": "code",
   "execution_count": 80,
   "id": "bf8b6d26",
   "metadata": {},
   "outputs": [],
   "source": [
    "trainer = Trainer(\n",
    "  model=model,\n",
    "  train_dataset=train_dataset,\n",
    "  eval_dataset=test_dataset,\n",
    "  args=args,\n",
    "  compute_metrics=evaluate_metric\n",
    ")"
   ]
  },
  {
   "cell_type": "code",
   "execution_count": 81,
   "id": "a637a1b7",
   "metadata": {},
   "outputs": [
    {
     "data": {
      "text/plain": [
       "device(type='cuda', index=0)"
      ]
     },
     "execution_count": 81,
     "metadata": {},
     "output_type": "execute_result"
    }
   ],
   "source": [
    "next(model.parameters()).device"
   ]
  },
  {
   "cell_type": "code",
   "execution_count": 82,
   "id": "ef341178",
   "metadata": {},
   "outputs": [
    {
     "data": {
      "text/html": [
       "\n",
       "    <div>\n",
       "      \n",
       "      <progress value='15268' max='15268' style='width:300px; height:20px; vertical-align: middle;'></progress>\n",
       "      [15268/15268 2:02:05, Epoch 4/4]\n",
       "    </div>\n",
       "    <table border=\"1\" class=\"dataframe\">\n",
       "  <thead>\n",
       " <tr style=\"text-align: left;\">\n",
       "      <th>Epoch</th>\n",
       "      <th>Training Loss</th>\n",
       "      <th>Validation Loss</th>\n",
       "      <th>Accuracy</th>\n",
       "      <th>F1 Weighted</th>\n",
       "    </tr>\n",
       "  </thead>\n",
       "  <tbody>\n",
       "    <tr>\n",
       "      <td>1</td>\n",
       "      <td>0.169600</td>\n",
       "      <td>0.169119</td>\n",
       "      <td>0.960178</td>\n",
       "      <td>0.960133</td>\n",
       "    </tr>\n",
       "    <tr>\n",
       "      <td>2</td>\n",
       "      <td>0.098700</td>\n",
       "      <td>0.188315</td>\n",
       "      <td>0.962012</td>\n",
       "      <td>0.961927</td>\n",
       "    </tr>\n",
       "    <tr>\n",
       "      <td>3</td>\n",
       "      <td>0.035600</td>\n",
       "      <td>0.192983</td>\n",
       "      <td>0.963060</td>\n",
       "      <td>0.962945</td>\n",
       "    </tr>\n",
       "    <tr>\n",
       "      <td>4</td>\n",
       "      <td>0.057600</td>\n",
       "      <td>0.211602</td>\n",
       "      <td>0.964239</td>\n",
       "      <td>0.964162</td>\n",
       "    </tr>\n",
       "  </tbody>\n",
       "</table><p>"
      ],
      "text/plain": [
       "<IPython.core.display.HTML object>"
      ]
     },
     "metadata": {},
     "output_type": "display_data"
    },
    {
     "data": {
      "text/plain": [
       "TrainOutput(global_step=15268, training_loss=0.15429682486620067, metrics={'train_runtime': 7325.8891, 'train_samples_per_second': 16.671, 'train_steps_per_second': 2.084, 'total_flos': 1.6066901995782144e+16, 'train_loss': 0.15429682486620067, 'epoch': 4.0})"
      ]
     },
     "execution_count": 82,
     "metadata": {},
     "output_type": "execute_result"
    }
   ],
   "source": [
    "trainer.train()"
   ]
  },
  {
   "cell_type": "code",
   "execution_count": null,
   "id": "d0ea1c55",
   "metadata": {},
   "outputs": [
    {
     "data": {
      "text/html": [
       "\n",
       "    <div>\n",
       "      \n",
       "      <progress value='955' max='955' style='width:300px; height:20px; vertical-align: middle;'></progress>\n",
       "      [955/955 02:03]\n",
       "    </div>\n",
       "    "
      ],
      "text/plain": [
       "<IPython.core.display.HTML object>"
      ]
     },
     "metadata": {},
     "output_type": "display_data"
    },
    {
     "data": {
      "text/plain": [
       "{'eval_loss': 0.211602121591568,\n",
       " 'eval_accuracy': 0.9642389310977207,\n",
       " 'eval_f1_weighted': 0.9641618390039496,\n",
       " 'eval_runtime': 123.4503,\n",
       " 'eval_samples_per_second': 61.839,\n",
       " 'eval_steps_per_second': 7.736,\n",
       " 'epoch': 4.0}"
      ]
     },
     "execution_count": 83,
     "metadata": {},
     "output_type": "execute_result"
    }
   ],
   "source": [
    "trainer.evaluate()"
   ]
  },
  {
   "cell_type": "markdown",
   "id": "ab6cb4e6",
   "metadata": {},
   "source": [
    "max_iter=128<br>\n",
    "learning_rate=5e-5<br>\n",
    "num_train_epochs=4.0<br>\n",
    "\n",
    "result:<br>\n",
    "{'eval_loss': 0.5069653987884521,<br>\n",
    " 'eval_accuracy': 0.8882089903506707,<br>\n",
    " 'eval_f1_weighted': 0.887788724595662,<br>\n",
    " 'eval_runtime': 32.0354,<br>\n",
    " 'eval_samples_per_second': 132.634,<br>\n",
    " 'eval_steps_per_second': 16.607,<br>\n",
    " 'epoch': 4.0}<br>"
   ]
  },
  {
   "cell_type": "code",
   "execution_count": 84,
   "id": "64e0c2ef",
   "metadata": {},
   "outputs": [
    {
     "data": {
      "text/plain": [
       "('../models/bert/tokenizer\\\\tokenizer_config.json',\n",
       " '../models/bert/tokenizer\\\\special_tokens_map.json',\n",
       " '../models/bert/tokenizer\\\\vocab.txt',\n",
       " '../models/bert/tokenizer\\\\added_tokens.json')"
      ]
     },
     "execution_count": 84,
     "metadata": {},
     "output_type": "execute_result"
    }
   ],
   "source": [
    "trainer.save_model(\"../models/bert/trainer\")\n",
    "tokenizer.save_pretrained(\"../models/bert/tokenizer\")"
   ]
  },
  {
   "cell_type": "code",
   "execution_count": null,
   "id": "2a552fad",
   "metadata": {},
   "outputs": [],
   "source": [
    "model = BertForSequenceClassification.from_pretrained(\"../models/bert/trainer\")\n",
    "tokenizer = BertTokenizer.from_pretrained(\"../models/bert/tokenizer\")"
   ]
  },
  {
   "cell_type": "code",
   "execution_count": 113,
   "id": "3f02688a",
   "metadata": {},
   "outputs": [
    {
     "data": {
      "text/plain": [
       "BertForSequenceClassification(\n",
       "  (bert): BertModel(\n",
       "    (embeddings): BertEmbeddings(\n",
       "      (word_embeddings): Embedding(30522, 768, padding_idx=0)\n",
       "      (position_embeddings): Embedding(512, 768)\n",
       "      (token_type_embeddings): Embedding(2, 768)\n",
       "      (LayerNorm): LayerNorm((768,), eps=1e-12, elementwise_affine=True)\n",
       "      (dropout): Dropout(p=0.1, inplace=False)\n",
       "    )\n",
       "    (encoder): BertEncoder(\n",
       "      (layer): ModuleList(\n",
       "        (0-11): 12 x BertLayer(\n",
       "          (attention): BertAttention(\n",
       "            (self): BertSdpaSelfAttention(\n",
       "              (query): Linear(in_features=768, out_features=768, bias=True)\n",
       "              (key): Linear(in_features=768, out_features=768, bias=True)\n",
       "              (value): Linear(in_features=768, out_features=768, bias=True)\n",
       "              (dropout): Dropout(p=0.1, inplace=False)\n",
       "            )\n",
       "            (output): BertSelfOutput(\n",
       "              (dense): Linear(in_features=768, out_features=768, bias=True)\n",
       "              (LayerNorm): LayerNorm((768,), eps=1e-12, elementwise_affine=True)\n",
       "              (dropout): Dropout(p=0.1, inplace=False)\n",
       "            )\n",
       "          )\n",
       "          (intermediate): BertIntermediate(\n",
       "            (dense): Linear(in_features=768, out_features=3072, bias=True)\n",
       "            (intermediate_act_fn): GELUActivation()\n",
       "          )\n",
       "          (output): BertOutput(\n",
       "            (dense): Linear(in_features=3072, out_features=768, bias=True)\n",
       "            (LayerNorm): LayerNorm((768,), eps=1e-12, elementwise_affine=True)\n",
       "            (dropout): Dropout(p=0.1, inplace=False)\n",
       "          )\n",
       "        )\n",
       "      )\n",
       "    )\n",
       "    (pooler): BertPooler(\n",
       "      (dense): Linear(in_features=768, out_features=768, bias=True)\n",
       "      (activation): Tanh()\n",
       "    )\n",
       "  )\n",
       "  (dropout): Dropout(p=0.1, inplace=False)\n",
       "  (classifier): Linear(in_features=768, out_features=4, bias=True)\n",
       ")"
      ]
     },
     "execution_count": 140,
     "metadata": {},
     "output_type": "execute_result"
    }
   ],
   "source": [
    "model.eval()"
   ]
  },
  {
   "cell_type": "code",
   "execution_count": 141,
   "id": "61d4a344",
   "metadata": {},
   "outputs": [
    {
     "data": {
      "text/plain": [
       "{'Critical': 0.998690664768219,\n",
       " 'High': 0.0007220040424726903,\n",
       " 'Low': 0.0003455271653365344,\n",
       " 'Medium': 0.00024173948622774333}"
      ]
     },
     "execution_count": 141,
     "metadata": {},
     "output_type": "execute_result"
    }
   ],
   "source": [
    "# Test text\n",
    "bug_title = \"Payment processing fails for all transactions\"\n",
    "bug_description = \"Users cannot complete any payments. Transactions are rejected with a server error 500 immediately after submitting payment info.\"\n",
    "bug_text = [bug_title + \" \" + bug_description]\n",
    "\n",
    "tokenized_input = tokenizer(\n",
    "  bug_text,\n",
    "  padding=True,\n",
    "  truncation=True,\n",
    "  max_length=128,\n",
    "  return_tensors=\"pt\"\n",
    ")\n",
    "\n",
    "logits = model(**tokenized_input).logits\n",
    "probabilities = torch.nn.functional.softmax(logits, dim=-1)\n",
    "predicted_index = probabilities.argmax(dim=-1).item()\n",
    "predicted_priority = le.inverse_transform([predicted_index])\n",
    "\n",
    "class_probs = {label: float(prob) for label, prob in zip(le.classes_, probabilities[0])}\n",
    "class_probs"
   ]
  },
  {
   "cell_type": "code",
   "execution_count": null,
   "id": "54a6e961",
   "metadata": {},
   "outputs": [],
   "source": []
  }
 ],
 "metadata": {
  "kernelspec": {
   "display_name": "bug-triage-env",
   "language": "python",
   "name": "python3"
  },
  "language_info": {
   "codemirror_mode": {
    "name": "ipython",
    "version": 3
   },
   "file_extension": ".py",
   "mimetype": "text/x-python",
   "name": "python",
   "nbconvert_exporter": "python",
   "pygments_lexer": "ipython3",
   "version": "3.11.13"
  }
 },
 "nbformat": 4,
 "nbformat_minor": 5
}

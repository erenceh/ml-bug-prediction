{
 "cells": [
  {
   "cell_type": "code",
   "execution_count": 25,
   "id": "6264ef97",
   "metadata": {},
   "outputs": [],
   "source": [
    "import pandas as pd\n",
    "import numpy as np\n",
    "import matplotlib.pyplot as plt\n",
    "import seaborn as sns\n",
    "import joblib\n",
    "from sklearn.model_selection import train_test_split\n",
    "from sklearn.preprocessing import LabelEncoder\n",
    "from sklearn.utils import resample\n",
    "from sklearn.utils.class_weight import compute_class_weight\n",
    "\n",
    "import torch\n",
    "from torch.nn import CrossEntropyLoss\n",
    "\n",
    "from transformers import (\n",
    "  AutoTokenizer, \n",
    "  AutoModelForSequenceClassification, \n",
    "  Trainer, \n",
    "  TrainingArguments,\n",
    "  DataCollatorWithPadding\n",
    ")\n",
    "\n",
    "from datasets import Dataset, DatasetDict\n",
    "from sklearn.metrics import (\n",
    "  accuracy_score,\n",
    "  f1_score,\n",
    "  precision_score,\n",
    "  recall_score,\n",
    "  confusion_matrix,\n",
    "  classification_report\n",
    "  )\n",
    "import os\n",
    "import json"
   ]
  },
  {
   "cell_type": "code",
   "execution_count": 26,
   "id": "3c667284",
   "metadata": {},
   "outputs": [
    {
     "name": "stdout",
     "output_type": "stream",
     "text": [
      "Using device:  cuda\n"
     ]
    }
   ],
   "source": [
    "device = torch.device(\"cuda\" if torch.cuda.is_available() else \"cpu\")\n",
    "print(\"Using device: \", device)"
   ]
  },
  {
   "cell_type": "code",
   "execution_count": 27,
   "id": "eba0e540",
   "metadata": {},
   "outputs": [
    {
     "data": {
      "text/html": [
       "<div>\n",
       "<style scoped>\n",
       "    .dataframe tbody tr th:only-of-type {\n",
       "        vertical-align: middle;\n",
       "    }\n",
       "\n",
       "    .dataframe tbody tr th {\n",
       "        vertical-align: top;\n",
       "    }\n",
       "\n",
       "    .dataframe thead th {\n",
       "        text-align: right;\n",
       "    }\n",
       "</style>\n",
       "<table border=\"1\" class=\"dataframe\">\n",
       "  <thead>\n",
       "    <tr style=\"text-align: right;\">\n",
       "      <th></th>\n",
       "      <th>Issue_id</th>\n",
       "      <th>Component</th>\n",
       "      <th>Title</th>\n",
       "      <th>Description</th>\n",
       "      <th>Status</th>\n",
       "      <th>Resolution</th>\n",
       "      <th>Priority</th>\n",
       "      <th>Cleaned_Text</th>\n",
       "    </tr>\n",
       "  </thead>\n",
       "  <tbody>\n",
       "    <tr>\n",
       "      <th>0</th>\n",
       "      <td>1700</td>\n",
       "      <td>Layout</td>\n",
       "      <td>font size 9px rounded down to 8px {font} {ll}</td>\n",
       "      <td>There is a piece of code in the Windows GFX th...</td>\n",
       "      <td>VERIFIED</td>\n",
       "      <td>FIXED</td>\n",
       "      <td>0</td>\n",
       "      <td>font size rounded font piece code window gfx r...</td>\n",
       "    </tr>\n",
       "    <tr>\n",
       "      <th>1</th>\n",
       "      <td>7991</td>\n",
       "      <td>Plug-ins</td>\n",
       "      <td>Land OOP plugins in mozilla-central (preffed off)</td>\n",
       "      <td>We need to land OOP plugins in mozilla-central...</td>\n",
       "      <td>RESOLVED</td>\n",
       "      <td>FIXED</td>\n",
       "      <td>0</td>\n",
       "      <td>land oop plugins mozilla central preffed need ...</td>\n",
       "    </tr>\n",
       "    <tr>\n",
       "      <th>2</th>\n",
       "      <td>1150</td>\n",
       "      <td>XPCOM</td>\n",
       "      <td>XP-COM Proxy code crashes when trying to AutoP...</td>\n",
       "      <td>(This bug imported from BugSplat; Netscapes in...</td>\n",
       "      <td>VERIFIED</td>\n",
       "      <td>FIXED</td>\n",
       "      <td>0</td>\n",
       "      <td>com proxy code crash trying autoproxy paramete...</td>\n",
       "    </tr>\n",
       "    <tr>\n",
       "      <th>3</th>\n",
       "      <td>6143</td>\n",
       "      <td>XUL</td>\n",
       "      <td>crash setting display:none on grid rows [@ nsG...</td>\n",
       "      <td>User-Agent:       Mozilla/5.0 (Windows; U; Win...</td>\n",
       "      <td>VERIFIED</td>\n",
       "      <td>FIXED</td>\n",
       "      <td>0</td>\n",
       "      <td>crash setting display none grid row nsgrid get...</td>\n",
       "    </tr>\n",
       "    <tr>\n",
       "      <th>4</th>\n",
       "      <td>5952</td>\n",
       "      <td>Networking: Cache</td>\n",
       "      <td>limit the memory cache to a reasonable value</td>\n",
       "      <td>I have 1GB of RAM; so Im using 31MB of memory ...</td>\n",
       "      <td>VERIFIED</td>\n",
       "      <td>FIXED</td>\n",
       "      <td>0</td>\n",
       "      <td>limit memory cache reasonable value ram using ...</td>\n",
       "    </tr>\n",
       "    <tr>\n",
       "      <th>...</th>\n",
       "      <td>...</td>\n",
       "      <td>...</td>\n",
       "      <td>...</td>\n",
       "      <td>...</td>\n",
       "      <td>...</td>\n",
       "      <td>...</td>\n",
       "      <td>...</td>\n",
       "      <td>...</td>\n",
       "    </tr>\n",
       "    <tr>\n",
       "      <th>52989</th>\n",
       "      <td>53192</td>\n",
       "      <td>Team</td>\n",
       "      <td>Replicate functionality (1GGP770)</td>\n",
       "      <td>In regular use; it is often necessary to be ab...</td>\n",
       "      <td>RESOLVED</td>\n",
       "      <td>WONTFIX</td>\n",
       "      <td>4</td>\n",
       "      <td>replicate functionality ggp regular use often ...</td>\n",
       "    </tr>\n",
       "    <tr>\n",
       "      <th>52990</th>\n",
       "      <td>53717</td>\n",
       "      <td>CSS Parsing and Computation</td>\n",
       "      <td>[charset]Improve @charset parsing in CSSLoader...</td>\n",
       "      <td>Separated from bug 72658.; ; http://lxr.mozill...</td>\n",
       "      <td>RESOLVED</td>\n",
       "      <td>FIXED</td>\n",
       "      <td>4</td>\n",
       "      <td>charset improve charset parsing cssloaderimpl ...</td>\n",
       "    </tr>\n",
       "    <tr>\n",
       "      <th>52991</th>\n",
       "      <td>53242</td>\n",
       "      <td>Migration</td>\n",
       "      <td>iCab Profile Migrator</td>\n",
       "      <td>.</td>\n",
       "      <td>RESOLVED</td>\n",
       "      <td>WONTFIX</td>\n",
       "      <td>4</td>\n",
       "      <td>icab profile migrator</td>\n",
       "    </tr>\n",
       "    <tr>\n",
       "      <th>52992</th>\n",
       "      <td>53682</td>\n",
       "      <td>DOM: Core &amp; HTML</td>\n",
       "      <td>The tableSectionElement.ch doesnt have a defau...</td>\n",
       "      <td>Overview Description: ; The tableSectionElemen...</td>\n",
       "      <td>VERIFIED</td>\n",
       "      <td>FIXED</td>\n",
       "      <td>4</td>\n",
       "      <td>tablesectionelement doesnt default value overv...</td>\n",
       "    </tr>\n",
       "    <tr>\n",
       "      <th>52993</th>\n",
       "      <td>53348</td>\n",
       "      <td>Panorama</td>\n",
       "      <td>closing a group shouldnt require two clicks</td>\n",
       "      <td>I find myself getting annoyed that I need to c...</td>\n",
       "      <td>RESOLVED</td>\n",
       "      <td>WONTFIX</td>\n",
       "      <td>4</td>\n",
       "      <td>closing group shouldnt require two click find ...</td>\n",
       "    </tr>\n",
       "  </tbody>\n",
       "</table>\n",
       "<p>52767 rows × 8 columns</p>\n",
       "</div>"
      ],
      "text/plain": [
       "       Issue_id                    Component  \\\n",
       "0          1700                       Layout   \n",
       "1          7991                     Plug-ins   \n",
       "2          1150                        XPCOM   \n",
       "3          6143                          XUL   \n",
       "4          5952            Networking: Cache   \n",
       "...         ...                          ...   \n",
       "52989     53192                         Team   \n",
       "52990     53717  CSS Parsing and Computation   \n",
       "52991     53242                    Migration   \n",
       "52992     53682             DOM: Core & HTML   \n",
       "52993     53348                     Panorama   \n",
       "\n",
       "                                                   Title  \\\n",
       "0          font size 9px rounded down to 8px {font} {ll}   \n",
       "1      Land OOP plugins in mozilla-central (preffed off)   \n",
       "2      XP-COM Proxy code crashes when trying to AutoP...   \n",
       "3      crash setting display:none on grid rows [@ nsG...   \n",
       "4           limit the memory cache to a reasonable value   \n",
       "...                                                  ...   \n",
       "52989                  Replicate functionality (1GGP770)   \n",
       "52990  [charset]Improve @charset parsing in CSSLoader...   \n",
       "52991                              iCab Profile Migrator   \n",
       "52992  The tableSectionElement.ch doesnt have a defau...   \n",
       "52993        closing a group shouldnt require two clicks   \n",
       "\n",
       "                                             Description    Status Resolution  \\\n",
       "0      There is a piece of code in the Windows GFX th...  VERIFIED      FIXED   \n",
       "1      We need to land OOP plugins in mozilla-central...  RESOLVED      FIXED   \n",
       "2      (This bug imported from BugSplat; Netscapes in...  VERIFIED      FIXED   \n",
       "3      User-Agent:       Mozilla/5.0 (Windows; U; Win...  VERIFIED      FIXED   \n",
       "4      I have 1GB of RAM; so Im using 31MB of memory ...  VERIFIED      FIXED   \n",
       "...                                                  ...       ...        ...   \n",
       "52989  In regular use; it is often necessary to be ab...  RESOLVED    WONTFIX   \n",
       "52990  Separated from bug 72658.; ; http://lxr.mozill...  RESOLVED      FIXED   \n",
       "52991                                                  .  RESOLVED    WONTFIX   \n",
       "52992  Overview Description: ; The tableSectionElemen...  VERIFIED      FIXED   \n",
       "52993  I find myself getting annoyed that I need to c...  RESOLVED    WONTFIX   \n",
       "\n",
       "       Priority                                       Cleaned_Text  \n",
       "0             0  font size rounded font piece code window gfx r...  \n",
       "1             0  land oop plugins mozilla central preffed need ...  \n",
       "2             0  com proxy code crash trying autoproxy paramete...  \n",
       "3             0  crash setting display none grid row nsgrid get...  \n",
       "4             0  limit memory cache reasonable value ram using ...  \n",
       "...         ...                                                ...  \n",
       "52989         4  replicate functionality ggp regular use often ...  \n",
       "52990         4  charset improve charset parsing cssloaderimpl ...  \n",
       "52991         4                              icab profile migrator  \n",
       "52992         4  tablesectionelement doesnt default value overv...  \n",
       "52993         4  closing group shouldnt require two click find ...  \n",
       "\n",
       "[52767 rows x 8 columns]"
      ]
     },
     "execution_count": 27,
     "metadata": {},
     "output_type": "execute_result"
    }
   ],
   "source": [
    "processed_df = joblib.load(\"../../data/processed/processed_ISEC_train_df.joblib\")\n",
    "processed_df"
   ]
  },
  {
   "cell_type": "code",
   "execution_count": 28,
   "id": "5c98fbf0",
   "metadata": {},
   "outputs": [],
   "source": [
    "processed_df[\"Text\"] = (\n",
    "  \"[TITLE] Title: \" + processed_df[\"Title\"].fillna(\"\") + \" | \" +\n",
    "  \"[DESC] Description: \" + processed_df[\"Description\"].fillna(\"\") + \" | \" +\n",
    "  \"[META] Component: \" + processed_df[\"Component\"].fillna(\"unknown\") + \" | \" +\n",
    "  \"[META] Status: \" + processed_df[\"Status\"].fillna(\"unknown\") + \" | \" +\n",
    "  \"[META] Resolution: \" + processed_df[\"Resolution\"].fillna(\"unknown\")\n",
    ")"
   ]
  },
  {
   "cell_type": "code",
   "execution_count": 29,
   "id": "45ab106e",
   "metadata": {},
   "outputs": [],
   "source": [
    "processed_df = processed_df[[\"Text\", \"Priority\"]].copy()\n",
    "processed_df = processed_df.dropna(subset=[\"Text\", \"Priority\"])"
   ]
  },
  {
   "cell_type": "code",
   "execution_count": 30,
   "id": "75f4f06a",
   "metadata": {},
   "outputs": [
    {
     "data": {
      "text/html": [
       "<div>\n",
       "<style scoped>\n",
       "    .dataframe tbody tr th:only-of-type {\n",
       "        vertical-align: middle;\n",
       "    }\n",
       "\n",
       "    .dataframe tbody tr th {\n",
       "        vertical-align: top;\n",
       "    }\n",
       "\n",
       "    .dataframe thead th {\n",
       "        text-align: right;\n",
       "    }\n",
       "</style>\n",
       "<table border=\"1\" class=\"dataframe\">\n",
       "  <thead>\n",
       "    <tr style=\"text-align: right;\">\n",
       "      <th></th>\n",
       "      <th>Text</th>\n",
       "      <th>Priority</th>\n",
       "    </tr>\n",
       "  </thead>\n",
       "  <tbody>\n",
       "    <tr>\n",
       "      <th>0</th>\n",
       "      <td>[TITLE] Title: font size 9px rounded down to 8...</td>\n",
       "      <td>0</td>\n",
       "    </tr>\n",
       "    <tr>\n",
       "      <th>1</th>\n",
       "      <td>[TITLE] Title: Land OOP plugins in mozilla-cen...</td>\n",
       "      <td>0</td>\n",
       "    </tr>\n",
       "    <tr>\n",
       "      <th>2</th>\n",
       "      <td>[TITLE] Title: XP-COM Proxy code crashes when ...</td>\n",
       "      <td>0</td>\n",
       "    </tr>\n",
       "    <tr>\n",
       "      <th>3</th>\n",
       "      <td>[TITLE] Title: crash setting display:none on g...</td>\n",
       "      <td>0</td>\n",
       "    </tr>\n",
       "    <tr>\n",
       "      <th>4</th>\n",
       "      <td>[TITLE] Title: limit the memory cache to a rea...</td>\n",
       "      <td>0</td>\n",
       "    </tr>\n",
       "    <tr>\n",
       "      <th>...</th>\n",
       "      <td>...</td>\n",
       "      <td>...</td>\n",
       "    </tr>\n",
       "    <tr>\n",
       "      <th>52989</th>\n",
       "      <td>[TITLE] Title: Replicate functionality (1GGP77...</td>\n",
       "      <td>4</td>\n",
       "    </tr>\n",
       "    <tr>\n",
       "      <th>52990</th>\n",
       "      <td>[TITLE] Title: [charset]Improve @charset parsi...</td>\n",
       "      <td>4</td>\n",
       "    </tr>\n",
       "    <tr>\n",
       "      <th>52991</th>\n",
       "      <td>[TITLE] Title: iCab Profile Migrator | [DESC] ...</td>\n",
       "      <td>4</td>\n",
       "    </tr>\n",
       "    <tr>\n",
       "      <th>52992</th>\n",
       "      <td>[TITLE] Title: The tableSectionElement.ch does...</td>\n",
       "      <td>4</td>\n",
       "    </tr>\n",
       "    <tr>\n",
       "      <th>52993</th>\n",
       "      <td>[TITLE] Title: closing a group shouldnt requir...</td>\n",
       "      <td>4</td>\n",
       "    </tr>\n",
       "  </tbody>\n",
       "</table>\n",
       "<p>52767 rows × 2 columns</p>\n",
       "</div>"
      ],
      "text/plain": [
       "                                                    Text  Priority\n",
       "0      [TITLE] Title: font size 9px rounded down to 8...         0\n",
       "1      [TITLE] Title: Land OOP plugins in mozilla-cen...         0\n",
       "2      [TITLE] Title: XP-COM Proxy code crashes when ...         0\n",
       "3      [TITLE] Title: crash setting display:none on g...         0\n",
       "4      [TITLE] Title: limit the memory cache to a rea...         0\n",
       "...                                                  ...       ...\n",
       "52989  [TITLE] Title: Replicate functionality (1GGP77...         4\n",
       "52990  [TITLE] Title: [charset]Improve @charset parsi...         4\n",
       "52991  [TITLE] Title: iCab Profile Migrator | [DESC] ...         4\n",
       "52992  [TITLE] Title: The tableSectionElement.ch does...         4\n",
       "52993  [TITLE] Title: closing a group shouldnt requir...         4\n",
       "\n",
       "[52767 rows x 2 columns]"
      ]
     },
     "execution_count": 30,
     "metadata": {},
     "output_type": "execute_result"
    }
   ],
   "source": [
    "processed_df"
   ]
  },
  {
   "cell_type": "code",
   "execution_count": 31,
   "id": "fb8958c8",
   "metadata": {},
   "outputs": [],
   "source": [
    "processed_df[\"label\"] = processed_df[\"Priority\"].astype(int)"
   ]
  },
  {
   "cell_type": "code",
   "execution_count": 32,
   "id": "2d3f74ae",
   "metadata": {},
   "outputs": [
    {
     "name": "stdout",
     "output_type": "stream",
     "text": [
      "Num labels: 5, classes: [np.int64(0), np.int64(1), np.int64(2), np.int64(3), np.int64(4)]\n"
     ]
    }
   ],
   "source": [
    "num_labels = processed_df[\"label\"].nunique()\n",
    "print(f\"Num labels: {num_labels}, classes: {sorted(processed_df['label'].unique())}\")"
   ]
  },
  {
   "cell_type": "code",
   "execution_count": 33,
   "id": "3e8f27d2",
   "metadata": {},
   "outputs": [
    {
     "name": "stdout",
     "output_type": "stream",
     "text": [
      "Train shape:  (47490, 3)\n",
      "Validation shape:  (5277, 3)\n"
     ]
    }
   ],
   "source": [
    "train_df, val_df = train_test_split(\n",
    "  processed_df,\n",
    "  test_size=0.1,\n",
    "  random_state=42,\n",
    "  stratify=processed_df[\"label\"]\n",
    ")\n",
    "\n",
    "print(\"Train shape: \", train_df.shape)\n",
    "print(\"Validation shape: \", val_df.shape)"
   ]
  },
  {
   "cell_type": "code",
   "execution_count": 34,
   "id": "a3740e37",
   "metadata": {},
   "outputs": [],
   "source": [
    "dataset_train = Dataset.from_pandas(train_df.reset_index(drop=True))\n",
    "dataset_val = Dataset.from_pandas(val_df.reset_index(drop=True))\n",
    "ds = DatasetDict({\"train\": dataset_train, \"validation\": dataset_val})"
   ]
  },
  {
   "cell_type": "code",
   "execution_count": 35,
   "id": "4e6a4500",
   "metadata": {},
   "outputs": [],
   "source": [
    "tokenizer = AutoTokenizer.from_pretrained('bert-base-uncased')"
   ]
  },
  {
   "cell_type": "code",
   "execution_count": 36,
   "id": "ceeaa5cc",
   "metadata": {},
   "outputs": [],
   "source": [
    "def tokenize_fn(batch):\n",
    "  tokens = tokenizer(batch[\"Text\"], truncation=True, max_length=296)\n",
    "  tokens[\"labels\"] = batch[\"label\"]\n",
    "  return tokens"
   ]
  },
  {
   "cell_type": "code",
   "execution_count": 37,
   "id": "98dc7636",
   "metadata": {},
   "outputs": [
    {
     "data": {
      "application/vnd.jupyter.widget-view+json": {
       "model_id": "e84a9f566fff47c09e86e75032e5cc6b",
       "version_major": 2,
       "version_minor": 0
      },
      "text/plain": [
       "Map:   0%|          | 0/47490 [00:00<?, ? examples/s]"
      ]
     },
     "metadata": {},
     "output_type": "display_data"
    },
    {
     "data": {
      "application/vnd.jupyter.widget-view+json": {
       "model_id": "331f9313fd5b49bbbc21c68ce6493b9c",
       "version_major": 2,
       "version_minor": 0
      },
      "text/plain": [
       "Map:   0%|          | 0/5277 [00:00<?, ? examples/s]"
      ]
     },
     "metadata": {},
     "output_type": "display_data"
    }
   ],
   "source": [
    "ds = ds.map(tokenize_fn, batched=True, remove_columns=[\"Text\", \"Priority\", \"label\"], keep_in_memory=True)"
   ]
  },
  {
   "cell_type": "code",
   "execution_count": 38,
   "id": "4c4604ab",
   "metadata": {},
   "outputs": [],
   "source": [
    "data_collator = DataCollatorWithPadding(tokenizer=tokenizer)"
   ]
  },
  {
   "cell_type": "code",
   "execution_count": 39,
   "id": "f6d7ad46",
   "metadata": {},
   "outputs": [
    {
     "name": "stdout",
     "output_type": "stream",
     "text": [
      "Class weights:  tensor([0.3661, 0.3480, 0.1058, 1.4321, 2.7480], device='cuda:0')\n"
     ]
    }
   ],
   "source": [
    "y_train = train_df[\"label\"].values\n",
    "weights = compute_class_weight(\"balanced\", classes=np.unique(y_train), y=y_train)\n",
    "weights = np.array(weights)\n",
    "weights = weights / weights.sum() * len(weights)\n",
    "class_weights = torch.tensor(weights, dtype=torch.float).to(device)\n",
    "print(\"Class weights: \", class_weights)"
   ]
  },
  {
   "cell_type": "code",
   "execution_count": 40,
   "id": "990594e7",
   "metadata": {},
   "outputs": [
    {
     "name": "stderr",
     "output_type": "stream",
     "text": [
      "Some weights of BertForSequenceClassification were not initialized from the model checkpoint at bert-base-uncased and are newly initialized: ['classifier.bias', 'classifier.weight']\n",
      "You should probably TRAIN this model on a down-stream task to be able to use it for predictions and inference.\n"
     ]
    }
   ],
   "source": [
    "model = AutoModelForSequenceClassification.from_pretrained(\n",
    "  \"bert-base-uncased\",\n",
    "  num_labels=num_labels\n",
    ").to(device)"
   ]
  },
  {
   "cell_type": "code",
   "execution_count": 41,
   "id": "e0158798",
   "metadata": {},
   "outputs": [],
   "source": [
    "class WeightedTrainer(Trainer):\n",
    "  def __init__(self, *args, class_weights=None, **kwargs):\n",
    "    super().__init__(*args, **kwargs)\n",
    "    self.class_weights = class_weights.to(self.args.device) if class_weights is not None else None\n",
    "    \n",
    "  def compute_loss(self, model, inputs, return_outputs=False, **kwargs):\n",
    "    labels = inputs.get(\"labels\")\n",
    "    outputs = model(**{k: v for k, v in inputs.items() if k != \"labels\"})\n",
    "    logits = outputs.logits\n",
    "    loss_fct = CrossEntropyLoss(weight=self.class_weights)\n",
    "    loss = loss_fct(logits.view(-1, model.config.num_labels), labels.view(-1))\n",
    "    return (loss, outputs) if return_outputs else loss"
   ]
  },
  {
   "cell_type": "code",
   "execution_count": 42,
   "id": "ebc9b5e3",
   "metadata": {},
   "outputs": [],
   "source": [
    "def compute_metric(pred):\n",
    "  logits = pred.predictions\n",
    "  preds = np.argmax(logits, axis=-1)\n",
    "  labels = pred.label_ids\n",
    "  \n",
    "  accuracy = accuracy_score(labels, preds)\n",
    "  precision_macro = precision_score(labels, preds, average=\"macro\", zero_division=0)\n",
    "  recall_macro = recall_score(labels, preds, average=\"macro\", zero_division=0)\n",
    "  f1_macro = f1_score(labels, preds, average=\"macro\")\n",
    "  \n",
    "  return {\n",
    "    \"accuracy\": accuracy,\n",
    "    \"precision_macro\": precision_macro,\n",
    "    \"recall_macro\": recall_macro,\n",
    "    \"f1_macro\": f1_macro\n",
    "  }"
   ]
  },
  {
   "cell_type": "code",
   "execution_count": 43,
   "id": "cca2b50e",
   "metadata": {},
   "outputs": [],
   "source": [
    "# Define training arguments\n",
    "training_args = TrainingArguments(\n",
    "  output_dir=\"../models/bert\",\n",
    "  per_device_train_batch_size=16,\n",
    "  per_device_eval_batch_size=16,\n",
    "  learning_rate=2e-5,\n",
    "  num_train_epochs=4,\n",
    "  eval_strategy=\"epoch\",\n",
    "  save_strategy=\"epoch\",\n",
    "  logging_dir=\"../models/bert/logs/\",\n",
    "  logging_steps=100,\n",
    "  weight_decay=0.01,\n",
    "  load_best_model_at_end=True,\n",
    "  metric_for_best_model=\"f1_macro\",\n",
    "  fp16=True\n",
    ")"
   ]
  },
  {
   "cell_type": "code",
   "execution_count": 44,
   "id": "bf8b6d26",
   "metadata": {},
   "outputs": [
    {
     "name": "stderr",
     "output_type": "stream",
     "text": [
      "C:\\Users\\rusty\\AppData\\Local\\Temp\\ipykernel_15640\\1673886968.py:3: FutureWarning: `tokenizer` is deprecated and will be removed in version 5.0.0 for `WeightedTrainer.__init__`. Use `processing_class` instead.\n",
      "  super().__init__(*args, **kwargs)\n"
     ]
    }
   ],
   "source": [
    "trainer = WeightedTrainer(\n",
    "  model=model,\n",
    "  args=training_args,\n",
    "  train_dataset=ds[\"train\"],\n",
    "  eval_dataset=ds[\"validation\"],\n",
    "  tokenizer=tokenizer,\n",
    "  data_collator=data_collator,\n",
    "  compute_metrics=compute_metric,\n",
    "  class_weights=class_weights\n",
    ")"
   ]
  },
  {
   "cell_type": "code",
   "execution_count": 45,
   "id": "ef341178",
   "metadata": {},
   "outputs": [
    {
     "data": {
      "text/html": [
       "\n",
       "    <div>\n",
       "      \n",
       "      <progress value='11876' max='11876' style='width:300px; height:20px; vertical-align: middle;'></progress>\n",
       "      [11876/11876 1:22:13, Epoch 4/4]\n",
       "    </div>\n",
       "    <table border=\"1\" class=\"dataframe\">\n",
       "  <thead>\n",
       " <tr style=\"text-align: left;\">\n",
       "      <th>Epoch</th>\n",
       "      <th>Training Loss</th>\n",
       "      <th>Validation Loss</th>\n",
       "      <th>Accuracy</th>\n",
       "      <th>Precision Macro</th>\n",
       "      <th>Recall Macro</th>\n",
       "      <th>F1 Macro</th>\n",
       "    </tr>\n",
       "  </thead>\n",
       "  <tbody>\n",
       "    <tr>\n",
       "      <td>1</td>\n",
       "      <td>1.338100</td>\n",
       "      <td>1.377870</td>\n",
       "      <td>0.562062</td>\n",
       "      <td>0.383686</td>\n",
       "      <td>0.425013</td>\n",
       "      <td>0.376093</td>\n",
       "    </tr>\n",
       "    <tr>\n",
       "      <td>2</td>\n",
       "      <td>1.304100</td>\n",
       "      <td>1.351138</td>\n",
       "      <td>0.553345</td>\n",
       "      <td>0.405595</td>\n",
       "      <td>0.441314</td>\n",
       "      <td>0.410262</td>\n",
       "    </tr>\n",
       "    <tr>\n",
       "      <td>3</td>\n",
       "      <td>1.158300</td>\n",
       "      <td>1.419838</td>\n",
       "      <td>0.582149</td>\n",
       "      <td>0.411232</td>\n",
       "      <td>0.449853</td>\n",
       "      <td>0.422859</td>\n",
       "    </tr>\n",
       "    <tr>\n",
       "      <td>4</td>\n",
       "      <td>0.908900</td>\n",
       "      <td>1.539901</td>\n",
       "      <td>0.585749</td>\n",
       "      <td>0.412580</td>\n",
       "      <td>0.448526</td>\n",
       "      <td>0.424425</td>\n",
       "    </tr>\n",
       "  </tbody>\n",
       "</table><p>"
      ],
      "text/plain": [
       "<IPython.core.display.HTML object>"
      ]
     },
     "metadata": {},
     "output_type": "display_data"
    },
    {
     "data": {
      "text/plain": [
       "TrainOutput(global_step=11876, training_loss=1.2031106997034131, metrics={'train_runtime': 4933.7475, 'train_samples_per_second': 38.502, 'train_steps_per_second': 2.407, 'total_flos': 2.8855073099247264e+16, 'train_loss': 1.2031106997034131, 'epoch': 4.0})"
      ]
     },
     "execution_count": 45,
     "metadata": {},
     "output_type": "execute_result"
    }
   ],
   "source": [
    "trainer.train()"
   ]
  },
  {
   "cell_type": "code",
   "execution_count": 46,
   "id": "d0ea1c55",
   "metadata": {},
   "outputs": [
    {
     "data": {
      "text/html": [],
      "text/plain": [
       "<IPython.core.display.HTML object>"
      ]
     },
     "metadata": {},
     "output_type": "display_data"
    },
    {
     "data": {
      "text/plain": [
       "{'eval_loss': 1.539900779724121,\n",
       " 'eval_accuracy': 0.5857494788705704,\n",
       " 'eval_precision_macro': 0.4125799594705037,\n",
       " 'eval_recall_macro': 0.4485259813189809,\n",
       " 'eval_f1_macro': 0.42442523501381874,\n",
       " 'eval_runtime': 37.3811,\n",
       " 'eval_samples_per_second': 141.167,\n",
       " 'eval_steps_per_second': 8.828,\n",
       " 'epoch': 4.0}"
      ]
     },
     "execution_count": 46,
     "metadata": {},
     "output_type": "execute_result"
    }
   ],
   "source": [
    "trainer.evaluate()"
   ]
  },
  {
   "cell_type": "code",
   "execution_count": 64,
   "id": "10ba575b",
   "metadata": {},
   "outputs": [
    {
     "name": "stderr",
     "output_type": "stream",
     "text": [
      "C:\\Users\\rusty\\AppData\\Local\\Temp\\ipykernel_15640\\3224661968.py:2: FutureWarning: \n",
      "\n",
      "Passing `palette` without assigning `hue` is deprecated and will be removed in v0.14.0. Assign the `x` variable to `hue` and set `legend=False` for the same effect.\n",
      "\n",
      "  sns.countplot(\n"
     ]
    },
    {
     "data": {
      "image/png": "[encoded data removed]",
      "text/plain": [
       "<Figure size 800x400 with 1 Axes>"
      ]
     },
     "metadata": {},
     "output_type": "display_data"
    }
   ],
   "source": [
    "plt.figure(figsize=(8,4))\n",
    "sns.countplot(\n",
    "  x=\"Priority\",\n",
    "  data=processed_df,\n",
    "  order=processed_df[\"Priority\"].value_counts().index,\n",
    "  palette=\"viridis\"\n",
    ")\n",
    "\n",
    "plt.title(\"Class Distribution of Bug Priorities\")\n",
    "plt.xlabel(\"Priority Label\")\n",
    "plt.ylabel(\"Count\")\n",
    "plt.show()"
   ]
  },
  {
   "cell_type": "code",
   "execution_count": 65,
   "id": "d97addd6",
   "metadata": {},
   "outputs": [
    {
     "name": "stdout",
     "output_type": "stream",
     "text": [
      "Class proportions:  Priority\n",
      "2    0.586427\n",
      "1    0.178236\n",
      "0    0.169443\n",
      "3    0.043323\n",
      "4    0.022571\n",
      "Name: count, dtype: float64\n"
     ]
    }
   ],
   "source": [
    "class_counts = processed_df[\"Priority\"].value_counts()\n",
    "class_proportions = class_counts / len(processed_df)\n",
    "print(\"Class proportions: \", class_proportions)"
   ]
  },
  {
   "cell_type": "code",
   "execution_count": 66,
   "id": "38729579",
   "metadata": {},
   "outputs": [
    {
     "data": {
      "text/html": [],
      "text/plain": [
       "<IPython.core.display.HTML object>"
      ]
     },
     "metadata": {},
     "output_type": "display_data"
    }
   ],
   "source": [
    "predictions = trainer.predict(ds[\"validation\"])\n",
    "y_true = predictions.label_ids\n",
    "y_pred = np.argmax(predictions.predictions, axis=1)"
   ]
  },
  {
   "cell_type": "code",
   "execution_count": 67,
   "id": "ee6d27e0",
   "metadata": {},
   "outputs": [],
   "source": [
    "labels = sorted(processed_df[\"Priority\"].unique())\n",
    "cm = confusion_matrix(y_true, y_pred)"
   ]
  },
  {
   "cell_type": "code",
   "execution_count": 68,
   "id": "ba135110",
   "metadata": {},
   "outputs": [
    {
     "data": {
      "image/png": "[encoded data removed]",
      "text/plain": [
       "<Figure size 800x600 with 2 Axes>"
      ]
     },
     "metadata": {},
     "output_type": "display_data"
    }
   ],
   "source": [
    "plt.figure(figsize=(8,6))\n",
    "sns.heatmap(\n",
    "  cm,\n",
    "  annot=True,\n",
    "  fmt=\"d\",\n",
    "  cmap=\"Blues\",\n",
    "  xticklabels=labels,\n",
    "  yticklabels=labels\n",
    ")\n",
    "\n",
    "plt.title(\"Confusion Matrix on Validation Set\")\n",
    "plt.xlabel(\"Predicted Label\")\n",
    "plt.ylabel(\"True Label\")\n",
    "plt.show()"
   ]
  },
  {
   "cell_type": "code",
   "execution_count": 70,
   "id": "81091481",
   "metadata": {},
   "outputs": [
    {
     "name": "stdout",
     "output_type": "stream",
     "text": [
      "Classification Report:\n",
      "              precision    recall  f1-score   support\n",
      "\n",
      "           0      0.461     0.509     0.484       894\n",
      "           1      0.346     0.419     0.379       940\n",
      "           2      0.814     0.688     0.746      3095\n",
      "           3      0.197     0.341     0.250       229\n",
      "           4      0.245     0.286     0.264       119\n",
      "\n",
      "    accuracy                          0.586      5277\n",
      "   macro avg      0.413     0.449     0.424      5277\n",
      "weighted avg      0.631     0.586     0.604      5277\n",
      "\n"
     ]
    }
   ],
   "source": [
    "label_names = [str(l) for l in labels]\n",
    "print(\"Classification Report:\")\n",
    "print(classification_report(y_true, y_pred, target_names=label_names, digits=3))"
   ]
  },
  {
   "cell_type": "code",
   "execution_count": 71,
   "id": "64e0c2ef",
   "metadata": {},
   "outputs": [
    {
     "data": {
      "text/plain": [
       "('../models/bert\\\\tokenizer_config.json',\n",
       " '../models/bert\\\\special_tokens_map.json',\n",
       " '../models/bert\\\\vocab.txt',\n",
       " '../models/bert\\\\added_tokens.json',\n",
       " '../models/bert\\\\tokenizer.json')"
      ]
     },
     "execution_count": 71,
     "metadata": {},
     "output_type": "execute_result"
    }
   ],
   "source": [
    "trainer.save_model(\"../models/bert\")\n",
    "tokenizer.save_pretrained(\"../models/bert\")"
   ]
  },
  {
   "cell_type": "code",
   "execution_count": 72,
   "id": "2a552fad",
   "metadata": {},
   "outputs": [
    {
     "name": "stdout",
     "output_type": "stream",
     "text": [
      "Saved model + tokenizer + label_map\n"
     ]
    }
   ],
   "source": [
    "label_map = {\n",
    "  0: \"Critical\",\n",
    "  1: \"High\",\n",
    "  2: \"Medium\",\n",
    "  3: \"Low\",\n",
    "  4: \"Trivial\"\n",
    "}\n",
    "\n",
    "with open(\"../models/bert/label_map.json\", \"w\") as f:\n",
    "  json.dump(label_map, f)\n",
    "  \n",
    "print(\"Saved model + tokenizer + label_map\")"
   ]
  },
  {
   "cell_type": "code",
   "execution_count": 73,
   "id": "759e48dd",
   "metadata": {},
   "outputs": [],
   "source": [
    "test_df = pd.read_csv(\"../../data/raw/test.csv\")"
   ]
  },
  {
   "cell_type": "code",
   "execution_count": 74,
   "id": "4f98dcc0",
   "metadata": {},
   "outputs": [
    {
     "data": {
      "text/html": [
       "<div>\n",
       "<style scoped>\n",
       "    .dataframe tbody tr th:only-of-type {\n",
       "        vertical-align: middle;\n",
       "    }\n",
       "\n",
       "    .dataframe tbody tr th {\n",
       "        vertical-align: top;\n",
       "    }\n",
       "\n",
       "    .dataframe thead th {\n",
       "        text-align: right;\n",
       "    }\n",
       "</style>\n",
       "<table border=\"1\" class=\"dataframe\">\n",
       "  <thead>\n",
       "    <tr style=\"text-align: right;\">\n",
       "      <th></th>\n",
       "      <th>Issue_id</th>\n",
       "      <th>Component</th>\n",
       "      <th>Title</th>\n",
       "      <th>Description</th>\n",
       "      <th>Status</th>\n",
       "      <th>Resolution</th>\n",
       "    </tr>\n",
       "  </thead>\n",
       "  <tbody>\n",
       "    <tr>\n",
       "      <th>0</th>\n",
       "      <td>6578</td>\n",
       "      <td>JavaScript Engine</td>\n",
       "      <td>Finalize yield syntax to match ES4/JS2 proposal</td>\n",
       "      <td>This tracks Python 2.5.  Currently we allow; ;...</td>\n",
       "      <td>VERIFIED</td>\n",
       "      <td>FIXED</td>\n",
       "    </tr>\n",
       "    <tr>\n",
       "      <th>1</th>\n",
       "      <td>8050</td>\n",
       "      <td>Networking: Cache</td>\n",
       "      <td>e10s HTTP: offline application cache</td>\n",
       "      <td>I actually know very little about how applicat...</td>\n",
       "      <td>RESOLVED</td>\n",
       "      <td>FIXED</td>\n",
       "    </tr>\n",
       "    <tr>\n",
       "      <th>2</th>\n",
       "      <td>5281</td>\n",
       "      <td>DOM: Core &amp; HTML</td>\n",
       "      <td>[FIX]Add GetOwnerDocument on nsIContent or nsG...</td>\n",
       "      <td>See comments in bug 211440; the idea is to add...</td>\n",
       "      <td>RESOLVED</td>\n",
       "      <td>FIXED</td>\n",
       "    </tr>\n",
       "    <tr>\n",
       "      <th>3</th>\n",
       "      <td>7871</td>\n",
       "      <td>Layout: View Rendering</td>\n",
       "      <td>Text editing broken in Firebug edit mode and o...</td>\n",
       "      <td>Getting reports that editing is broken in Fire...</td>\n",
       "      <td>VERIFIED</td>\n",
       "      <td>FIXED</td>\n",
       "    </tr>\n",
       "    <tr>\n",
       "      <th>4</th>\n",
       "      <td>2411</td>\n",
       "      <td>Plug-ins</td>\n",
       "      <td>shockwave movies redraw improperly on mac(nsbe...</td>\n",
       "      <td>From Bugzilla Helper:; User-Agent: Mozilla/4.7...</td>\n",
       "      <td>VERIFIED</td>\n",
       "      <td>DUPLICATE</td>\n",
       "    </tr>\n",
       "  </tbody>\n",
       "</table>\n",
       "</div>"
      ],
      "text/plain": [
       "   Issue_id               Component  \\\n",
       "0      6578       JavaScript Engine   \n",
       "1      8050       Networking: Cache   \n",
       "2      5281        DOM: Core & HTML   \n",
       "3      7871  Layout: View Rendering   \n",
       "4      2411                Plug-ins   \n",
       "\n",
       "                                               Title  \\\n",
       "0    Finalize yield syntax to match ES4/JS2 proposal   \n",
       "1               e10s HTTP: offline application cache   \n",
       "2  [FIX]Add GetOwnerDocument on nsIContent or nsG...   \n",
       "3  Text editing broken in Firebug edit mode and o...   \n",
       "4  shockwave movies redraw improperly on mac(nsbe...   \n",
       "\n",
       "                                         Description    Status Resolution  \n",
       "0  This tracks Python 2.5.  Currently we allow; ;...  VERIFIED      FIXED  \n",
       "1  I actually know very little about how applicat...  RESOLVED      FIXED  \n",
       "2  See comments in bug 211440; the idea is to add...  RESOLVED      FIXED  \n",
       "3  Getting reports that editing is broken in Fire...  VERIFIED      FIXED  \n",
       "4  From Bugzilla Helper:; User-Agent: Mozilla/4.7...  VERIFIED  DUPLICATE  "
      ]
     },
     "execution_count": 74,
     "metadata": {},
     "output_type": "execute_result"
    }
   ],
   "source": [
    "test_df.head()"
   ]
  },
  {
   "cell_type": "code",
   "execution_count": 76,
   "id": "dc139946",
   "metadata": {},
   "outputs": [],
   "source": [
    "test_df[\"Text\"] = (\n",
    "  \"[TITLE] Title: \" + test_df[\"Title\"].fillna(\"\") + \" | \" +\n",
    "  \"[DESC] Description: \" + test_df[\"Description\"].fillna(\"\") + \" | \" +\n",
    "  \"[META] Component: \" + test_df[\"Component\"].fillna(\"unknown\") + \" | \" +\n",
    "  \"[META] Status: \" + test_df[\"Status\"].fillna(\"unknown\") + \" | \" +\n",
    "  \"[META] Resolution: \" + test_df[\"Resolution\"].fillna(\"unknown\")\n",
    ")"
   ]
  },
  {
   "cell_type": "code",
   "execution_count": 77,
   "id": "411de4d4",
   "metadata": {},
   "outputs": [
    {
     "data": {
      "text/plain": [
       "BertForSequenceClassification(\n",
       "  (bert): BertModel(\n",
       "    (embeddings): BertEmbeddings(\n",
       "      (word_embeddings): Embedding(30522, 768, padding_idx=0)\n",
       "      (position_embeddings): Embedding(512, 768)\n",
       "      (token_type_embeddings): Embedding(2, 768)\n",
       "      (LayerNorm): LayerNorm((768,), eps=1e-12, elementwise_affine=True)\n",
       "      (dropout): Dropout(p=0.1, inplace=False)\n",
       "    )\n",
       "    (encoder): BertEncoder(\n",
       "      (layer): ModuleList(\n",
       "        (0-11): 12 x BertLayer(\n",
       "          (attention): BertAttention(\n",
       "            (self): BertSdpaSelfAttention(\n",
       "              (query): Linear(in_features=768, out_features=768, bias=True)\n",
       "              (key): Linear(in_features=768, out_features=768, bias=True)\n",
       "              (value): Linear(in_features=768, out_features=768, bias=True)\n",
       "              (dropout): Dropout(p=0.1, inplace=False)\n",
       "            )\n",
       "            (output): BertSelfOutput(\n",
       "              (dense): Linear(in_features=768, out_features=768, bias=True)\n",
       "              (LayerNorm): LayerNorm((768,), eps=1e-12, elementwise_affine=True)\n",
       "              (dropout): Dropout(p=0.1, inplace=False)\n",
       "            )\n",
       "          )\n",
       "          (intermediate): BertIntermediate(\n",
       "            (dense): Linear(in_features=768, out_features=3072, bias=True)\n",
       "            (intermediate_act_fn): GELUActivation()\n",
       "          )\n",
       "          (output): BertOutput(\n",
       "            (dense): Linear(in_features=3072, out_features=768, bias=True)\n",
       "            (LayerNorm): LayerNorm((768,), eps=1e-12, elementwise_affine=True)\n",
       "            (dropout): Dropout(p=0.1, inplace=False)\n",
       "          )\n",
       "        )\n",
       "      )\n",
       "    )\n",
       "    (pooler): BertPooler(\n",
       "      (dense): Linear(in_features=768, out_features=768, bias=True)\n",
       "      (activation): Tanh()\n",
       "    )\n",
       "  )\n",
       "  (dropout): Dropout(p=0.1, inplace=False)\n",
       "  (classifier): Linear(in_features=768, out_features=5, bias=True)\n",
       ")"
      ]
     },
     "execution_count": 77,
     "metadata": {},
     "output_type": "execute_result"
    }
   ],
   "source": [
    "tokenizer = AutoTokenizer.from_pretrained(\"../models/bert\")\n",
    "model = AutoModelForSequenceClassification.from_pretrained(\"../models/bert\")\n",
    "model.to(device)\n",
    "model.eval()"
   ]
  },
  {
   "cell_type": "code",
   "execution_count": 78,
   "id": "f98dd0c6",
   "metadata": {},
   "outputs": [
    {
     "data": {
      "text/plain": [
       "{0: 'Critical', 1: 'High', 2: 'Medium', 3: 'Low', 4: 'Trivial'}"
      ]
     },
     "execution_count": 78,
     "metadata": {},
     "output_type": "execute_result"
    }
   ],
   "source": [
    "with open(\"../models/bert/label_map.json\", \"r\") as f:\n",
    "  label_map = json.load(f)\n",
    "\n",
    "label_map = {int(k): v for k, v in label_map.items()}\n",
    "label_map"
   ]
  },
  {
   "cell_type": "code",
   "execution_count": 79,
   "id": "66298f04",
   "metadata": {},
   "outputs": [],
   "source": [
    "batch_size = 16\n",
    "all_preds = []\n",
    "\n",
    "for i in range(0, len(test_df), batch_size):\n",
    "  batch_texts = test_df[\"Text\"].iloc[i:i + batch_size].tolist()\n",
    "  \n",
    "  inputs = tokenizer(\n",
    "    batch_texts,\n",
    "    truncation=True,\n",
    "    max_length=296,\n",
    "    padding=True,\n",
    "    return_tensors=\"pt\"\n",
    "  )\n",
    "\n",
    "  inputs = {k: v.to(device) for k, v in inputs.items()}\n",
    "  \n",
    "  with torch.no_grad():\n",
    "    outputs = model(**inputs)\n",
    "    logits = outputs.logits\n",
    "    probs = torch.nn.functional.softmax(logits, dim=-1)\n",
    "    preds = probs.argmax(dim=-1).cpu().numpy()\n",
    "    all_preds.extend(preds)\n",
    "  \n",
    "test_df[\"Predicted_Priority\"] = [label_map[i] for i in all_preds]"
   ]
  },
  {
   "cell_type": "code",
   "execution_count": 80,
   "id": "530c157c",
   "metadata": {},
   "outputs": [],
   "source": [
    "test_df.to_csv(\"../../data/processed/text_predictions.csv\", index=False)"
   ]
  },
  {
   "cell_type": "code",
   "execution_count": null,
   "id": "66fd1789",
   "metadata": {},
   "outputs": [],
   "source": []
  }
 ],
 "metadata": {
  "kernelspec": {
   "display_name": "bug-triage-env",
   "language": "python",
   "name": "python3"
  },
  "language_info": {
   "codemirror_mode": {
    "name": "ipython",
    "version": 3
   },
   "file_extension": ".py",
   "mimetype": "text/x-python",
   "name": "python",
   "nbconvert_exporter": "python",
   "pygments_lexer": "ipython3",
   "version": "3.11.13"
  }
 },
 "nbformat": 4,
 "nbformat_minor": 5
}

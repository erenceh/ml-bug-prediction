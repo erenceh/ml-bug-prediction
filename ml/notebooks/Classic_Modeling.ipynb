{
 "cells": [
  {
   "cell_type": "markdown",
   "id": "29e45e4e",
   "metadata": {},
   "source": [
    "# Baseline Modeling\n",
    "\n",
    "## Objective\n",
    "In this notebook, we build and evaluate a baseline text classification model for predicting bug priority levels (`Critical`, `High`, `Medium`, `Low`) from issue text.\n",
    "\n",
    "## Notebook Goals\n",
    "1. Load the preprocessed data and TF-IDF features.\n",
    "2. Train a baseline text classification model.\n",
    "    - Naive Bayes\n",
    "    - Logistic Regression\n",
    "    - Random Forest Classifier\n",
    "3. Evaluate performance.\n",
    "    - Confusion matrix\n",
    "    - Precision\n",
    "    - Recall\n",
    "    - F1-score\n",
    "    - Classification report\n",
    "4. Identify areas for improvement for future models.\n",
    "5. Perform hyperparameter tuning with GridSearchCV or RandomizedSearchCV"
   ]
  },
  {
   "cell_type": "code",
   "execution_count": 1,
   "id": "d71f1c35",
   "metadata": {},
   "outputs": [],
   "source": [
    "# Standard data libraries\n",
    "import pandas as pd\n",
    "import numpy as np\n",
    "\n",
    "# Visualization\n",
    "import matplotlib.pyplot as plt\n",
    "import seaborn as sns\n",
    "\n",
    "# Machine Learning\n",
    "from sklearn.ensemble import RandomForestClassifier\n",
    "from xgboost import XGBClassifier\n",
    "from lightgbm import LGBMClassifier\n",
    "\n",
    "# Evaluation Metrics\n",
    "from sklearn.metrics import (\n",
    "  confusion_matrix,\n",
    "  ConfusionMatrixDisplay,\n",
    "  precision_score,\n",
    "  accuracy_score,\n",
    "  recall_score,\n",
    "  f1_score,\n",
    "  classification_report\n",
    ")\n",
    "\n",
    "# Hyperparameter tuning\n",
    "from sklearn.model_selection import train_test_split, GridSearchCV, RandomizedSearchCV\n",
    "from scipy.stats import uniform\n",
    "\n",
    "# Utilities\n",
    "import joblib\n",
    "from sklearn.pipeline import Pipeline\n",
    "from sklearn.feature_extraction.text import TfidfVectorizer\n",
    "from sklearn.preprocessing import LabelEncoder\n",
    "from sklearn.utils.class_weight import compute_class_weight\n",
    "from imblearn.over_sampling import SMOTE\n"
   ]
  },
  {
   "cell_type": "markdown",
   "id": "adfeab55",
   "metadata": {},
   "source": [
    "## Load Preprocessed Data and TF-IDF Features"
   ]
  },
  {
   "cell_type": "code",
   "execution_count": 2,
   "id": "53566098",
   "metadata": {},
   "outputs": [],
   "source": [
    "processed_train_df = joblib.load(\"../../data/processed/processed_ISEC_train_df.joblib\")\n",
    "processed_test_df = joblib.load(\"../../data/processed/processed_ISEC_test_df.joblib\")"
   ]
  },
  {
   "cell_type": "code",
   "execution_count": 3,
   "id": "5ef9a5d3",
   "metadata": {},
   "outputs": [
    {
     "data": {
      "text/html": [
       "<div>\n",
       "<style scoped>\n",
       "    .dataframe tbody tr th:only-of-type {\n",
       "        vertical-align: middle;\n",
       "    }\n",
       "\n",
       "    .dataframe tbody tr th {\n",
       "        vertical-align: top;\n",
       "    }\n",
       "\n",
       "    .dataframe thead th {\n",
       "        text-align: right;\n",
       "    }\n",
       "</style>\n",
       "<table border=\"1\" class=\"dataframe\">\n",
       "  <thead>\n",
       "    <tr style=\"text-align: right;\">\n",
       "      <th></th>\n",
       "      <th>Issue_id</th>\n",
       "      <th>Component</th>\n",
       "      <th>Title</th>\n",
       "      <th>Description</th>\n",
       "      <th>Status</th>\n",
       "      <th>Resolution</th>\n",
       "      <th>Priority</th>\n",
       "      <th>Cleaned_Text</th>\n",
       "    </tr>\n",
       "  </thead>\n",
       "  <tbody>\n",
       "    <tr>\n",
       "      <th>0</th>\n",
       "      <td>1700</td>\n",
       "      <td>Layout</td>\n",
       "      <td>font size 9px rounded down to 8px {font} {ll}</td>\n",
       "      <td>There is a piece of code in the Windows GFX th...</td>\n",
       "      <td>VERIFIED</td>\n",
       "      <td>FIXED</td>\n",
       "      <td>0</td>\n",
       "      <td>font size rounded font piece code window gfx r...</td>\n",
       "    </tr>\n",
       "    <tr>\n",
       "      <th>1</th>\n",
       "      <td>7991</td>\n",
       "      <td>Plug-ins</td>\n",
       "      <td>Land OOP plugins in mozilla-central (preffed off)</td>\n",
       "      <td>We need to land OOP plugins in mozilla-central...</td>\n",
       "      <td>RESOLVED</td>\n",
       "      <td>FIXED</td>\n",
       "      <td>0</td>\n",
       "      <td>land oop plugins mozilla central preffed need ...</td>\n",
       "    </tr>\n",
       "    <tr>\n",
       "      <th>2</th>\n",
       "      <td>1150</td>\n",
       "      <td>XPCOM</td>\n",
       "      <td>XP-COM Proxy code crashes when trying to AutoP...</td>\n",
       "      <td>(This bug imported from BugSplat; Netscapes in...</td>\n",
       "      <td>VERIFIED</td>\n",
       "      <td>FIXED</td>\n",
       "      <td>0</td>\n",
       "      <td>com proxy code crash trying autoproxy paramete...</td>\n",
       "    </tr>\n",
       "    <tr>\n",
       "      <th>3</th>\n",
       "      <td>6143</td>\n",
       "      <td>XUL</td>\n",
       "      <td>crash setting display:none on grid rows [@ nsG...</td>\n",
       "      <td>User-Agent:       Mozilla/5.0 (Windows; U; Win...</td>\n",
       "      <td>VERIFIED</td>\n",
       "      <td>FIXED</td>\n",
       "      <td>0</td>\n",
       "      <td>crash setting display none grid row nsgrid get...</td>\n",
       "    </tr>\n",
       "    <tr>\n",
       "      <th>4</th>\n",
       "      <td>5952</td>\n",
       "      <td>Networking: Cache</td>\n",
       "      <td>limit the memory cache to a reasonable value</td>\n",
       "      <td>I have 1GB of RAM; so Im using 31MB of memory ...</td>\n",
       "      <td>VERIFIED</td>\n",
       "      <td>FIXED</td>\n",
       "      <td>0</td>\n",
       "      <td>limit memory cache reasonable value ram using ...</td>\n",
       "    </tr>\n",
       "  </tbody>\n",
       "</table>\n",
       "</div>"
      ],
      "text/plain": [
       "   Issue_id          Component  \\\n",
       "0      1700             Layout   \n",
       "1      7991           Plug-ins   \n",
       "2      1150              XPCOM   \n",
       "3      6143                XUL   \n",
       "4      5952  Networking: Cache   \n",
       "\n",
       "                                               Title  \\\n",
       "0      font size 9px rounded down to 8px {font} {ll}   \n",
       "1  Land OOP plugins in mozilla-central (preffed off)   \n",
       "2  XP-COM Proxy code crashes when trying to AutoP...   \n",
       "3  crash setting display:none on grid rows [@ nsG...   \n",
       "4       limit the memory cache to a reasonable value   \n",
       "\n",
       "                                         Description    Status Resolution  \\\n",
       "0  There is a piece of code in the Windows GFX th...  VERIFIED      FIXED   \n",
       "1  We need to land OOP plugins in mozilla-central...  RESOLVED      FIXED   \n",
       "2  (This bug imported from BugSplat; Netscapes in...  VERIFIED      FIXED   \n",
       "3  User-Agent:       Mozilla/5.0 (Windows; U; Win...  VERIFIED      FIXED   \n",
       "4  I have 1GB of RAM; so Im using 31MB of memory ...  VERIFIED      FIXED   \n",
       "\n",
       "   Priority                                       Cleaned_Text  \n",
       "0         0  font size rounded font piece code window gfx r...  \n",
       "1         0  land oop plugins mozilla central preffed need ...  \n",
       "2         0  com proxy code crash trying autoproxy paramete...  \n",
       "3         0  crash setting display none grid row nsgrid get...  \n",
       "4         0  limit memory cache reasonable value ram using ...  "
      ]
     },
     "execution_count": 3,
     "metadata": {},
     "output_type": "execute_result"
    }
   ],
   "source": [
    "processed_train_df.head()"
   ]
  },
  {
   "cell_type": "code",
   "execution_count": 4,
   "id": "208a0374",
   "metadata": {},
   "outputs": [
    {
     "data": {
      "text/html": [
       "<div>\n",
       "<style scoped>\n",
       "    .dataframe tbody tr th:only-of-type {\n",
       "        vertical-align: middle;\n",
       "    }\n",
       "\n",
       "    .dataframe tbody tr th {\n",
       "        vertical-align: top;\n",
       "    }\n",
       "\n",
       "    .dataframe thead th {\n",
       "        text-align: right;\n",
       "    }\n",
       "</style>\n",
       "<table border=\"1\" class=\"dataframe\">\n",
       "  <thead>\n",
       "    <tr style=\"text-align: right;\">\n",
       "      <th></th>\n",
       "      <th>Issue_id</th>\n",
       "      <th>Component</th>\n",
       "      <th>Title</th>\n",
       "      <th>Description</th>\n",
       "      <th>Status</th>\n",
       "      <th>Resolution</th>\n",
       "      <th>Cleaned_Text</th>\n",
       "    </tr>\n",
       "  </thead>\n",
       "  <tbody>\n",
       "    <tr>\n",
       "      <th>0</th>\n",
       "      <td>6578</td>\n",
       "      <td>JavaScript Engine</td>\n",
       "      <td>Finalize yield syntax to match ES4/JS2 proposal</td>\n",
       "      <td>This tracks Python 2.5.  Currently we allow; ;...</td>\n",
       "      <td>VERIFIED</td>\n",
       "      <td>FIXED</td>\n",
       "      <td>finalize yield syntax match proposal track pyt...</td>\n",
       "    </tr>\n",
       "    <tr>\n",
       "      <th>1</th>\n",
       "      <td>8050</td>\n",
       "      <td>Networking: Cache</td>\n",
       "      <td>e10s HTTP: offline application cache</td>\n",
       "      <td>I actually know very little about how applicat...</td>\n",
       "      <td>RESOLVED</td>\n",
       "      <td>FIXED</td>\n",
       "      <td>offline application cache actually know little...</td>\n",
       "    </tr>\n",
       "    <tr>\n",
       "      <th>2</th>\n",
       "      <td>5281</td>\n",
       "      <td>DOM: Core &amp; HTML</td>\n",
       "      <td>[FIX]Add GetOwnerDocument on nsIContent or nsG...</td>\n",
       "      <td>See comments in bug 211440; the idea is to add...</td>\n",
       "      <td>RESOLVED</td>\n",
       "      <td>FIXED</td>\n",
       "      <td>fix add getownerdocument nsicontent nsgenerice...</td>\n",
       "    </tr>\n",
       "    <tr>\n",
       "      <th>3</th>\n",
       "      <td>7871</td>\n",
       "      <td>Layout: View Rendering</td>\n",
       "      <td>Text editing broken in Firebug edit mode and o...</td>\n",
       "      <td>Getting reports that editing is broken in Fire...</td>\n",
       "      <td>VERIFIED</td>\n",
       "      <td>FIXED</td>\n",
       "      <td>text editing broken firebug edit mode extensio...</td>\n",
       "    </tr>\n",
       "    <tr>\n",
       "      <th>4</th>\n",
       "      <td>2411</td>\n",
       "      <td>Plug-ins</td>\n",
       "      <td>shockwave movies redraw improperly on mac(nsbe...</td>\n",
       "      <td>From Bugzilla Helper:; User-Agent: Mozilla/4.7...</td>\n",
       "      <td>VERIFIED</td>\n",
       "      <td>DUPLICATE</td>\n",
       "      <td>shockwave movie redraw improperly mac nsbeta r...</td>\n",
       "    </tr>\n",
       "  </tbody>\n",
       "</table>\n",
       "</div>"
      ],
      "text/plain": [
       "   Issue_id               Component  \\\n",
       "0      6578       JavaScript Engine   \n",
       "1      8050       Networking: Cache   \n",
       "2      5281        DOM: Core & HTML   \n",
       "3      7871  Layout: View Rendering   \n",
       "4      2411                Plug-ins   \n",
       "\n",
       "                                               Title  \\\n",
       "0    Finalize yield syntax to match ES4/JS2 proposal   \n",
       "1               e10s HTTP: offline application cache   \n",
       "2  [FIX]Add GetOwnerDocument on nsIContent or nsG...   \n",
       "3  Text editing broken in Firebug edit mode and o...   \n",
       "4  shockwave movies redraw improperly on mac(nsbe...   \n",
       "\n",
       "                                         Description    Status Resolution  \\\n",
       "0  This tracks Python 2.5.  Currently we allow; ;...  VERIFIED      FIXED   \n",
       "1  I actually know very little about how applicat...  RESOLVED      FIXED   \n",
       "2  See comments in bug 211440; the idea is to add...  RESOLVED      FIXED   \n",
       "3  Getting reports that editing is broken in Fire...  VERIFIED      FIXED   \n",
       "4  From Bugzilla Helper:; User-Agent: Mozilla/4.7...  VERIFIED  DUPLICATE   \n",
       "\n",
       "                                        Cleaned_Text  \n",
       "0  finalize yield syntax match proposal track pyt...  \n",
       "1  offline application cache actually know little...  \n",
       "2  fix add getownerdocument nsicontent nsgenerice...  \n",
       "3  text editing broken firebug edit mode extensio...  \n",
       "4  shockwave movie redraw improperly mac nsbeta r...  "
      ]
     },
     "execution_count": 4,
     "metadata": {},
     "output_type": "execute_result"
    }
   ],
   "source": [
    "processed_test_df.head()"
   ]
  },
  {
   "cell_type": "code",
   "execution_count": 5,
   "id": "f4f971a3",
   "metadata": {},
   "outputs": [
    {
     "name": "stdout",
     "output_type": "stream",
     "text": [
      "X_train shape: (42213,)\n",
      "X_val shape: (10554,)\n",
      "y_train shape: (42213,)\n",
      "y_val shape: (10554,)\n"
     ]
    }
   ],
   "source": [
    "X = processed_train_df[\"Cleaned_Text\"]\n",
    "y = processed_train_df[\"Priority\"]\n",
    "\n",
    "# Split data into train and test sets\n",
    "X_train, X_val, y_train, y_val = train_test_split(X,\n",
    "                                                  y,\n",
    "                                                  test_size=0.2,\n",
    "                                                  random_state=42,\n",
    "                                                  stratify=y)\n",
    "\n",
    "print(\"X_train shape:\", X_train.shape)\n",
    "print(\"X_val shape:\", X_val.shape)\n",
    "print(\"y_train shape:\", y_train.shape)\n",
    "print(\"y_val shape:\", y_val.shape)"
   ]
  },
  {
   "cell_type": "code",
   "execution_count": null,
   "id": "2988fada",
   "metadata": {},
   "outputs": [],
   "source": [
    "# Initialize TF-IDF vectorizer\n",
    "tfidf = TfidfVectorizer(\n",
    "  sublinear_tf=True,\n",
    "  ngram_range=(1, 2),\n",
    "  max_df=0.9,\n",
    "  min_df=5\n",
    ")\n",
    "\n",
    "# tfidf = TfidfVectorizer(\n",
    "#   max_features=10000,\n",
    "#   ngram_range=(1, 2),\n",
    "#   max_df=0.9,\n",
    "#   min_df=5\n",
    "# )\n",
    "\n",
    "X_train_tfidf = tfidf.fit_transform(X_train)\n",
    "X_val_tfidf = tfidf.transform(X_val)"
   ]
  },
  {
   "cell_type": "code",
   "execution_count": 7,
   "id": "07da42cb",
   "metadata": {},
   "outputs": [
    {
     "name": "stdout",
     "output_type": "stream",
     "text": [
      "Shape of TF-IDF (train):  (42213, 10000)\n",
      "Shape of TF-IDF (Validation):  (10554, 10000)\n"
     ]
    }
   ],
   "source": [
    "print(\"Shape of TF-IDF (train): \", X_train_tfidf.shape)\n",
    "print(\"Shape of TF-IDF (Validation): \", X_val_tfidf.shape)"
   ]
  },
  {
   "cell_type": "code",
   "execution_count": 8,
   "id": "2fbc5a44",
   "metadata": {},
   "outputs": [
    {
     "data": {
      "text/plain": [
       "(Priority\n",
       " 2    24755\n",
       " 1     7524\n",
       " 0     7152\n",
       " 3     1829\n",
       " 4      953\n",
       " Name: count, dtype: int64,\n",
       " Priority\n",
       " 2    6189\n",
       " 1    1881\n",
       " 0    1789\n",
       " 3     457\n",
       " 4     238\n",
       " Name: count, dtype: int64)"
      ]
     },
     "execution_count": 8,
     "metadata": {},
     "output_type": "execute_result"
    }
   ],
   "source": [
    "y_train.value_counts(), y_val.value_counts()"
   ]
  },
  {
   "cell_type": "code",
   "execution_count": 9,
   "id": "cd6e7338",
   "metadata": {},
   "outputs": [],
   "source": [
    "# Check how many samples per class in training and validation sets\n",
    "train_counts = y_train.value_counts()\n",
    "val_counts = y_val.value_counts()\n",
    "\n",
    "# Get total samples in each split\n",
    "train_total = len(y_train)\n",
    "val_total = len(y_val)\n",
    "\n",
    "# Convert counts to relative frequencies\n",
    "train_percentages = round((train_counts / train_total) * 100, 1)\n",
    "val_percentages = round((val_counts / val_total) * 100, 1)"
   ]
  },
  {
   "cell_type": "code",
   "execution_count": 10,
   "id": "6821bc9d",
   "metadata": {},
   "outputs": [
    {
     "data": {
      "text/html": [
       "<div>\n",
       "<style scoped>\n",
       "    .dataframe tbody tr th:only-of-type {\n",
       "        vertical-align: middle;\n",
       "    }\n",
       "\n",
       "    .dataframe tbody tr th {\n",
       "        vertical-align: top;\n",
       "    }\n",
       "\n",
       "    .dataframe thead th {\n",
       "        text-align: right;\n",
       "    }\n",
       "</style>\n",
       "<table border=\"1\" class=\"dataframe\">\n",
       "  <thead>\n",
       "    <tr style=\"text-align: right;\">\n",
       "      <th></th>\n",
       "      <th>Train %</th>\n",
       "      <th>Validation %</th>\n",
       "    </tr>\n",
       "    <tr>\n",
       "      <th>Priority</th>\n",
       "      <th></th>\n",
       "      <th></th>\n",
       "    </tr>\n",
       "  </thead>\n",
       "  <tbody>\n",
       "    <tr>\n",
       "      <th>2</th>\n",
       "      <td>58.6</td>\n",
       "      <td>58.6</td>\n",
       "    </tr>\n",
       "    <tr>\n",
       "      <th>1</th>\n",
       "      <td>17.8</td>\n",
       "      <td>17.8</td>\n",
       "    </tr>\n",
       "    <tr>\n",
       "      <th>0</th>\n",
       "      <td>16.9</td>\n",
       "      <td>17.0</td>\n",
       "    </tr>\n",
       "    <tr>\n",
       "      <th>3</th>\n",
       "      <td>4.3</td>\n",
       "      <td>4.3</td>\n",
       "    </tr>\n",
       "    <tr>\n",
       "      <th>4</th>\n",
       "      <td>2.3</td>\n",
       "      <td>2.3</td>\n",
       "    </tr>\n",
       "  </tbody>\n",
       "</table>\n",
       "</div>"
      ],
      "text/plain": [
       "          Train %  Validation %\n",
       "Priority                       \n",
       "2            58.6          58.6\n",
       "1            17.8          17.8\n",
       "0            16.9          17.0\n",
       "3             4.3           4.3\n",
       "4             2.3           2.3"
      ]
     },
     "execution_count": 10,
     "metadata": {},
     "output_type": "execute_result"
    }
   ],
   "source": [
    "# Compare distribution\n",
    "comparison_table = pd.DataFrame({\n",
    "  \"Train %\": train_percentages,\n",
    "  \"Validation %\": val_percentages\n",
    "})\n",
    "comparison_table"
   ]
  },
  {
   "cell_type": "markdown",
   "id": "b1fc6680",
   "metadata": {},
   "source": [
    "## Apply SMOTE to Balance the Classes"
   ]
  },
  {
   "cell_type": "code",
   "execution_count": 11,
   "id": "b94e2f30",
   "metadata": {},
   "outputs": [
    {
     "name": "stdout",
     "output_type": "stream",
     "text": [
      "Before SMOTE:  [ 7152  7524 24755  1829   953]\n"
     ]
    }
   ],
   "source": [
    "print(\"Before SMOTE: \", np.bincount(y_train))"
   ]
  },
  {
   "cell_type": "code",
   "execution_count": 12,
   "id": "cd427878",
   "metadata": {},
   "outputs": [],
   "source": [
    "smote = SMOTE(random_state=42)\n",
    "X_train_tfidf_resampled, y_train_resampled = smote.fit_resample(X_train_tfidf, y_train)"
   ]
  },
  {
   "cell_type": "code",
   "execution_count": 13,
   "id": "7b567cab",
   "metadata": {},
   "outputs": [
    {
     "name": "stdout",
     "output_type": "stream",
     "text": [
      "After SMOTE:  [24755 24755 24755 24755 24755]\n"
     ]
    }
   ],
   "source": [
    "print(\"After SMOTE: \", np.bincount(y_train_resampled))"
   ]
  },
  {
   "cell_type": "markdown",
   "id": "9aa65b45",
   "metadata": {},
   "source": [
    "## Train Baseline Models\n",
    "\n",
    "- Naive Bayes\n",
    "- Logistic Regression\n",
    "- Random Forest Classifier"
   ]
  },
  {
   "cell_type": "code",
   "execution_count": null,
   "id": "db0ba779",
   "metadata": {},
   "outputs": [],
   "source": [
    "# Put models in a dictionary\n",
    "models = {\n",
    "  \"Random Forest Classifier\": RandomForestClassifier(\n",
    "    n_estimators=300,\n",
    "    class_weight=\"balanced_subsample\",\n",
    "    random_state=42,\n",
    "    n_jobs=-1\n",
    "  ),\n",
    "  \"XGBoost\": XGBClassifier(\n",
    "    n_estimators=300,\n",
    "    learning_rate=0.1,\n",
    "    max_depth=8,\n",
    "    subsample=0.8,\n",
    "    colsample_bytree=0.8,\n",
    "    objective=\"multi:softmax\",\n",
    "    num_class=len(np.unique(y_train_resampled)),\n",
    "    random_state=42,\n",
    "    n_jobs=-1\n",
    "  ),\n",
    "  \"LightGBM\": LGBMClassifier(\n",
    "    n_estimators=300,\n",
    "    learning_rate=0.1,\n",
    "    max_depth=-1,  # No limit\n",
    "    subsample=0.8,\n",
    "    colsample_bytree=0.8,\n",
    "    class_weight=\"balanced\",\n",
    "    random_state=42,\n",
    "    n_jobs=-1\n",
    "  )\n",
    "}\n"
   ]
  },
  {
   "cell_type": "code",
   "execution_count": 15,
   "id": "93124997",
   "metadata": {},
   "outputs": [],
   "source": [
    "# Create a function to fit and score models\n",
    "def fit_and_score(models, X_train_tfidf, X_val_tfidf, y_train, y_val):\n",
    "  \"\"\"\n",
    "  Fit machine learning models on training data and evaluate their accuracy on test data.\n",
    "\n",
    "  Args:\n",
    "      models (dict): A dictionary of model name strings to instantiated model objects.\n",
    "      X_train_tfidf (array-like or sparse matrix): Training feature matrix.\n",
    "      X_val_tfidf (array-like or sparse matrix): Validation feature matrix.\n",
    "      y_train (array-like): Training labels.\n",
    "      y_val (array-like): Validation labels.\n",
    "\n",
    "  Returns:\n",
    "      dict: A dictionary mapping model names to their accuracy scores on the test set.\n",
    "  \"\"\"\n",
    "  model_scores = {}\n",
    "  \n",
    "  for name, model in models.items():\n",
    "    model.fit(X_train_tfidf, y_train)\n",
    "    model_scores[name] = model.score(X_val_tfidf, y_val)\n",
    "  \n",
    "  return model_scores"
   ]
  },
  {
   "cell_type": "code",
   "execution_count": 16,
   "id": "55374888",
   "metadata": {},
   "outputs": [
    {
     "name": "stdout",
     "output_type": "stream",
     "text": [
      "[LightGBM] [Info] Auto-choosing row-wise multi-threading, the overhead of testing was 1.044174 seconds.\n",
      "You can set `force_row_wise=true` to remove the overhead.\n",
      "And if memory is not enough, you can set `force_col_wise=true`.\n",
      "[LightGBM] [Info] Total Bins 1241546\n",
      "[LightGBM] [Info] Number of data points in the train set: 123775, number of used features: 9872\n",
      "[LightGBM] [Info] Start training from score -1.609438\n",
      "[LightGBM] [Info] Start training from score -1.609438\n",
      "[LightGBM] [Info] Start training from score -1.609438\n",
      "[LightGBM] [Info] Start training from score -1.609438\n",
      "[LightGBM] [Info] Start training from score -1.609438\n"
     ]
    },
    {
     "name": "stderr",
     "output_type": "stream",
     "text": [
      "c:\\Users\\rusty\\miniconda3\\envs\\bug-triage-env\\Lib\\site-packages\\sklearn\\utils\\validation.py:2749: UserWarning: X does not have valid feature names, but LGBMClassifier was fitted with feature names\n",
      "  warnings.warn(\n"
     ]
    },
    {
     "data": {
      "text/plain": [
       "{'Random Forest Classifier': 0.6159749857873792,\n",
       " 'XGBoost': 0.6014781125639568,\n",
       " 'LightGBM': 0.6023308698123934}"
      ]
     },
     "execution_count": 16,
     "metadata": {},
     "output_type": "execute_result"
    }
   ],
   "source": [
    "model_scores = fit_and_score(models=models,\n",
    "                              X_train_tfidf=X_train_tfidf_resampled,\n",
    "                              X_val_tfidf=X_val_tfidf,\n",
    "                              y_train=y_train_resampled,\n",
    "                              y_val=y_val)\n",
    "\n",
    "model_scores"
   ]
  },
  {
   "cell_type": "code",
   "execution_count": 17,
   "id": "63d2c13f",
   "metadata": {},
   "outputs": [
    {
     "data": {
      "text/plain": [
       "<Axes: >"
      ]
     },
     "execution_count": 17,
     "metadata": {},
     "output_type": "execute_result"
    },
    {
     "data": {
      "image/png": "[encoded data removed]",
      "text/plain": [
       "<Figure size 640x480 with 1 Axes>"
      ]
     },
     "metadata": {},
     "output_type": "display_data"
    }
   ],
   "source": [
    "model_compare = pd.DataFrame(model_scores, index=[\"accuracy\"])\n",
    "model_compare.T.plot.bar()"
   ]
  },
  {
   "cell_type": "markdown",
   "id": "18949dac",
   "metadata": {},
   "source": [
    "## Evaluate performance\n",
    "\n",
    "- Confusion matrix\n",
    "- Precision\n",
    "- Recall\n",
    "- F1-score\n",
    "- Classification report\n",
    "\n",
    "(Optional)\n",
    "- Accuracy\n",
    "- Cross-validation\n",
    "- Feature importance"
   ]
  },
  {
   "cell_type": "code",
   "execution_count": 22,
   "id": "3e35346f",
   "metadata": {},
   "outputs": [],
   "source": [
    "def evalute_models(models, X_train, X_val, y_train, y_val):\n",
    "  \"\"\"\n",
    "  Evaluate multiple classification models on test data.\n",
    "\n",
    "  Args:\n",
    "      models (dict): Dictionary of trained models {name: model}.\n",
    "      X_test: Test features.\n",
    "      y_test: True labels.\n",
    "      plot_cm (bool, optional): Whether to display confusion matrices. Defaults to True.\n",
    "      \n",
    "  Returns:\n",
    "    eval_df (DataFrame): Metrics for all models, sorted by weighted F1-score.\n",
    "  \"\"\"\n",
    "  eval_results = []\n",
    "  \n",
    "  for name, model in models.items():\n",
    "    y_pred = model.predict(X_val)\n",
    "\n",
    "    accuracy = accuracy_score(y_val, y_pred)\n",
    "    precision = precision_score(y_val, y_pred, average='weighted')\n",
    "    recall = recall_score(y_val, y_pred, average='weighted')\n",
    "    f1_macro = f1_score(y_val, y_pred, average='macro')\n",
    "    f1_weighted = f1_score(y_val, y_pred, average='weighted')\n",
    "    \n",
    "    eval_results.append({\n",
    "      \"model\": name,\n",
    "      \"accuracy\": accuracy,\n",
    "      \"precision\": precision,\n",
    "      \"recall\": recall,\n",
    "      \"f1 macro\": f1_macro,\n",
    "      \"f1 weighted\": f1_weighted\n",
    "    })\n",
    "    \n",
    "    print(f\"{name}: Accuracy={accuracy:.3f}, F1 Macro={f1_macro:.3f}, F1 Weighted={f1_weighted:.3f}\")\n",
    "    print(classification_report(y_val, y_pred))\n",
    "    \n",
    "  eval_df = pd.DataFrame(eval_results).sort_values(by=\"f1 macro\", ascending=False)\n",
    "  return eval_df"
   ]
  },
  {
   "cell_type": "code",
   "execution_count": 23,
   "id": "853bce12",
   "metadata": {},
   "outputs": [
    {
     "name": "stdout",
     "output_type": "stream",
     "text": [
      "Random Forest Classifier: Accuracy=0.616, F1 Macro=0.316, F1 Weighted=0.565\n",
      "              precision    recall  f1-score   support\n",
      "\n",
      "           0       0.45      0.32      0.37      1789\n",
      "           1       0.38      0.19      0.26      1881\n",
      "           2       0.68      0.89      0.77      6189\n",
      "           3       0.13      0.02      0.04       457\n",
      "           4       0.34      0.09      0.14       238\n",
      "\n",
      "    accuracy                           0.62     10554\n",
      "   macro avg       0.40      0.30      0.32     10554\n",
      "weighted avg       0.55      0.62      0.57     10554\n",
      "\n",
      "XGBoost: Accuracy=0.601, F1 Macro=0.349, F1 Weighted=0.571\n",
      "              precision    recall  f1-score   support\n",
      "\n",
      "           0       0.43      0.37      0.40      1789\n",
      "           1       0.38      0.21      0.27      1881\n",
      "           2       0.69      0.84      0.76      6189\n",
      "           3       0.16      0.11      0.13       457\n",
      "           4       0.25      0.15      0.19       238\n",
      "\n",
      "    accuracy                           0.60     10554\n",
      "   macro avg       0.38      0.34      0.35     10554\n",
      "weighted avg       0.56      0.60      0.57     10554\n",
      "\n"
     ]
    },
    {
     "name": "stderr",
     "output_type": "stream",
     "text": [
      "c:\\Users\\rusty\\miniconda3\\envs\\bug-triage-env\\Lib\\site-packages\\sklearn\\utils\\validation.py:2749: UserWarning: X does not have valid feature names, but LGBMClassifier was fitted with feature names\n",
      "  warnings.warn(\n"
     ]
    },
    {
     "name": "stdout",
     "output_type": "stream",
     "text": [
      "LightGBM: Accuracy=0.602, F1 Macro=0.365, F1 Weighted=0.582\n",
      "              precision    recall  f1-score   support\n",
      "\n",
      "           0       0.43      0.40      0.42      1789\n",
      "           1       0.37      0.26      0.31      1881\n",
      "           2       0.71      0.82      0.76      6189\n",
      "           3       0.19      0.14      0.16       457\n",
      "           4       0.26      0.14      0.18       238\n",
      "\n",
      "    accuracy                           0.60     10554\n",
      "   macro avg       0.39      0.35      0.37     10554\n",
      "weighted avg       0.57      0.60      0.58     10554\n",
      "\n"
     ]
    }
   ],
   "source": [
    "eval_df = evalute_models(\n",
    "  models=models,\n",
    "  X_train=X_train_tfidf_resampled,\n",
    "  X_val=X_val_tfidf,\n",
    "  y_train=y_train_resampled,\n",
    "  y_val=y_val\n",
    ")"
   ]
  },
  {
   "cell_type": "code",
   "execution_count": 24,
   "id": "5c24a34b",
   "metadata": {},
   "outputs": [
    {
     "data": {
      "text/html": [
       "<div>\n",
       "<style scoped>\n",
       "    .dataframe tbody tr th:only-of-type {\n",
       "        vertical-align: middle;\n",
       "    }\n",
       "\n",
       "    .dataframe tbody tr th {\n",
       "        vertical-align: top;\n",
       "    }\n",
       "\n",
       "    .dataframe thead th {\n",
       "        text-align: right;\n",
       "    }\n",
       "</style>\n",
       "<table border=\"1\" class=\"dataframe\">\n",
       "  <thead>\n",
       "    <tr style=\"text-align: right;\">\n",
       "      <th></th>\n",
       "      <th>model</th>\n",
       "      <th>accuracy</th>\n",
       "      <th>precision</th>\n",
       "      <th>recall</th>\n",
       "      <th>f1 macro</th>\n",
       "      <th>f1 weighted</th>\n",
       "    </tr>\n",
       "  </thead>\n",
       "  <tbody>\n",
       "    <tr>\n",
       "      <th>2</th>\n",
       "      <td>LightGBM</td>\n",
       "      <td>0.602331</td>\n",
       "      <td>0.570628</td>\n",
       "      <td>0.602331</td>\n",
       "      <td>0.365297</td>\n",
       "      <td>0.582296</td>\n",
       "    </tr>\n",
       "    <tr>\n",
       "      <th>1</th>\n",
       "      <td>XGBoost</td>\n",
       "      <td>0.601478</td>\n",
       "      <td>0.559018</td>\n",
       "      <td>0.601478</td>\n",
       "      <td>0.349238</td>\n",
       "      <td>0.570739</td>\n",
       "    </tr>\n",
       "    <tr>\n",
       "      <th>0</th>\n",
       "      <td>Random Forest Classifier</td>\n",
       "      <td>0.615975</td>\n",
       "      <td>0.553967</td>\n",
       "      <td>0.615975</td>\n",
       "      <td>0.316076</td>\n",
       "      <td>0.565489</td>\n",
       "    </tr>\n",
       "  </tbody>\n",
       "</table>\n",
       "</div>"
      ],
      "text/plain": [
       "                      model  accuracy  precision    recall  f1 macro  \\\n",
       "2                  LightGBM  0.602331   0.570628  0.602331  0.365297   \n",
       "1                   XGBoost  0.601478   0.559018  0.601478  0.349238   \n",
       "0  Random Forest Classifier  0.615975   0.553967  0.615975  0.316076   \n",
       "\n",
       "   f1 weighted  \n",
       "2     0.582296  \n",
       "1     0.570739  \n",
       "0     0.565489  "
      ]
     },
     "metadata": {},
     "output_type": "display_data"
    }
   ],
   "source": [
    "display(eval_df)"
   ]
  },
  {
   "cell_type": "code",
   "execution_count": null,
   "id": "74732aaf",
   "metadata": {},
   "outputs": [],
   "source": [
    "1/0"
   ]
  },
  {
   "cell_type": "markdown",
   "id": "9b0a5e9f",
   "metadata": {},
   "source": [
    "| model |\taccuracy |\tprecision |\trecall |\tf1 macro |\tf1 weighted |\n",
    "| - | - | - | - | - | - |\n",
    "|\tLightGBM |\t0.602331 |\t0.570628 |\t0.602331 |\t0.365297 |\t0.582296 |\n",
    "|\tXGBoost |\t0.601478 |\t0.559018 |\t0.601478 |\t0.349238 |\t0.570739 |\n",
    "|\tRandom Forest Classifier |\t0.615975 |\t0.553967 |\t0.615975 |\t0.316076 |\t0.565489 |"
   ]
  },
  {
   "cell_type": "markdown",
   "id": "b5029d42",
   "metadata": {},
   "source": [
    "## Hyperparameter Tuning with RandomizedSearchCV"
   ]
  },
  {
   "cell_type": "code",
   "execution_count": null,
   "id": "9eb96824",
   "metadata": {},
   "outputs": [],
   "source": [
    "model_scores"
   ]
  },
  {
   "cell_type": "code",
   "execution_count": null,
   "id": "1018777f",
   "metadata": {},
   "outputs": [],
   "source": [
    "# Create a hyperparameter grid for Naive Bayes\n",
    "nb_grid = {\n",
    "  \"alpha\": uniform(0.001, 2.0),\n",
    "  \"fit_prior\": [True, False]\n",
    "}\n",
    "\n",
    "# Tune Naive Bayes\n",
    "rs_nb = RandomizedSearchCV(\n",
    "  MultinomialNB(),\n",
    "  param_distributions=nb_grid,\n",
    "  n_iter=20,\n",
    "  scoring=\"accuracy\",\n",
    "  random_state=42,\n",
    "  verbose=True,\n",
    "  n_jobs=-1\n",
    ")\n",
    "\n",
    "rs_nb.fit(X_train_tfidf, y_train)\n",
    "\n"
   ]
  },
  {
   "cell_type": "code",
   "execution_count": null,
   "id": "72ab97ba",
   "metadata": {},
   "outputs": [],
   "source": [
    "rs_nb.best_params_"
   ]
  },
  {
   "cell_type": "code",
   "execution_count": null,
   "id": "aa73c6f9",
   "metadata": {},
   "outputs": [],
   "source": [
    "rs_nb.score(X_val_tfidf, y_val)"
   ]
  },
  {
   "cell_type": "code",
   "execution_count": null,
   "id": "a5cd1bd3",
   "metadata": {},
   "outputs": [],
   "source": [
    "# Create a hyperparameter grid for Logistic Regression\n",
    "log_reg_grid = {\n",
    "  \"C\": np.logspace(-2, 2, 10),\n",
    "  \"penalty\": ['l2'],\n",
    "  \"solver\": ['lbfgs', 'saga'],\n",
    "  \"max_iter\": [500, 600, 800, 1000]\n",
    "}\n",
    "\n",
    "# Tune Logistic Regression\n",
    "rs_log_reg = RandomizedSearchCV(\n",
    "  LogisticRegression(),\n",
    "  param_distributions=log_reg_grid,\n",
    "  n_iter=20,\n",
    "  scoring=\"accuracy\",\n",
    "  random_state=42,\n",
    "  verbose=True,\n",
    "  n_jobs=-1\n",
    ")\n",
    "\n",
    "rs_log_reg.fit(X_train_tfidf, y_train)"
   ]
  },
  {
   "cell_type": "code",
   "execution_count": null,
   "id": "62787d52",
   "metadata": {},
   "outputs": [],
   "source": [
    "rs_log_reg.best_params_"
   ]
  },
  {
   "cell_type": "code",
   "execution_count": null,
   "id": "5abe7f47",
   "metadata": {},
   "outputs": [],
   "source": [
    "rs_log_reg.score(X_val_tfidf, y_val)"
   ]
  },
  {
   "cell_type": "code",
   "execution_count": null,
   "id": "1acb2272",
   "metadata": {},
   "outputs": [],
   "source": [
    "# Create a hyperparameter grid for Random Forest Classifier\n",
    "rf_grid = {\n",
    "  \"n_estimators\": [100, 200, 500],\n",
    "  \"max_depth\": [None, 20, 30],\n",
    "  \"min_samples_split\": [2, 5, 10],\n",
    "  \"min_samples_leaf\": [1, 2, 4],\n",
    "  \"max_features\": [\"sqrt\", \"log2\"],\n",
    "  \"bootstrap\": [True, False]\n",
    "}\n",
    "\n",
    "# Tune Random Forest Classifier\n",
    "rs_rf = RandomizedSearchCV(\n",
    "  RandomForestClassifier(),\n",
    "  param_distributions=rf_grid,\n",
    "  n_iter=20,\n",
    "  scoring=\"accuracy\",\n",
    "  random_state=42,\n",
    "  verbose=True,\n",
    "  n_jobs=-1\n",
    ")\n",
    "\n",
    "rs_rf.fit(X_train_tfidf, y_train)"
   ]
  },
  {
   "cell_type": "code",
   "execution_count": null,
   "id": "10778f6d",
   "metadata": {},
   "outputs": [],
   "source": [
    "rs_rf.best_params_"
   ]
  },
  {
   "cell_type": "code",
   "execution_count": null,
   "id": "0279dd0d",
   "metadata": {},
   "outputs": [],
   "source": [
    "rs_rf.score(X_val_tfidf, y_val)"
   ]
  },
  {
   "cell_type": "code",
   "execution_count": null,
   "id": "aa0e1fc7",
   "metadata": {},
   "outputs": [],
   "source": [
    "tuned_scores = {\n",
    "  \"Naive Bayes (Tuned)\": rs_nb.score(X_val_tfidf, y_val),\n",
    "  \"Logistic Regression (Tuned)\": rs_log_reg.score(X_val_tfidf, y_val),\n",
    "  \"Random Forest Classifier (Tuned)\": rs_rf.score(X_val_tfidf, y_val)\n",
    "}\n",
    "tuned_scores"
   ]
  },
  {
   "cell_type": "code",
   "execution_count": null,
   "id": "c6232254",
   "metadata": {},
   "outputs": [],
   "source": [
    "tuned_models = {\n",
    "  \"Naive Bayes (Tuned)\": rs_nb,\n",
    "  \"Logistic Regression (Tuned)\": rs_log_reg,\n",
    "  \"Random Forest Classifier (Tuned)\": rs_rf\n",
    "}"
   ]
  },
  {
   "cell_type": "code",
   "execution_count": null,
   "id": "6f35274d",
   "metadata": {},
   "outputs": [],
   "source": [
    "tuned_eval_df = evalute_models(\n",
    "  tuned_models,\n",
    "  X_val_tfidf=X_val_tfidf,\n",
    "  y_val=y_val,\n",
    "  plot_cm=True\n",
    "  )"
   ]
  },
  {
   "cell_type": "code",
   "execution_count": null,
   "id": "e34a1bae",
   "metadata": {},
   "outputs": [],
   "source": [
    "display(tuned_eval_df)"
   ]
  },
  {
   "cell_type": "code",
   "execution_count": null,
   "id": "1353781f",
   "metadata": {},
   "outputs": [],
   "source": [
    "eval_df_baseline = eval_df.copy()\n",
    "eval_df_baseline = eval_df_baseline.drop(columns=['confusion_matrix'])\n",
    "eval_df_baseline[\"Type\"] = \"Baseline\"\n",
    "\n",
    "eval_df_tuned = tuned_eval_df.copy()\n",
    "eval_df_tuned = eval_df_tuned.drop(columns=['confusion_matrix'])\n",
    "eval_df_tuned[\"Type\"] = \"Tuned\""
   ]
  },
  {
   "cell_type": "code",
   "execution_count": null,
   "id": "85932669",
   "metadata": {},
   "outputs": [],
   "source": [
    "eval_comparison_df = pd.concat([eval_df_baseline, eval_df_tuned], ignore_index=True)\n",
    "display(eval_comparison_df)"
   ]
  },
  {
   "cell_type": "code",
   "execution_count": null,
   "id": "a9e42932",
   "metadata": {},
   "outputs": [],
   "source": [
    "1/0"
   ]
  },
  {
   "cell_type": "markdown",
   "id": "4df5f1b9",
   "metadata": {},
   "source": [
    "## Save the Trained Models"
   ]
  },
  {
   "cell_type": "code",
   "execution_count": null,
   "id": "3ca27536",
   "metadata": {},
   "outputs": [],
   "source": [
    "# Save as a pipeline that icludes the TF-IDF vectorizer and the model\n",
    "fitted_vectorizer = joblib.load(\"../../data/processed/tfidf/fitted_vectorizer.joblib\")\n",
    "\n",
    "pipeline_rf = Pipeline([\n",
    "  (\"tfidf\", fitted_vectorizer),\n",
    "  (\"rf\", rs_rf.best_estimator_)\n",
    "])\n",
    "\n",
    "joblib.dump(pipeline_rf, filename=\"../models/pipeline_rf_1.joblib\")\n",
    "print(\"Random Forest Classifier saved successfully!\")"
   ]
  },
  {
   "cell_type": "code",
   "execution_count": null,
   "id": "8fee7ea9",
   "metadata": {},
   "outputs": [],
   "source": [
    "pipeline_log_reg = Pipeline([\n",
    "  (\"tfidf\", fitted_vectorizer),\n",
    "  (\"log_reg\", rs_log_reg.best_estimator_)\n",
    "])\n",
    "\n",
    "joblib.dump(pipeline_log_reg, filename=\"../models/pipeline_log_reg_1.joblib\")\n",
    "print(\"Logistic Regression saved successfully!\")"
   ]
  },
  {
   "cell_type": "code",
   "execution_count": null,
   "id": "ed56b431",
   "metadata": {},
   "outputs": [],
   "source": []
  }
 ],
 "metadata": {
  "kernelspec": {
   "display_name": "bug-triage-env",
   "language": "python",
   "name": "python3"
  },
  "language_info": {
   "codemirror_mode": {
    "name": "ipython",
    "version": 3
   },
   "file_extension": ".py",
   "mimetype": "text/x-python",
   "name": "python",
   "nbconvert_exporter": "python",
   "pygments_lexer": "ipython3",
   "version": "3.11.13"
  }
 },
 "nbformat": 4,
 "nbformat_minor": 5
}
